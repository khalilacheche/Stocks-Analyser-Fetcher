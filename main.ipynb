{
  "nbformat": 4,
  "nbformat_minor": 0,
  "metadata": {
    "colab": {
      "name": "main.ipynb",
      "provenance": [],
      "collapsed_sections": []
    },
    "kernelspec": {
      "name": "python3",
      "display_name": "Python 3"
    }
  },
  "cells": [
    {
      "cell_type": "markdown",
      "metadata": {
        "id": "B4FUiItwyJOl",
        "colab_type": "text"
      },
      "source": [
        "Chargement de la base de donnée session8.db\n"
      ]
    },
    {
      "cell_type": "code",
      "metadata": {
        "id": "2yYVS3PaTTmQ",
        "colab_type": "code",
        "outputId": "a990f95c-002f-4421-ed32-3bc2b11f2bc1",
        "colab": {
          "base_uri": "https://localhost:8080/",
          "height": 207
        }
      },
      "source": [
        "!pip install mplfinance"
      ],
      "execution_count": 5,
      "outputs": [
        {
          "output_type": "stream",
          "text": [
            "Requirement already satisfied: mplfinance in /usr/local/lib/python3.6/dist-packages (0.12.3a3)\n",
            "Requirement already satisfied: pandas in /usr/local/lib/python3.6/dist-packages (from mplfinance) (1.0.3)\n",
            "Requirement already satisfied: matplotlib in /usr/local/lib/python3.6/dist-packages (from mplfinance) (3.2.1)\n",
            "Requirement already satisfied: python-dateutil>=2.6.1 in /usr/local/lib/python3.6/dist-packages (from pandas->mplfinance) (2.8.1)\n",
            "Requirement already satisfied: numpy>=1.13.3 in /usr/local/lib/python3.6/dist-packages (from pandas->mplfinance) (1.18.3)\n",
            "Requirement already satisfied: pytz>=2017.2 in /usr/local/lib/python3.6/dist-packages (from pandas->mplfinance) (2018.9)\n",
            "Requirement already satisfied: kiwisolver>=1.0.1 in /usr/local/lib/python3.6/dist-packages (from matplotlib->mplfinance) (1.2.0)\n",
            "Requirement already satisfied: pyparsing!=2.0.4,!=2.1.2,!=2.1.6,>=2.0.1 in /usr/local/lib/python3.6/dist-packages (from matplotlib->mplfinance) (2.4.7)\n",
            "Requirement already satisfied: cycler>=0.10 in /usr/local/lib/python3.6/dist-packages (from matplotlib->mplfinance) (0.10.0)\n",
            "Requirement already satisfied: six>=1.5 in /usr/local/lib/python3.6/dist-packages (from python-dateutil>=2.6.1->pandas->mplfinance) (1.12.0)\n"
          ],
          "name": "stdout"
        }
      ]
    },
    {
      "cell_type": "code",
      "metadata": {
        "id": "ywLIbB_VWchC",
        "colab_type": "code",
        "outputId": "158e6914-3724-4ee0-f2b5-af03e1e253e1",
        "colab": {
          "base_uri": "https://localhost:8080/",
          "height": 187
        }
      },
      "source": [
        "import pandas as pd # chargement des bases de donnees\n",
        "import sqlite3  # chargement/ ecriture dans les bases de donnees\n",
        "\n",
        "import requests # chargement des donnees depuis l'API\n",
        "from requests import get#\n",
        "\n",
        "import pprint #\n",
        "\n",
        "import os.path #lire des fichiers\n",
        "if not os.path.isfile(\"session8.db\"):\n",
        "    import urllib.request #telecharger un fichier depuis une url\n",
        "    urllib.request.urlretrieve(\"http://homepages.ulb.ac.be/~choffreu/session8.db\", \"session8.db\")#telechargement du fichier depuis lurl specifie sous le nom de session8.db\n",
        "\n",
        "SESSION8 = sqlite3.connect('session8.db') #creation de la connexion avec la BDD (rouge)\n",
        "cursor_SESSION8 = SESSION8.cursor() \n",
        "\n",
        "query = '''\n",
        "  SELECT name, gsector, ticker\n",
        "  FROM Companies \n",
        "  WHERE ticker IN (\"GOOGL\", \"AMZN\", \"FB\", \"AAPL\", \"IDMO\", \"FFR\", \"TECTP\",\"XTN\", \"FCAN\", \"MSFT\")\n",
        "'''\n",
        "information_from_session8 = pd.read_sql_query(query,SESSION8) \n",
        "\n",
        "print(information_from_session8)\n",
        "\n",
        "##ADD 5 companies\n",
        "\n",
        "\n",
        "\n",
        "\n",
        "\n"
      ],
      "execution_count": 7,
      "outputs": [
        {
          "output_type": "stream",
          "text": [
            "                           name                     gsector ticker\n",
            "0                  ALPHABET INC  Telecommunication Services  GOOGL\n",
            "1                  FACEBOOK INC  Telecommunication Services     FB\n",
            "2        TECTONIC FINANCIAL INC                         N/A  TECTP\n",
            "3                AMAZON.COM INC      Consumer Discretionary   AMZN\n",
            "4   SPDR S&P TRANSPORTATION ETF                         N/A    XTN\n",
            "5  FIRST TR FTSE EPRA/NAREIT DV                         N/A    FFR\n",
            "6  INVESCO S&P INTL DEV MTM ETF                         N/A   IDMO\n",
            "7   FIRST TR CANADA ALPHADEX FD                         N/A   FCAN\n",
            "8                     APPLE INC      Information Technology   AAPL\n"
          ],
          "name": "stdout"
        }
      ]
    },
    {
      "cell_type": "markdown",
      "metadata": {
        "id": "bqaxKeMYv-71",
        "colab_type": "text"
      },
      "source": [
        "Intialisation de la BDD du Projet:\n",
        "\n",
        "-Creation des tableaux\n",
        "\n",
        "-Copie des infos de la BDD session8 dans la BDD du projet\n",
        "\n"
      ]
    },
    {
      "cell_type": "code",
      "metadata": {
        "id": "Ed3tioE6v8Tc",
        "colab_type": "code",
        "colab": {}
      },
      "source": [
        "PROJET = sqlite3.connect('PROJET.db')\n",
        "cursor_PROJET = PROJET.cursor()\n",
        "\n",
        "#########Tableau Companies#########\n",
        "\n",
        "\n",
        "####Ticker est la cle primaire pour permettre que ce soit une cle secondaire dans Candlesticks et alerts\n",
        "cursor_PROJET.execute(\"\"\"\n",
        "CREATE TABLE IF NOT EXISTS Companies(\n",
        "  ticker TEXT PRIMARY KEY UNIQUE,\n",
        "  gsector TEXT,\n",
        "  name TEXT\n",
        ")\n",
        "\"\"\")\n",
        "PROJET.commit()\n",
        "for i in range(0, len(information_from_session8) ):\n",
        "\n",
        "  cursor_PROJET.execute(\n",
        "                        \"\"\"INSERT INTO\n",
        "                              Companies(ticker,gsector,name) \n",
        "                              VALUES   (  ? ,   ?   ,  ?   )\n",
        "                        \"\"\",(\n",
        "                              information_from_session8[\"ticker\"][i],\n",
        "                              information_from_session8[\"gsector\"][i],\n",
        "                              information_from_session8[\"name\"][i] \n",
        "                            )\n",
        "                      )\n",
        "  \n",
        "  PROJET.commit()\n",
        "\n",
        "cursor_PROJET.execute(\"INSERT INTO Companies(ticker,gsector,name) VALUES ('MSFT', 'IT Services', 'Microsoft')\")\n",
        "PROJET.commit()\n",
        "\n",
        "#########Tableau Directions#########\n",
        "query='''\n",
        "        CREATE TABLE IF NOT EXISTS Directions (\n",
        "          direction TEXT PRIMARY KEY UNIQUE\n",
        "        )\n",
        "'''\n",
        "\n",
        "cursor_PROJET.execute(query)\n",
        "PROJET.commit()\n",
        "\n",
        "directions=[\"max\",\"min\"]\n",
        "for i in directions:\n",
        "  cursor_PROJET.execute(\n",
        "                        \"\"\"INSERT INTO\n",
        "                              Directions(direction) \n",
        "                              VALUES   ( ? )\n",
        "                        \"\"\",(i,))\n",
        "  \n",
        "  PROJET.commit()\n",
        "\n",
        "#########Tableau Sources#########\n",
        "query=\"\"\"\n",
        "        CREATE TABLE IF NOT EXISTS Sources (\n",
        "          source TEXT PRIMARY KEY UNIQUE\n",
        "        )\n",
        "      \"\"\"\n",
        "cursor_PROJET.execute(query)\n",
        "PROJET.commit()\n",
        "sources=[\"open\",\"close\",\"high\",\"low\"]\n",
        "for i in sources:\n",
        "  cursor_PROJET.execute(\n",
        "                        \"\"\"INSERT INTO\n",
        "                              Sources(source) \n",
        "                              VALUES   ( ? )\n",
        "                        \"\"\",( \n",
        "                             i, \n",
        "                            )\n",
        "                      )\n",
        "  \n",
        "  PROJET.commit()\n",
        "\n",
        "#########Tableau Candlesticks#########\n",
        "query=\"\"\"\n",
        "        CREATE TABLE IF NOT EXISTS Candlesticks (\n",
        "          id INTEGER PRIMARY KEY,\n",
        "          open_price FLOAT,\n",
        "          high_price FLOAT,\n",
        "          close_price FLOAT,\n",
        "          low_price FLOAT,\n",
        "          volume INT,\n",
        "          date DATE,\n",
        "          ticker TEXT,\n",
        "          FOREIGN KEY (ticker) REFERENCES Companies (ticker)\n",
        "        )\n",
        "      \"\"\"\n",
        "cursor_PROJET.execute(query)\n",
        "PROJET.commit()\n",
        "#########Tableau Alerts#########\n",
        "query=\"\"\"\n",
        "        CREATE TABLE IF NOT EXISTS Alerts (\n",
        "          name TEXT PRIMARY KEY UNIQUE,\n",
        "          date_start DATE,\n",
        "          date_end DATE,\n",
        "          start_value FLOAT,\n",
        "          end_value FLOAT,\n",
        "          source TEXT,\n",
        "          direction TEXT,\n",
        "          ticker TEXT,\n",
        "          FOREIGN KEY (source) REFERENCES Sources (source)\n",
        "          FOREIGN KEY (direction) REFERENCES Directions (direction)\n",
        "          FOREIGN KEY (ticker) REFERENCES Companies (ticker)\n",
        "        )\n",
        "      \"\"\"\n",
        "cursor_PROJET.execute(query)\n",
        "PROJET.commit()\n",
        "\n",
        "\n",
        "\n"
      ],
      "execution_count": 0,
      "outputs": []
    },
    {
      "cell_type": "markdown",
      "metadata": {
        "id": "u7beVvuz01Ak",
        "colab_type": "text"
      },
      "source": [
        "Chargement des tickers"
      ]
    },
    {
      "cell_type": "code",
      "metadata": {
        "id": "nIxM0Cks0z_P",
        "colab_type": "code",
        "outputId": "9908dab6-ba66-4710-8128-5389793ca94a",
        "colab": {
          "base_uri": "https://localhost:8080/",
          "height": 204
        }
      },
      "source": [
        "\n",
        "query = '''\n",
        "SELECT *\n",
        "FROM Companies \n",
        "'''\n",
        "resultat_PROJET_COMPANIES = pd.read_sql_query(query,PROJET)\n",
        "print(resultat_PROJET_COMPANIES)"
      ],
      "execution_count": 9,
      "outputs": [
        {
          "output_type": "stream",
          "text": [
            "  ticker                     gsector                          name\n",
            "0  GOOGL  Telecommunication Services                  ALPHABET INC\n",
            "1     FB  Telecommunication Services                  FACEBOOK INC\n",
            "2  TECTP                         N/A        TECTONIC FINANCIAL INC\n",
            "3   AMZN      Consumer Discretionary                AMAZON.COM INC\n",
            "4    XTN                         N/A   SPDR S&P TRANSPORTATION ETF\n",
            "5    FFR                         N/A  FIRST TR FTSE EPRA/NAREIT DV\n",
            "6   IDMO                         N/A  INVESCO S&P INTL DEV MTM ETF\n",
            "7   FCAN                         N/A   FIRST TR CANADA ALPHADEX FD\n",
            "8   AAPL      Information Technology                     APPLE INC\n",
            "9   MSFT                 IT Services                     Microsoft\n"
          ],
          "name": "stdout"
        }
      ]
    },
    {
      "cell_type": "markdown",
      "metadata": {
        "id": "FB0uyvt0xMTj",
        "colab_type": "text"
      },
      "source": [
        "Chargement des données depuis l'API"
      ]
    },
    {
      "cell_type": "code",
      "metadata": {
        "id": "e983QswcxMsF",
        "colab_type": "code",
        "colab": {}
      },
      "source": [
        "token = \"bpog5jfrh5ra872e4vkg\"\n",
        "liste_des_actions = resultat_PROJET_COMPANIES[\"ticker\"]\n",
        "        \n",
        "from datetime import datetime\n",
        "start_date = datetime(2019, 1, 1)\n",
        "#start_timestamp = int(datetime.timestamp(start_date)) # <-- ca donne le nombre de secondes écoulées entre le 1/1/1970 à 00:00 et 1/1/2020 \n",
        "end_timestamp = int(datetime.timestamp(datetime.now())) #Prise des dates jusqua maintenant\n",
        "#start_date = datetime(2020, 1, 13) # <-- LUNDI 13 janvier 2020 \n",
        "start_timestamp = int(datetime.timestamp(start_date)) # <-- ca donne le nombre de secondes écoulées entre le 1/1/1970 à 00:00 et 1/1/2020 \n",
        "#end_date = datetime(2020, 1, 17)   # <-- Vendredi 17 janvier 2020 NON COMPRIS\n",
        "#end_timestamp = int(datetime.timestamp(end_date))\n",
        "\n",
        "\n",
        "companies_candle = {}\n",
        "\n",
        "for i in range(0, len(liste_des_actions)):\n",
        "      API_URL = 'https://finnhub.io/api/v1/stock/candle?symbol=' + liste_des_actions[i] + '&resolution=D&from=' + str(start_timestamp) + '&to=' + str(end_timestamp) + '&token=' + token\n",
        "      \n",
        "      REPONSE_DE_L_API = requests.get(API_URL).json()\n",
        "      companies_candle[liste_des_actions[i]] = REPONSE_DE_L_API\n",
        "#pprint.pprint(companies_candle)"
      ],
      "execution_count": 0,
      "outputs": []
    },
    {
      "cell_type": "markdown",
      "metadata": {
        "id": "28D1L-1ufkqX",
        "colab_type": "text"
      },
      "source": [
        "Remplissage du tableau Candlesticks\n"
      ]
    },
    {
      "cell_type": "code",
      "metadata": {
        "id": "jyg0MO52k7hW",
        "colab_type": "code",
        "outputId": "dffd5d5d-10ec-455f-8fe3-a2752114dba6",
        "colab": {
          "base_uri": "https://localhost:8080/",
          "height": 255
        }
      },
      "source": [
        "for i in companies_candle.keys():\n",
        "  if companies_candle[i][\"s\"] == \"ok\":\n",
        "    for k in range(len(companies_candle[i][\"o\"])):\n",
        "      date=datetime.fromtimestamp(int(companies_candle[i][\"t\"][k])).strftime(\"%Y/%m/%d\")\n",
        "      cursor_PROJET.execute(\n",
        "                          \"\"\"INSERT INTO\n",
        "                                Candlesticks(open_price,high_price,close_price,low_price,volume,date,ticker) \n",
        "                                VALUES   (?,?,?,?,?,?,?)\n",
        "                          \"\"\",(\n",
        "                                companies_candle[i][\"o\"][k],\n",
        "                                companies_candle[i][\"h\"][k],\n",
        "                                companies_candle[i][\"c\"][k],\n",
        "                                companies_candle[i][\"l\"][k],\n",
        "                                companies_candle[i][\"v\"][k],\n",
        "                                date,\n",
        "                                i\n",
        "                                \n",
        "                              )\n",
        "                        )\n",
        "    \n",
        "    PROJET.commit()\n",
        "\n",
        "query = '''\n",
        "SELECT *\n",
        "FROM Candlesticks\n",
        "'''\n",
        "resultat_PROJET_CANDLESTICKS = pd.read_sql_query(query,PROJET)\n",
        "print(resultat_PROJET_CANDLESTICKS)"
      ],
      "execution_count": 11,
      "outputs": [
        {
          "output_type": "stream",
          "text": [
            "        id  open_price  high_price  ...    volume        date  ticker\n",
            "0        1   1027.2000     1060.79  ...   1593400  2019/01/02   GOOGL\n",
            "1        2   1050.6700     1066.26  ...   2098000  2019/01/03   GOOGL\n",
            "2        3   1042.5601     1080.00  ...   2301100  2019/01/04   GOOGL\n",
            "3        4   1080.9700     1082.70  ...   2372300  2019/01/07   GOOGL\n",
            "4        5   1086.0000     1093.35  ...   1770700  2019/01/08   GOOGL\n",
            "...    ...         ...         ...  ...       ...         ...     ...\n",
            "3232  3233    174.1100      175.06  ...  32790800  2020/04/23    MSFT\n",
            "3233  3234    172.0600      174.56  ...  34305300  2020/04/24    MSFT\n",
            "3234  3235    176.5900      176.90  ...  33194400  2020/04/27    MSFT\n",
            "3235  3236    175.5900      175.67  ...  34276600  2020/04/28    MSFT\n",
            "3236  3237    173.2200      177.59  ...  36017583  2020/04/29    MSFT\n",
            "\n",
            "[3237 rows x 8 columns]\n"
          ],
          "name": "stdout"
        }
      ]
    },
    {
      "cell_type": "markdown",
      "metadata": {
        "id": "4e0drCCDzfvN",
        "colab_type": "text"
      },
      "source": [
        "![Texte alternatif…](https://imgur.com/xgvpxyx.png)"
      ]
    },
    {
      "cell_type": "markdown",
      "metadata": {
        "id": "1J-GiYSd1WeP",
        "colab_type": "text"
      },
      "source": [
        "QUESTION 1:"
      ]
    },
    {
      "cell_type": "code",
      "metadata": {
        "id": "AIKIS7OnyXSp",
        "colab_type": "code",
        "outputId": "ccf08682-bc77-4a44-c8f7-e5cb341b3117",
        "colab": {
          "base_uri": "https://localhost:8080/",
          "height": 54
        }
      },
      "source": [
        "query = '''\n",
        "  SELECT ticker\n",
        "  FROM Companies '''\n",
        "PROJET = sqlite3.connect('PROJET.db')\n",
        "cursor_PROJET = PROJET.cursor()\n",
        "liste_tickers = pd.read_sql_query(query,PROJET)\n",
        "max_dict={}\n",
        "for index, row in liste_tickers.iterrows():\n",
        "    query = '''\n",
        "      SELECT open_price,close_price\n",
        "      FROM Candlesticks WHERE ticker IN (\\\"'''+row['ticker']+\"\\\")\"\n",
        "    cd_df=pd.read_sql_query(query,PROJET)\n",
        "    difference_q1=0\n",
        "    for index_cd, row_cd in cd_df.iterrows():\n",
        "        if(index_cd!=0):\n",
        "          if((cd_df.loc[index_cd-1,\"close_price\"]/row_cd[\"open_price\"])>difference_q1):\n",
        "            difference_q1=cd_df.loc[index_cd-1,\"close_price\"]/row_cd[\"open_price\"]\n",
        "\n",
        "    max_dict[row['ticker']]=difference_q1\n",
        "\n",
        "print(max_dict)"
      ],
      "execution_count": 13,
      "outputs": [
        {
          "output_type": "stream",
          "text": [
            "{'AAPL': 1.1488737342426123, 'AMZN': 1.0874134181333042, 'FB': 1.1179096638655464, 'FCAN': 1.160220994475138, 'FFR': 1.2027194066749074, 'GOOGL': 1.114407907416415, 'IDMO': 1.1164069660861595, 'MSFT': 1.1345, 'TECTP': 1.149821640903686, 'XTN': 1.0713309024612578}\n"
          ],
          "name": "stdout"
        }
      ]
    },
    {
      "cell_type": "markdown",
      "metadata": {
        "id": "Cf3ckl1mDXFB",
        "colab_type": "text"
      },
      "source": [
        "QUESTION 2:"
      ]
    },
    {
      "cell_type": "code",
      "metadata": {
        "id": "1uT7ULcKDcZe",
        "colab_type": "code",
        "outputId": "c3b6d05c-c171-40bd-ce98-b2606fecaa6c",
        "colab": {
          "base_uri": "https://localhost:8080/",
          "height": 54
        }
      },
      "source": [
        "query = '''\n",
        "  SELECT ticker\n",
        "  FROM Companies '''\n",
        "PROJET = sqlite3.connect('PROJET.db')\n",
        "cursor_PROJET = PROJET.cursor()\n",
        "liste_tickers = pd.read_sql_query(query,PROJET)\n",
        "max_df={}\n",
        "for index, row in liste_tickers.iterrows():\n",
        "    query = '''\n",
        "      SELECT high_price,low_price\n",
        "      FROM Candlesticks WHERE ticker IN (\\\"'''+row['ticker']+\"\\\")\"\n",
        "    cd_df=pd.read_sql_query(query,PROJET)\n",
        "    diff_df=(cd_df.assign(difference=lambda x :x[\"high_price\"]-x[\"low_price\"])).loc[:,\"difference\"]\n",
        "    max_df[row[\"ticker\"]]=diff_df.max()\n",
        "\n",
        "print(max_df)"
      ],
      "execution_count": 15,
      "outputs": [
        {
          "output_type": "stream",
          "text": [
            "{'AAPL': 26.970000000000027, 'AMZN': 168.53999999999996, 'FB': 16.03, 'FCAN': 1.459999999999999, 'FFR': 3.770000000000003, 'GOOGL': 102.11000000000013, 'IDMO': 0.9700000000000024, 'MSFT': 21.180000000000007, 'TECTP': 0.9599999999999991, 'XTN': 4.519999999999996}\n"
          ],
          "name": "stdout"
        }
      ]
    },
    {
      "cell_type": "markdown",
      "metadata": {
        "id": "6G7ZspG0IkLs",
        "colab_type": "text"
      },
      "source": [
        "QUESTION 3:"
      ]
    },
    {
      "cell_type": "code",
      "metadata": {
        "id": "-CzblhVAInOb",
        "colab_type": "code",
        "outputId": "bee6fd1a-6eb8-4f02-9c67-ea5bfb43b21c",
        "colab": {
          "base_uri": "https://localhost:8080/",
          "height": 34
        }
      },
      "source": [
        "def evolution (ticker,date_debut,date_fin):\n",
        "  query = '''\n",
        "      SELECT close_price,date\n",
        "      FROM Candlesticks WHERE (ticker IN (\\\"'''+ticker+\"\\\")\"+'''\n",
        "      AND (date=\\''''+date_debut.strftime(\"%Y/%m/%d\")+\"\\' OR date=\\'\"+date_fin.strftime(\"%Y/%m/%d\")+\"\\'))\"\n",
        "  \n",
        "  PROJET = sqlite3.connect('PROJET.db')\n",
        "  cursor_PROJET = PROJET.cursor()\n",
        "  df=pd.read_sql_query(query,PROJET)\n",
        "  return (df.loc[1,\"close_price\"]-df.loc[0,\"close_price\"])/df.loc[0,\"close_price\"]\n",
        "\n",
        "evolution(\"AAPL\",datetime(2020, 1, 13),datetime(2020, 1, 15))"
      ],
      "execution_count": 16,
      "outputs": [
        {
          "output_type": "execute_result",
          "data": {
            "text/plain": [
              "-0.0177309439676931"
            ]
          },
          "metadata": {
            "tags": []
          },
          "execution_count": 16
        }
      ]
    },
    {
      "cell_type": "markdown",
      "metadata": {
        "id": "LLctgQJTXdW0",
        "colab_type": "text"
      },
      "source": [
        "QUESTION 4:"
      ]
    },
    {
      "cell_type": "code",
      "metadata": {
        "id": "0u0jFhuEXkFf",
        "colab_type": "code",
        "outputId": "de603949-5330-4426-f38c-b04601638738",
        "colab": {
          "base_uri": "https://localhost:8080/",
          "height": 34
        }
      },
      "source": [
        "def nbVar (ticker,date_debut,date_fin,valeur_limite):\n",
        "  query = '''\n",
        "      SELECT open_price,close_price\n",
        "      FROM Candlesticks WHERE (ticker IN (\\\"'''+ticker+\"\\\")\"+'''\n",
        "      AND (date>=\\''''+date_debut.strftime(\"%Y/%m/%d\")+\"\\' AND date<=\\'\"+date_fin.strftime(\"%Y/%m/%d\")+\"\\'))\"\n",
        "  PROJET = sqlite3.connect('PROJET.db')\n",
        "  cursor_PROJET = PROJET.cursor()\n",
        "  df=pd.read_sql_query(query,PROJET)\n",
        "  diff_df=(df.assign(difference=lambda x :abs(x[\"open_price\"]-x[\"close_price\"]))).loc[:,\"difference\"]\n",
        "  return diff_df[diff_df > valeur_limite].count()\n",
        "\n",
        "print(nbVar(\"AAPL\",datetime(2020, 1, 13),datetime(2020, 1, 15),1))"
      ],
      "execution_count": 17,
      "outputs": [
        {
          "output_type": "stream",
          "text": [
            "2\n"
          ],
          "name": "stdout"
        }
      ]
    },
    {
      "cell_type": "markdown",
      "metadata": {
        "id": "wE_lPOahbn5c",
        "colab_type": "text"
      },
      "source": [
        "QUESTION 5:"
      ]
    },
    {
      "cell_type": "code",
      "metadata": {
        "id": "WlIVwkb5vZrY",
        "colab_type": "code",
        "colab": {
          "base_uri": "https://localhost:8080/",
          "height": 542
        },
        "outputId": "cdef3d4c-022e-4bd0-b63b-c0e4c7a88856"
      },
      "source": [
        "#!pip install plotly\n",
        "import plotly.graph_objects as go\n",
        "def draw_graph (ticker, date_debut,date_fin):\n",
        "    query = '''\n",
        "      SELECT open_price,close_price,high_price,low_price,date\n",
        "      FROM Candlesticks WHERE (ticker IN (\\\"'''+ticker+\"\\\")\"+'''\n",
        "      AND (date>=\\''''+date_debut.strftime(\"%Y/%m/%d\")+\"\\' AND date<=\\'\"+date_fin.strftime(\"%Y/%m/%d\")+\"\\'))\"\n",
        "    PROJET = sqlite3.connect('PROJET.db')\n",
        "    cursor_PROJET = PROJET.cursor()\n",
        "    df=pd.read_sql_query(query,PROJET) \n",
        "    layout =dict(\n",
        "        xaxis=go.layout.XAxis(rangeslider=dict (visible = False)),\n",
        "        \n",
        "    )\n",
        "    max_value=df[[\"open_price\",\"close_price\"]].max().max()\n",
        "    min_value=df[[\"open_price\",\"close_price\"]].min().min()\n",
        "    fig = go.Figure(data=[go.Candlestick(x=df['date'],\n",
        "                open=df['open_price'],\n",
        "                high=df['high_price'],\n",
        "                low=df['low_price'],\n",
        "                close=df['close_price'])],layout=layout)\n",
        "    fig.add_shape(\n",
        "            type=\"line\",\n",
        "            x0=df['date'][0],\n",
        "            y0=max_value,\n",
        "            x1=df['date'].iloc[-1],\n",
        "            y1=max_value,\n",
        "            line=dict(\n",
        "                color=\"orange\",\n",
        "                width=1,\n",
        "                dash=\"dashdot\",\n",
        "            ),\n",
        "    )\n",
        "    fig.add_shape(\n",
        "            type=\"line\",\n",
        "            x0=df['date'][0],\n",
        "            y0=min_value,\n",
        "            x1=df['date'].iloc[-1],\n",
        "            y1=min_value,\n",
        "            line=dict(\n",
        "                color=\"orange\",\n",
        "                width=1,\n",
        "                dash=\"dashdot\",\n",
        "            ),\n",
        "    )\n",
        "    fig.show()\n",
        "    \n",
        "draw_graph(\"AAPL\",datetime(2020, 1, 1),datetime.now())    "
      ],
      "execution_count": 89,
      "outputs": [
        {
          "output_type": "display_data",
          "data": {
            "text/html": [
              "<html>\n",
              "<head><meta charset=\"utf-8\" /></head>\n",
              "<body>\n",
              "    <div>\n",
              "            <script src=\"https://cdnjs.cloudflare.com/ajax/libs/mathjax/2.7.5/MathJax.js?config=TeX-AMS-MML_SVG\"></script><script type=\"text/javascript\">if (window.MathJax) {MathJax.Hub.Config({SVG: {font: \"STIX-Web\"}});}</script>\n",
              "                <script type=\"text/javascript\">window.PlotlyConfig = {MathJaxConfig: 'local'};</script>\n",
              "        <script src=\"https://cdn.plot.ly/plotly-latest.min.js\"></script>    \n",
              "            <div id=\"c66ce875-0118-45e8-b5e8-6e4a06f8cf15\" class=\"plotly-graph-div\" style=\"height:525px; width:100%;\"></div>\n",
              "            <script type=\"text/javascript\">\n",
              "                \n",
              "                    window.PLOTLYENV=window.PLOTLYENV || {};\n",
              "                    \n",
              "                if (document.getElementById(\"c66ce875-0118-45e8-b5e8-6e4a06f8cf15\")) {\n",
              "                    Plotly.newPlot(\n",
              "                        'c66ce875-0118-45e8-b5e8-6e4a06f8cf15',\n",
              "                        [{\"close\": [300.35, 297.43, 299.8, 298.39, 303.19, 309.63, 310.33, 316.96, 312.68, 311.34, 315.24, 318.73, 316.57, 317.7, 319.23, 318.31, 308.95, 317.69, 324.34, 323.87, 309.51, 308.66, 318.85, 321.45, 325.21, 320.03, 321.55, 319.61, 327.2, 324.87, 324.95, 319.0, 323.62, 320.3, 313.05, 298.18, 288.08, 292.65, 273.52, 273.36, 298.81, 289.32, 302.74, 292.92, 289.03, 266.17, 285.34, 275.43, 248.23, 277.97, 242.21, 252.86, 246.67, 244.78, 229.24, 224.37, 246.88, 245.52, 258.44, 247.74, 254.81, 254.29, 240.91, 244.93, 241.41, 262.47, 259.43, 266.07, 267.99, 273.25, 287.05, 284.43, 286.69, 282.8, 276.93, 268.37, 276.1, 275.03, 282.97, 283.17, 278.58, 288.33], \"high\": [300.6, 300.58, 299.96, 300.9, 304.44, 310.43, 312.67, 317.07, 317.57, 315.5, 315.7, 318.74, 319.02, 319.99, 319.56, 323.33, 311.77, 318.4, 327.85, 324.09, 322.68, 313.49, 319.64, 324.76, 325.22, 323.4, 321.55, 323.9, 327.22, 326.22, 325.98, 319.75, 324.57, 324.65, 320.45, 304.18, 302.53, 297.88, 286.0, 278.41, 301.44, 304.0, 303.4, 299.55, 290.82, 278.09, 286.44, 281.22, 270.0, 279.92, 259.08, 257.61, 250.0, 252.84, 251.83, 228.5, 247.69, 258.25, 258.68, 255.87, 255.52, 262.49, 248.72, 245.15, 245.7, 263.11, 271.7, 267.37, 270.07, 273.7, 288.25, 286.33, 288.2, 286.95, 281.68, 277.25, 277.9, 281.75, 283.01, 284.54, 285.83, 289.67], \"low\": [295.19, 296.5, 292.75, 297.48, 297.16, 306.2, 308.25, 311.15, 312.17, 309.55, 312.09, 315.0, 316.0, 317.31, 315.65, 317.52, 304.88, 312.19, 321.38, 318.75, 308.29, 302.22, 313.63, 318.95, 320.26, 318.0, 313.85, 318.71, 321.47, 323.35, 322.85, 314.61, 320.0, 318.21, 310.5, 289.23, 286.13, 286.5, 272.96, 256.37, 277.72, 285.8, 293.13, 291.41, 281.23, 263.0, 269.37, 271.86, 248.0, 252.95, 240.0, 238.4, 237.12, 242.61, 228.0, 212.61, 234.3, 244.3, 246.36, 247.05, 249.4, 252.0, 239.13, 236.9, 238.97, 249.38, 259.0, 261.23, 264.7, 265.83, 278.05, 280.63, 282.35, 276.86, 276.85, 265.43, 272.2, 274.87, 277.0, 279.95, 278.2, 283.89], \"open\": [296.24, 297.15, 293.79, 299.84, 297.16, 307.24, 310.6, 311.64, 316.7, 311.85, 313.59, 316.27, 317.19, 318.58, 317.92, 320.25, 310.06, 312.6, 324.45, 320.54, 320.93, 304.3, 315.31, 323.52, 322.57, 322.37, 314.18, 323.6, 321.47, 324.19, 324.74, 315.36, 320.0, 322.63, 318.62, 297.26, 300.95, 286.53, 281.1, 257.26, 282.28, 303.67, 296.44, 295.52, 282.0, 263.75, 277.14, 277.39, 255.94, 264.89, 241.95, 247.51, 239.77, 247.39, 247.18, 228.08, 236.36, 250.75, 246.52, 252.75, 250.74, 255.6, 246.5, 240.34, 242.8, 250.9, 270.8, 262.74, 268.7, 268.31, 280.0, 282.4, 287.38, 284.69, 277.95, 276.28, 273.61, 275.87, 277.2, 281.8, 285.08, 284.73], \"type\": \"candlestick\", \"x\": [\"2020/01/02\", \"2020/01/03\", \"2020/01/06\", \"2020/01/07\", \"2020/01/08\", \"2020/01/09\", \"2020/01/10\", \"2020/01/13\", \"2020/01/14\", \"2020/01/15\", \"2020/01/16\", \"2020/01/17\", \"2020/01/21\", \"2020/01/22\", \"2020/01/23\", \"2020/01/24\", \"2020/01/27\", \"2020/01/28\", \"2020/01/29\", \"2020/01/30\", \"2020/01/31\", \"2020/02/03\", \"2020/02/04\", \"2020/02/05\", \"2020/02/06\", \"2020/02/07\", \"2020/02/10\", \"2020/02/11\", \"2020/02/12\", \"2020/02/13\", \"2020/02/14\", \"2020/02/18\", \"2020/02/19\", \"2020/02/20\", \"2020/02/21\", \"2020/02/24\", \"2020/02/25\", \"2020/02/26\", \"2020/02/27\", \"2020/02/28\", \"2020/03/02\", \"2020/03/03\", \"2020/03/04\", \"2020/03/05\", \"2020/03/06\", \"2020/03/09\", \"2020/03/10\", \"2020/03/11\", \"2020/03/12\", \"2020/03/13\", \"2020/03/16\", \"2020/03/17\", \"2020/03/18\", \"2020/03/19\", \"2020/03/20\", \"2020/03/23\", \"2020/03/24\", \"2020/03/25\", \"2020/03/26\", \"2020/03/27\", \"2020/03/30\", \"2020/03/31\", \"2020/04/01\", \"2020/04/02\", \"2020/04/03\", \"2020/04/06\", \"2020/04/07\", \"2020/04/08\", \"2020/04/09\", \"2020/04/13\", \"2020/04/14\", \"2020/04/15\", \"2020/04/16\", \"2020/04/17\", \"2020/04/20\", \"2020/04/21\", \"2020/04/22\", \"2020/04/23\", \"2020/04/24\", \"2020/04/27\", \"2020/04/28\", \"2020/04/29\"]}],\n",
              "                        {\"shapes\": [{\"line\": {\"color\": \"orange\", \"dash\": \"dashdot\", \"width\": 1}, \"type\": \"line\", \"x0\": \"2020/01/02\", \"x1\": \"2020/04/29\", \"y0\": 327.2, \"y1\": 327.2}, {\"line\": {\"color\": \"orange\", \"dash\": \"dashdot\", \"width\": 1}, \"type\": \"line\", \"x0\": \"2020/01/02\", \"x1\": \"2020/04/29\", \"y0\": 224.37, \"y1\": 224.37}], \"template\": {\"data\": {\"bar\": [{\"error_x\": {\"color\": \"#2a3f5f\"}, \"error_y\": {\"color\": \"#2a3f5f\"}, \"marker\": {\"line\": {\"color\": \"#E5ECF6\", \"width\": 0.5}}, \"type\": \"bar\"}], \"barpolar\": [{\"marker\": {\"line\": {\"color\": \"#E5ECF6\", \"width\": 0.5}}, \"type\": \"barpolar\"}], \"carpet\": [{\"aaxis\": {\"endlinecolor\": \"#2a3f5f\", \"gridcolor\": \"white\", \"linecolor\": \"white\", \"minorgridcolor\": \"white\", \"startlinecolor\": \"#2a3f5f\"}, \"baxis\": {\"endlinecolor\": \"#2a3f5f\", \"gridcolor\": \"white\", \"linecolor\": \"white\", \"minorgridcolor\": \"white\", \"startlinecolor\": \"#2a3f5f\"}, \"type\": \"carpet\"}], \"choropleth\": [{\"colorbar\": {\"outlinewidth\": 0, \"ticks\": \"\"}, \"type\": \"choropleth\"}], \"contour\": [{\"colorbar\": {\"outlinewidth\": 0, \"ticks\": \"\"}, \"colorscale\": [[0.0, \"#0d0887\"], [0.1111111111111111, \"#46039f\"], [0.2222222222222222, \"#7201a8\"], [0.3333333333333333, \"#9c179e\"], [0.4444444444444444, \"#bd3786\"], [0.5555555555555556, \"#d8576b\"], [0.6666666666666666, \"#ed7953\"], [0.7777777777777778, \"#fb9f3a\"], [0.8888888888888888, \"#fdca26\"], [1.0, \"#f0f921\"]], \"type\": \"contour\"}], \"contourcarpet\": [{\"colorbar\": {\"outlinewidth\": 0, \"ticks\": \"\"}, \"type\": \"contourcarpet\"}], \"heatmap\": [{\"colorbar\": {\"outlinewidth\": 0, \"ticks\": \"\"}, \"colorscale\": [[0.0, \"#0d0887\"], [0.1111111111111111, \"#46039f\"], [0.2222222222222222, \"#7201a8\"], [0.3333333333333333, \"#9c179e\"], [0.4444444444444444, \"#bd3786\"], [0.5555555555555556, \"#d8576b\"], [0.6666666666666666, \"#ed7953\"], [0.7777777777777778, \"#fb9f3a\"], [0.8888888888888888, \"#fdca26\"], [1.0, \"#f0f921\"]], \"type\": \"heatmap\"}], \"heatmapgl\": [{\"colorbar\": {\"outlinewidth\": 0, \"ticks\": \"\"}, \"colorscale\": [[0.0, \"#0d0887\"], [0.1111111111111111, \"#46039f\"], [0.2222222222222222, \"#7201a8\"], [0.3333333333333333, \"#9c179e\"], [0.4444444444444444, \"#bd3786\"], [0.5555555555555556, \"#d8576b\"], [0.6666666666666666, \"#ed7953\"], [0.7777777777777778, \"#fb9f3a\"], [0.8888888888888888, \"#fdca26\"], [1.0, \"#f0f921\"]], \"type\": \"heatmapgl\"}], \"histogram\": [{\"marker\": {\"colorbar\": {\"outlinewidth\": 0, \"ticks\": \"\"}}, \"type\": \"histogram\"}], \"histogram2d\": [{\"colorbar\": {\"outlinewidth\": 0, \"ticks\": \"\"}, \"colorscale\": [[0.0, \"#0d0887\"], [0.1111111111111111, \"#46039f\"], [0.2222222222222222, \"#7201a8\"], [0.3333333333333333, \"#9c179e\"], [0.4444444444444444, \"#bd3786\"], [0.5555555555555556, \"#d8576b\"], [0.6666666666666666, \"#ed7953\"], [0.7777777777777778, \"#fb9f3a\"], [0.8888888888888888, \"#fdca26\"], [1.0, \"#f0f921\"]], \"type\": \"histogram2d\"}], \"histogram2dcontour\": [{\"colorbar\": {\"outlinewidth\": 0, \"ticks\": \"\"}, \"colorscale\": [[0.0, \"#0d0887\"], [0.1111111111111111, \"#46039f\"], [0.2222222222222222, \"#7201a8\"], [0.3333333333333333, \"#9c179e\"], [0.4444444444444444, \"#bd3786\"], [0.5555555555555556, \"#d8576b\"], [0.6666666666666666, \"#ed7953\"], [0.7777777777777778, \"#fb9f3a\"], [0.8888888888888888, \"#fdca26\"], [1.0, \"#f0f921\"]], \"type\": \"histogram2dcontour\"}], \"mesh3d\": [{\"colorbar\": {\"outlinewidth\": 0, \"ticks\": \"\"}, \"type\": \"mesh3d\"}], \"parcoords\": [{\"line\": {\"colorbar\": {\"outlinewidth\": 0, \"ticks\": \"\"}}, \"type\": \"parcoords\"}], \"pie\": [{\"automargin\": true, \"type\": \"pie\"}], \"scatter\": [{\"marker\": {\"colorbar\": {\"outlinewidth\": 0, \"ticks\": \"\"}}, \"type\": \"scatter\"}], \"scatter3d\": [{\"line\": {\"colorbar\": {\"outlinewidth\": 0, \"ticks\": \"\"}}, \"marker\": {\"colorbar\": {\"outlinewidth\": 0, \"ticks\": \"\"}}, \"type\": \"scatter3d\"}], \"scattercarpet\": [{\"marker\": {\"colorbar\": {\"outlinewidth\": 0, \"ticks\": \"\"}}, \"type\": \"scattercarpet\"}], \"scattergeo\": [{\"marker\": {\"colorbar\": {\"outlinewidth\": 0, \"ticks\": \"\"}}, \"type\": \"scattergeo\"}], \"scattergl\": [{\"marker\": {\"colorbar\": {\"outlinewidth\": 0, \"ticks\": \"\"}}, \"type\": \"scattergl\"}], \"scattermapbox\": [{\"marker\": {\"colorbar\": {\"outlinewidth\": 0, \"ticks\": \"\"}}, \"type\": \"scattermapbox\"}], \"scatterpolar\": [{\"marker\": {\"colorbar\": {\"outlinewidth\": 0, \"ticks\": \"\"}}, \"type\": \"scatterpolar\"}], \"scatterpolargl\": [{\"marker\": {\"colorbar\": {\"outlinewidth\": 0, \"ticks\": \"\"}}, \"type\": \"scatterpolargl\"}], \"scatterternary\": [{\"marker\": {\"colorbar\": {\"outlinewidth\": 0, \"ticks\": \"\"}}, \"type\": \"scatterternary\"}], \"surface\": [{\"colorbar\": {\"outlinewidth\": 0, \"ticks\": \"\"}, \"colorscale\": [[0.0, \"#0d0887\"], [0.1111111111111111, \"#46039f\"], [0.2222222222222222, \"#7201a8\"], [0.3333333333333333, \"#9c179e\"], [0.4444444444444444, \"#bd3786\"], [0.5555555555555556, \"#d8576b\"], [0.6666666666666666, \"#ed7953\"], [0.7777777777777778, \"#fb9f3a\"], [0.8888888888888888, \"#fdca26\"], [1.0, \"#f0f921\"]], \"type\": \"surface\"}], \"table\": [{\"cells\": {\"fill\": {\"color\": \"#EBF0F8\"}, \"line\": {\"color\": \"white\"}}, \"header\": {\"fill\": {\"color\": \"#C8D4E3\"}, \"line\": {\"color\": \"white\"}}, \"type\": \"table\"}]}, \"layout\": {\"annotationdefaults\": {\"arrowcolor\": \"#2a3f5f\", \"arrowhead\": 0, \"arrowwidth\": 1}, \"coloraxis\": {\"colorbar\": {\"outlinewidth\": 0, \"ticks\": \"\"}}, \"colorscale\": {\"diverging\": [[0, \"#8e0152\"], [0.1, \"#c51b7d\"], [0.2, \"#de77ae\"], [0.3, \"#f1b6da\"], [0.4, \"#fde0ef\"], [0.5, \"#f7f7f7\"], [0.6, \"#e6f5d0\"], [0.7, \"#b8e186\"], [0.8, \"#7fbc41\"], [0.9, \"#4d9221\"], [1, \"#276419\"]], \"sequential\": [[0.0, \"#0d0887\"], [0.1111111111111111, \"#46039f\"], [0.2222222222222222, \"#7201a8\"], [0.3333333333333333, \"#9c179e\"], [0.4444444444444444, \"#bd3786\"], [0.5555555555555556, \"#d8576b\"], [0.6666666666666666, \"#ed7953\"], [0.7777777777777778, \"#fb9f3a\"], [0.8888888888888888, \"#fdca26\"], [1.0, \"#f0f921\"]], \"sequentialminus\": [[0.0, \"#0d0887\"], [0.1111111111111111, \"#46039f\"], [0.2222222222222222, \"#7201a8\"], [0.3333333333333333, \"#9c179e\"], [0.4444444444444444, \"#bd3786\"], [0.5555555555555556, \"#d8576b\"], [0.6666666666666666, \"#ed7953\"], [0.7777777777777778, \"#fb9f3a\"], [0.8888888888888888, \"#fdca26\"], [1.0, \"#f0f921\"]]}, \"colorway\": [\"#636efa\", \"#EF553B\", \"#00cc96\", \"#ab63fa\", \"#FFA15A\", \"#19d3f3\", \"#FF6692\", \"#B6E880\", \"#FF97FF\", \"#FECB52\"], \"font\": {\"color\": \"#2a3f5f\"}, \"geo\": {\"bgcolor\": \"white\", \"lakecolor\": \"white\", \"landcolor\": \"#E5ECF6\", \"showlakes\": true, \"showland\": true, \"subunitcolor\": \"white\"}, \"hoverlabel\": {\"align\": \"left\"}, \"hovermode\": \"closest\", \"mapbox\": {\"style\": \"light\"}, \"paper_bgcolor\": \"white\", \"plot_bgcolor\": \"#E5ECF6\", \"polar\": {\"angularaxis\": {\"gridcolor\": \"white\", \"linecolor\": \"white\", \"ticks\": \"\"}, \"bgcolor\": \"#E5ECF6\", \"radialaxis\": {\"gridcolor\": \"white\", \"linecolor\": \"white\", \"ticks\": \"\"}}, \"scene\": {\"xaxis\": {\"backgroundcolor\": \"#E5ECF6\", \"gridcolor\": \"white\", \"gridwidth\": 2, \"linecolor\": \"white\", \"showbackground\": true, \"ticks\": \"\", \"zerolinecolor\": \"white\"}, \"yaxis\": {\"backgroundcolor\": \"#E5ECF6\", \"gridcolor\": \"white\", \"gridwidth\": 2, \"linecolor\": \"white\", \"showbackground\": true, \"ticks\": \"\", \"zerolinecolor\": \"white\"}, \"zaxis\": {\"backgroundcolor\": \"#E5ECF6\", \"gridcolor\": \"white\", \"gridwidth\": 2, \"linecolor\": \"white\", \"showbackground\": true, \"ticks\": \"\", \"zerolinecolor\": \"white\"}}, \"shapedefaults\": {\"line\": {\"color\": \"#2a3f5f\"}}, \"ternary\": {\"aaxis\": {\"gridcolor\": \"white\", \"linecolor\": \"white\", \"ticks\": \"\"}, \"baxis\": {\"gridcolor\": \"white\", \"linecolor\": \"white\", \"ticks\": \"\"}, \"bgcolor\": \"#E5ECF6\", \"caxis\": {\"gridcolor\": \"white\", \"linecolor\": \"white\", \"ticks\": \"\"}}, \"title\": {\"x\": 0.05}, \"xaxis\": {\"automargin\": true, \"gridcolor\": \"white\", \"linecolor\": \"white\", \"ticks\": \"\", \"title\": {\"standoff\": 15}, \"zerolinecolor\": \"white\", \"zerolinewidth\": 2}, \"yaxis\": {\"automargin\": true, \"gridcolor\": \"white\", \"linecolor\": \"white\", \"ticks\": \"\", \"title\": {\"standoff\": 15}, \"zerolinecolor\": \"white\", \"zerolinewidth\": 2}}}, \"xaxis\": {\"rangeslider\": {\"visible\": false}}},\n",
              "                        {\"responsive\": true}\n",
              "                    ).then(function(){\n",
              "                            \n",
              "var gd = document.getElementById('c66ce875-0118-45e8-b5e8-6e4a06f8cf15');\n",
              "var x = new MutationObserver(function (mutations, observer) {{\n",
              "        var display = window.getComputedStyle(gd).display;\n",
              "        if (!display || display === 'none') {{\n",
              "            console.log([gd, 'removed!']);\n",
              "            Plotly.purge(gd);\n",
              "            observer.disconnect();\n",
              "        }}\n",
              "}});\n",
              "\n",
              "// Listen for the removal of the full notebook cells\n",
              "var notebookContainer = gd.closest('#notebook-container');\n",
              "if (notebookContainer) {{\n",
              "    x.observe(notebookContainer, {childList: true});\n",
              "}}\n",
              "\n",
              "// Listen for the clearing of the current output cell\n",
              "var outputEl = gd.closest('.output');\n",
              "if (outputEl) {{\n",
              "    x.observe(outputEl, {childList: true});\n",
              "}}\n",
              "\n",
              "                        })\n",
              "                };\n",
              "                \n",
              "            </script>\n",
              "        </div>\n",
              "</body>\n",
              "</html>"
            ]
          },
          "metadata": {
            "tags": []
          }
        }
      ]
    },
    {
      "cell_type": "markdown",
      "metadata": {
        "id": "eEVN-3Rs0dDo",
        "colab_type": "text"
      },
      "source": [
        "QUESTION 6:"
      ]
    },
    {
      "cell_type": "code",
      "metadata": {
        "id": "MJBt8F2G0cVa",
        "colab_type": "code",
        "outputId": "48fd74fc-68e2-43a9-c119-9427180c15f9",
        "colab": {
          "base_uri": "https://localhost:8080/",
          "height": 153
        }
      },
      "source": [
        "def add_alert (name, ticker, date_start,date_end,start_value,end_value,source,direction):\n",
        "    PROJET = sqlite3.connect('PROJET.db')\n",
        "    cursor_PROJET = PROJET.cursor()    \n",
        "    dir_df=pd.read_sql_query(\"SELECT * FROM Directions\",PROJET)\n",
        "    source_df=pd.read_sql_query(\"SELECT * FROM Sources\",PROJET)\n",
        "    if (not(direction in list(dir_df[\"direction\"])) or not(source in list(source_df[\"source\"]))):\n",
        "      return#Si les elements source et direction ne correspondent pas a des elemnts de source ou direction de leurs tableaux,on najoute pas lelement\n",
        "    \n",
        "    cursor_PROJET.execute(\n",
        "                          \"\"\"INSERT INTO\n",
        "                                Alerts(name,date_start,date_end,start_value,end_value,source,direction,ticker) \n",
        "                                VALUES   (?,?,?,?,?,?,?,?)\n",
        "                          \"\"\",(\n",
        "                                name,\n",
        "                                date_start.strftime(\"%Y/%m/%d\"),\n",
        "                                date_end.strftime(\"%Y/%m/%d\"),\n",
        "                                str(start_value),\n",
        "                                str(end_value),\n",
        "                                source,\n",
        "                                direction,\n",
        "                                ticker\n",
        "                              )\n",
        "    )\n",
        "    PROJET.commit()\n",
        "\n",
        "\n",
        "PROJET = sqlite3.connect('PROJET.db')\n",
        "cursor_PROJET = PROJET.cursor()\n",
        "query=\"SELECT * FROM Alerts\"\n",
        "add_alert(\"test4\",\"AAPL\",datetime(2019,7,9),datetime(2019,12,21),200,260,\"open\",\"max\")\n",
        "df=pd.read_sql_query(query,PROJET)\n",
        "print(df)"
      ],
      "execution_count": 98,
      "outputs": [
        {
          "output_type": "stream",
          "text": [
            "    name  date_start    date_end  ...  source  direction ticker\n",
            "0  test3  2019/07/09  2019/12/21  ...    open        max   AAPL\n",
            "1   test  2019/07/09  2019/12/21  ...    open        max   AAPL\n",
            "2  test1  2019/07/09  2019/12/21  ...    open        max   AAPL\n",
            "3  test2  2019/07/09  2019/12/21  ...    open        max   AAPL\n",
            "4  test4  2019/07/09  2019/12/21  ...    open        max   AAPL\n",
            "\n",
            "[5 rows x 8 columns]\n"
          ],
          "name": "stdout"
        }
      ]
    },
    {
      "cell_type": "markdown",
      "metadata": {
        "id": "7I-8rN3oAeQs",
        "colab_type": "text"
      },
      "source": [
        "QUESTION 7:"
      ]
    },
    {
      "cell_type": "code",
      "metadata": {
        "id": "ohMR2YI5At1D",
        "colab_type": "code",
        "outputId": "70bb21be-b6e3-4511-f2d6-0792bdde338e",
        "colab": {
          "base_uri": "https://localhost:8080/",
          "height": 559
        }
      },
      "source": [
        "def nb_alert(name):\n",
        "  PROJET = sqlite3.connect('PROJET.db')\n",
        "  cursor_PROJET = PROJET.cursor()\n",
        "  \n",
        "  query=\"SELECT * FROM Alerts WHERE name=\\'\"+name+\"\\'\"#importation de alert by name\n",
        "  alert_df=pd.read_sql_query(query,PROJET)\n",
        "\n",
        "  query='''SELECT open_price,high_price,low_price,close_price,date FROM Candlesticks\n",
        "          WHERE (ticker =\\\"'''+alert_df.ticker[0]+\"\\\" AND (date >=\\'\"+alert_df.date_start[0]+\"\\' AND date <=\\'\"+alert_df.date_end[0]+\"\\'))\"\n",
        "  df_tick=pd.read_sql_query(query,PROJET)\n",
        "  slope = (float(alert_df.end_value[0])-float(alert_df.start_value[0]))/df_tick.shape[0]\n",
        "  equation = lambda t : slope*t+float(alert_df.start_value[0])\n",
        "  count=0\n",
        "  for index, row in df_tick.iterrows():\n",
        "    delta_days = int(index)\n",
        "    delta_value=equation(delta_days)\n",
        "    indice=alert_df.source[0]+\"_price\"\n",
        "    if(float(row[indice])<delta_value):\n",
        "      count+=1\n",
        "  #####PARTIE AFFICHAGE#######\n",
        "  layout =dict(\n",
        "        xaxis=go.layout.XAxis(rangeslider=dict (visible = False)),\n",
        "        \n",
        "  )\n",
        "  fig = go.Figure(data=[go.Candlestick(x=df_tick['date'],\n",
        "              open=df_tick['open_price'],\n",
        "              high=df_tick['high_price'],\n",
        "              low=df_tick['low_price'],\n",
        "              close=df_tick['close_price'])],layout=layout)\n",
        "  fig.add_shape(\n",
        "          type=\"line\",\n",
        "          x0=df_tick['date'].iloc[0],\n",
        "          y0=alert_df.start_value[0],\n",
        "          x1=df_tick['date'].iloc[-1],\n",
        "          y1=alert_df.end_value[0],\n",
        "          line=dict(\n",
        "              color=\"orange\",\n",
        "              width=1,\n",
        "              dash=\"dashdot\",\n",
        "          ),\n",
        "  )\n",
        "  fig.show()\n",
        "  #######\n",
        "  return count\n",
        "nb_alert(\"test4\")"
      ],
      "execution_count": 135,
      "outputs": [
        {
          "output_type": "display_data",
          "data": {
            "text/html": [
              "<html>\n",
              "<head><meta charset=\"utf-8\" /></head>\n",
              "<body>\n",
              "    <div>\n",
              "            <script src=\"https://cdnjs.cloudflare.com/ajax/libs/mathjax/2.7.5/MathJax.js?config=TeX-AMS-MML_SVG\"></script><script type=\"text/javascript\">if (window.MathJax) {MathJax.Hub.Config({SVG: {font: \"STIX-Web\"}});}</script>\n",
              "                <script type=\"text/javascript\">window.PlotlyConfig = {MathJaxConfig: 'local'};</script>\n",
              "        <script src=\"https://cdn.plot.ly/plotly-latest.min.js\"></script>    \n",
              "            <div id=\"190a351a-4013-412a-b394-a13b8281411c\" class=\"plotly-graph-div\" style=\"height:525px; width:100%;\"></div>\n",
              "            <script type=\"text/javascript\">\n",
              "                \n",
              "                    window.PLOTLYENV=window.PLOTLYENV || {};\n",
              "                    \n",
              "                if (document.getElementById(\"190a351a-4013-412a-b394-a13b8281411c\")) {\n",
              "                    Plotly.newPlot(\n",
              "                        '190a351a-4013-412a-b394-a13b8281411c',\n",
              "                        [{\"close\": [201.24, 203.23, 201.75, 203.3, 205.21, 204.5, 203.35, 205.66, 202.59, 207.22, 208.84, 208.67, 207.02, 207.74, 209.68, 208.78, 213.04, 208.43, 204.02, 193.34, 197.0, 199.04, 203.43, 200.99, 200.48, 208.97, 202.75, 201.74, 206.5, 210.35, 210.36, 212.64, 212.46, 202.64, 206.49, 204.16, 205.53, 209.01, 208.74, 205.7, 209.19, 213.28, 213.26, 214.17, 216.7, 223.59, 223.09, 218.75, 219.9, 220.7, 222.77, 220.96, 217.73, 218.72, 217.68, 221.03, 219.89, 218.82, 223.97, 224.59, 218.96, 220.82, 227.01, 227.06, 224.4, 227.03, 230.09, 236.21, 235.87, 235.32, 234.37, 235.28, 236.41, 240.51, 239.96, 243.18, 243.58, 246.58, 249.05, 243.29, 243.26, 248.76, 255.82, 257.5, 257.13, 257.24, 259.43, 260.14, 262.2, 261.96, 264.47, 262.64, 265.76, 267.1, 266.29, 263.19, 262.01, 261.78, 266.37, 264.29, 267.84, 267.25, 264.16, 259.45, 261.74, 265.58, 270.71, 266.92, 268.48, 270.77, 271.46, 275.15, 279.86, 280.41, 279.74, 280.02, 279.44], \"high\": [201.51, 203.73, 204.39, 204.0, 205.87, 206.11, 205.09, 205.88, 206.5, 207.23, 208.91, 209.15, 209.24, 209.73, 210.64, 210.16, 221.37, 218.03, 206.43, 198.65, 198.07, 199.56, 203.53, 202.76, 202.05, 212.14, 206.44, 205.14, 207.16, 212.73, 213.35, 213.65, 214.44, 212.05, 207.19, 208.55, 205.72, 209.32, 210.45, 206.98, 209.48, 213.97, 214.42, 216.44, 216.78, 223.71, 226.42, 220.79, 220.13, 220.82, 222.85, 223.76, 222.56, 219.84, 222.49, 221.5, 220.94, 220.96, 224.58, 228.22, 223.58, 220.96, 227.49, 229.93, 228.06, 227.79, 230.44, 237.64, 238.13, 237.65, 235.24, 236.15, 237.58, 240.99, 242.2, 243.24, 244.8, 246.73, 249.25, 249.75, 245.3, 249.17, 255.93, 257.85, 258.19, 257.49, 260.35, 260.44, 262.47, 262.79, 264.78, 264.88, 265.78, 267.43, 268.0, 266.08, 264.01, 263.18, 266.44, 267.16, 267.98, 268.0, 268.25, 259.53, 263.31, 265.89, 271.0, 270.8, 270.07, 271.1, 272.56, 275.3, 280.79, 281.77, 281.9, 281.18, 282.65], \"low\": [198.81, 201.56, 201.71, 202.2, 204.0, 203.5, 203.27, 203.7, 202.36, 203.61, 207.29, 207.17, 206.73, 207.14, 208.44, 207.31, 211.3, 206.74, 201.63, 192.58, 194.04, 193.82, 199.39, 199.29, 199.15, 200.48, 202.59, 199.67, 203.84, 210.03, 210.32, 211.6, 210.75, 201.0, 205.06, 203.53, 203.32, 206.66, 207.2, 204.22, 207.32, 211.51, 212.51, 211.07, 211.71, 217.73, 222.86, 217.02, 217.56, 219.12, 219.44, 220.37, 217.47, 217.65, 217.19, 217.14, 218.83, 217.28, 220.79, 224.2, 217.93, 215.13, 223.89, 225.84, 224.33, 225.64, 227.3, 232.31, 234.67, 234.88, 233.2, 233.52, 234.29, 237.32, 239.62, 241.22, 241.81, 242.88, 246.72, 242.57, 241.21, 237.26, 249.16, 255.38, 256.32, 255.37, 258.11, 256.85, 258.28, 260.92, 261.07, 262.1, 263.01, 264.23, 265.39, 260.4, 261.18, 260.84, 262.52, 262.5, 265.31, 265.9, 263.45, 256.29, 260.68, 262.73, 267.3, 264.91, 265.86, 268.5, 267.32, 270.93, 276.98, 278.8, 279.12, 278.95, 278.56], \"open\": [199.2, 201.85, 203.31, 202.45, 204.09, 204.59, 204.05, 204.0, 205.79, 203.65, 208.46, 207.67, 208.89, 207.48, 208.46, 208.76, 216.42, 213.9, 205.53, 197.99, 196.31, 195.41, 200.2, 201.3, 199.62, 201.02, 203.16, 203.46, 204.28, 210.62, 210.88, 212.99, 213.19, 209.43, 205.86, 207.86, 204.1, 208.5, 210.16, 206.43, 208.39, 212.0, 214.05, 214.84, 213.86, 218.07, 224.8, 220.0, 217.73, 219.96, 221.06, 222.01, 221.38, 218.95, 221.03, 218.55, 220.0, 220.54, 220.9, 225.07, 223.06, 218.43, 225.64, 226.27, 225.82, 227.03, 227.93, 232.95, 234.9, 236.39, 233.37, 235.09, 234.59, 237.52, 241.16, 242.1, 244.51, 243.16, 247.42, 248.97, 244.76, 247.24, 249.54, 257.33, 257.05, 256.77, 258.74, 258.69, 258.3, 261.55, 261.13, 263.75, 263.68, 265.8, 267.9, 265.54, 263.69, 262.59, 262.71, 266.94, 265.58, 266.6, 267.27, 258.31, 261.07, 263.79, 267.48, 270.0, 268.6, 268.81, 267.78, 271.46, 277.0, 279.57, 279.8, 279.5, 282.23], \"type\": \"candlestick\", \"x\": [\"2019/07/09\", \"2019/07/10\", \"2019/07/11\", \"2019/07/12\", \"2019/07/15\", \"2019/07/16\", \"2019/07/17\", \"2019/07/18\", \"2019/07/19\", \"2019/07/22\", \"2019/07/23\", \"2019/07/24\", \"2019/07/25\", \"2019/07/26\", \"2019/07/29\", \"2019/07/30\", \"2019/07/31\", \"2019/08/01\", \"2019/08/02\", \"2019/08/05\", \"2019/08/06\", \"2019/08/07\", \"2019/08/08\", \"2019/08/09\", \"2019/08/12\", \"2019/08/13\", \"2019/08/14\", \"2019/08/15\", \"2019/08/16\", \"2019/08/19\", \"2019/08/20\", \"2019/08/21\", \"2019/08/22\", \"2019/08/23\", \"2019/08/26\", \"2019/08/27\", \"2019/08/28\", \"2019/08/29\", \"2019/08/30\", \"2019/09/03\", \"2019/09/04\", \"2019/09/05\", \"2019/09/06\", \"2019/09/09\", \"2019/09/10\", \"2019/09/11\", \"2019/09/12\", \"2019/09/13\", \"2019/09/16\", \"2019/09/17\", \"2019/09/18\", \"2019/09/19\", \"2019/09/20\", \"2019/09/23\", \"2019/09/24\", \"2019/09/25\", \"2019/09/26\", \"2019/09/27\", \"2019/09/30\", \"2019/10/01\", \"2019/10/02\", \"2019/10/03\", \"2019/10/04\", \"2019/10/07\", \"2019/10/08\", \"2019/10/09\", \"2019/10/10\", \"2019/10/11\", \"2019/10/14\", \"2019/10/15\", \"2019/10/16\", \"2019/10/17\", \"2019/10/18\", \"2019/10/21\", \"2019/10/22\", \"2019/10/23\", \"2019/10/24\", \"2019/10/25\", \"2019/10/28\", \"2019/10/29\", \"2019/10/30\", \"2019/10/31\", \"2019/11/01\", \"2019/11/04\", \"2019/11/05\", \"2019/11/06\", \"2019/11/07\", \"2019/11/08\", \"2019/11/11\", \"2019/11/12\", \"2019/11/13\", \"2019/11/14\", \"2019/11/15\", \"2019/11/18\", \"2019/11/19\", \"2019/11/20\", \"2019/11/21\", \"2019/11/22\", \"2019/11/25\", \"2019/11/26\", \"2019/11/27\", \"2019/11/29\", \"2019/12/02\", \"2019/12/03\", \"2019/12/04\", \"2019/12/05\", \"2019/12/06\", \"2019/12/09\", \"2019/12/10\", \"2019/12/11\", \"2019/12/12\", \"2019/12/13\", \"2019/12/16\", \"2019/12/17\", \"2019/12/18\", \"2019/12/19\", \"2019/12/20\"]}],\n",
              "                        {\"shapes\": [{\"line\": {\"color\": \"orange\", \"dash\": \"dashdot\", \"width\": 1}, \"type\": \"line\", \"x0\": \"2019/07/09\", \"x1\": \"2019/12/20\", \"y0\": 200.0, \"y1\": 260.0}], \"template\": {\"data\": {\"bar\": [{\"error_x\": {\"color\": \"#2a3f5f\"}, \"error_y\": {\"color\": \"#2a3f5f\"}, \"marker\": {\"line\": {\"color\": \"#E5ECF6\", \"width\": 0.5}}, \"type\": \"bar\"}], \"barpolar\": [{\"marker\": {\"line\": {\"color\": \"#E5ECF6\", \"width\": 0.5}}, \"type\": \"barpolar\"}], \"carpet\": [{\"aaxis\": {\"endlinecolor\": \"#2a3f5f\", \"gridcolor\": \"white\", \"linecolor\": \"white\", \"minorgridcolor\": \"white\", \"startlinecolor\": \"#2a3f5f\"}, \"baxis\": {\"endlinecolor\": \"#2a3f5f\", \"gridcolor\": \"white\", \"linecolor\": \"white\", \"minorgridcolor\": \"white\", \"startlinecolor\": \"#2a3f5f\"}, \"type\": \"carpet\"}], \"choropleth\": [{\"colorbar\": {\"outlinewidth\": 0, \"ticks\": \"\"}, \"type\": \"choropleth\"}], \"contour\": [{\"colorbar\": {\"outlinewidth\": 0, \"ticks\": \"\"}, \"colorscale\": [[0.0, \"#0d0887\"], [0.1111111111111111, \"#46039f\"], [0.2222222222222222, \"#7201a8\"], [0.3333333333333333, \"#9c179e\"], [0.4444444444444444, \"#bd3786\"], [0.5555555555555556, \"#d8576b\"], [0.6666666666666666, \"#ed7953\"], [0.7777777777777778, \"#fb9f3a\"], [0.8888888888888888, \"#fdca26\"], [1.0, \"#f0f921\"]], \"type\": \"contour\"}], \"contourcarpet\": [{\"colorbar\": {\"outlinewidth\": 0, \"ticks\": \"\"}, \"type\": \"contourcarpet\"}], \"heatmap\": [{\"colorbar\": {\"outlinewidth\": 0, \"ticks\": \"\"}, \"colorscale\": [[0.0, \"#0d0887\"], [0.1111111111111111, \"#46039f\"], [0.2222222222222222, \"#7201a8\"], [0.3333333333333333, \"#9c179e\"], [0.4444444444444444, \"#bd3786\"], [0.5555555555555556, \"#d8576b\"], [0.6666666666666666, \"#ed7953\"], [0.7777777777777778, \"#fb9f3a\"], [0.8888888888888888, \"#fdca26\"], [1.0, \"#f0f921\"]], \"type\": \"heatmap\"}], \"heatmapgl\": [{\"colorbar\": {\"outlinewidth\": 0, \"ticks\": \"\"}, \"colorscale\": [[0.0, \"#0d0887\"], [0.1111111111111111, \"#46039f\"], [0.2222222222222222, \"#7201a8\"], [0.3333333333333333, \"#9c179e\"], [0.4444444444444444, \"#bd3786\"], [0.5555555555555556, \"#d8576b\"], [0.6666666666666666, \"#ed7953\"], [0.7777777777777778, \"#fb9f3a\"], [0.8888888888888888, \"#fdca26\"], [1.0, \"#f0f921\"]], \"type\": \"heatmapgl\"}], \"histogram\": [{\"marker\": {\"colorbar\": {\"outlinewidth\": 0, \"ticks\": \"\"}}, \"type\": \"histogram\"}], \"histogram2d\": [{\"colorbar\": {\"outlinewidth\": 0, \"ticks\": \"\"}, \"colorscale\": [[0.0, \"#0d0887\"], [0.1111111111111111, \"#46039f\"], [0.2222222222222222, \"#7201a8\"], [0.3333333333333333, \"#9c179e\"], [0.4444444444444444, \"#bd3786\"], [0.5555555555555556, \"#d8576b\"], [0.6666666666666666, \"#ed7953\"], [0.7777777777777778, \"#fb9f3a\"], [0.8888888888888888, \"#fdca26\"], [1.0, \"#f0f921\"]], \"type\": \"histogram2d\"}], \"histogram2dcontour\": [{\"colorbar\": {\"outlinewidth\": 0, \"ticks\": \"\"}, \"colorscale\": [[0.0, \"#0d0887\"], [0.1111111111111111, \"#46039f\"], [0.2222222222222222, \"#7201a8\"], [0.3333333333333333, \"#9c179e\"], [0.4444444444444444, \"#bd3786\"], [0.5555555555555556, \"#d8576b\"], [0.6666666666666666, \"#ed7953\"], [0.7777777777777778, \"#fb9f3a\"], [0.8888888888888888, \"#fdca26\"], [1.0, \"#f0f921\"]], \"type\": \"histogram2dcontour\"}], \"mesh3d\": [{\"colorbar\": {\"outlinewidth\": 0, \"ticks\": \"\"}, \"type\": \"mesh3d\"}], \"parcoords\": [{\"line\": {\"colorbar\": {\"outlinewidth\": 0, \"ticks\": \"\"}}, \"type\": \"parcoords\"}], \"pie\": [{\"automargin\": true, \"type\": \"pie\"}], \"scatter\": [{\"marker\": {\"colorbar\": {\"outlinewidth\": 0, \"ticks\": \"\"}}, \"type\": \"scatter\"}], \"scatter3d\": [{\"line\": {\"colorbar\": {\"outlinewidth\": 0, \"ticks\": \"\"}}, \"marker\": {\"colorbar\": {\"outlinewidth\": 0, \"ticks\": \"\"}}, \"type\": \"scatter3d\"}], \"scattercarpet\": [{\"marker\": {\"colorbar\": {\"outlinewidth\": 0, \"ticks\": \"\"}}, \"type\": \"scattercarpet\"}], \"scattergeo\": [{\"marker\": {\"colorbar\": {\"outlinewidth\": 0, \"ticks\": \"\"}}, \"type\": \"scattergeo\"}], \"scattergl\": [{\"marker\": {\"colorbar\": {\"outlinewidth\": 0, \"ticks\": \"\"}}, \"type\": \"scattergl\"}], \"scattermapbox\": [{\"marker\": {\"colorbar\": {\"outlinewidth\": 0, \"ticks\": \"\"}}, \"type\": \"scattermapbox\"}], \"scatterpolar\": [{\"marker\": {\"colorbar\": {\"outlinewidth\": 0, \"ticks\": \"\"}}, \"type\": \"scatterpolar\"}], \"scatterpolargl\": [{\"marker\": {\"colorbar\": {\"outlinewidth\": 0, \"ticks\": \"\"}}, \"type\": \"scatterpolargl\"}], \"scatterternary\": [{\"marker\": {\"colorbar\": {\"outlinewidth\": 0, \"ticks\": \"\"}}, \"type\": \"scatterternary\"}], \"surface\": [{\"colorbar\": {\"outlinewidth\": 0, \"ticks\": \"\"}, \"colorscale\": [[0.0, \"#0d0887\"], [0.1111111111111111, \"#46039f\"], [0.2222222222222222, \"#7201a8\"], [0.3333333333333333, \"#9c179e\"], [0.4444444444444444, \"#bd3786\"], [0.5555555555555556, \"#d8576b\"], [0.6666666666666666, \"#ed7953\"], [0.7777777777777778, \"#fb9f3a\"], [0.8888888888888888, \"#fdca26\"], [1.0, \"#f0f921\"]], \"type\": \"surface\"}], \"table\": [{\"cells\": {\"fill\": {\"color\": \"#EBF0F8\"}, \"line\": {\"color\": \"white\"}}, \"header\": {\"fill\": {\"color\": \"#C8D4E3\"}, \"line\": {\"color\": \"white\"}}, \"type\": \"table\"}]}, \"layout\": {\"annotationdefaults\": {\"arrowcolor\": \"#2a3f5f\", \"arrowhead\": 0, \"arrowwidth\": 1}, \"coloraxis\": {\"colorbar\": {\"outlinewidth\": 0, \"ticks\": \"\"}}, \"colorscale\": {\"diverging\": [[0, \"#8e0152\"], [0.1, \"#c51b7d\"], [0.2, \"#de77ae\"], [0.3, \"#f1b6da\"], [0.4, \"#fde0ef\"], [0.5, \"#f7f7f7\"], [0.6, \"#e6f5d0\"], [0.7, \"#b8e186\"], [0.8, \"#7fbc41\"], [0.9, \"#4d9221\"], [1, \"#276419\"]], \"sequential\": [[0.0, \"#0d0887\"], [0.1111111111111111, \"#46039f\"], [0.2222222222222222, \"#7201a8\"], [0.3333333333333333, \"#9c179e\"], [0.4444444444444444, \"#bd3786\"], [0.5555555555555556, \"#d8576b\"], [0.6666666666666666, \"#ed7953\"], [0.7777777777777778, \"#fb9f3a\"], [0.8888888888888888, \"#fdca26\"], [1.0, \"#f0f921\"]], \"sequentialminus\": [[0.0, \"#0d0887\"], [0.1111111111111111, \"#46039f\"], [0.2222222222222222, \"#7201a8\"], [0.3333333333333333, \"#9c179e\"], [0.4444444444444444, \"#bd3786\"], [0.5555555555555556, \"#d8576b\"], [0.6666666666666666, \"#ed7953\"], [0.7777777777777778, \"#fb9f3a\"], [0.8888888888888888, \"#fdca26\"], [1.0, \"#f0f921\"]]}, \"colorway\": [\"#636efa\", \"#EF553B\", \"#00cc96\", \"#ab63fa\", \"#FFA15A\", \"#19d3f3\", \"#FF6692\", \"#B6E880\", \"#FF97FF\", \"#FECB52\"], \"font\": {\"color\": \"#2a3f5f\"}, \"geo\": {\"bgcolor\": \"white\", \"lakecolor\": \"white\", \"landcolor\": \"#E5ECF6\", \"showlakes\": true, \"showland\": true, \"subunitcolor\": \"white\"}, \"hoverlabel\": {\"align\": \"left\"}, \"hovermode\": \"closest\", \"mapbox\": {\"style\": \"light\"}, \"paper_bgcolor\": \"white\", \"plot_bgcolor\": \"#E5ECF6\", \"polar\": {\"angularaxis\": {\"gridcolor\": \"white\", \"linecolor\": \"white\", \"ticks\": \"\"}, \"bgcolor\": \"#E5ECF6\", \"radialaxis\": {\"gridcolor\": \"white\", \"linecolor\": \"white\", \"ticks\": \"\"}}, \"scene\": {\"xaxis\": {\"backgroundcolor\": \"#E5ECF6\", \"gridcolor\": \"white\", \"gridwidth\": 2, \"linecolor\": \"white\", \"showbackground\": true, \"ticks\": \"\", \"zerolinecolor\": \"white\"}, \"yaxis\": {\"backgroundcolor\": \"#E5ECF6\", \"gridcolor\": \"white\", \"gridwidth\": 2, \"linecolor\": \"white\", \"showbackground\": true, \"ticks\": \"\", \"zerolinecolor\": \"white\"}, \"zaxis\": {\"backgroundcolor\": \"#E5ECF6\", \"gridcolor\": \"white\", \"gridwidth\": 2, \"linecolor\": \"white\", \"showbackground\": true, \"ticks\": \"\", \"zerolinecolor\": \"white\"}}, \"shapedefaults\": {\"line\": {\"color\": \"#2a3f5f\"}}, \"ternary\": {\"aaxis\": {\"gridcolor\": \"white\", \"linecolor\": \"white\", \"ticks\": \"\"}, \"baxis\": {\"gridcolor\": \"white\", \"linecolor\": \"white\", \"ticks\": \"\"}, \"bgcolor\": \"#E5ECF6\", \"caxis\": {\"gridcolor\": \"white\", \"linecolor\": \"white\", \"ticks\": \"\"}}, \"title\": {\"x\": 0.05}, \"xaxis\": {\"automargin\": true, \"gridcolor\": \"white\", \"linecolor\": \"white\", \"ticks\": \"\", \"title\": {\"standoff\": 15}, \"zerolinecolor\": \"white\", \"zerolinewidth\": 2}, \"yaxis\": {\"automargin\": true, \"gridcolor\": \"white\", \"linecolor\": \"white\", \"ticks\": \"\", \"title\": {\"standoff\": 15}, \"zerolinecolor\": \"white\", \"zerolinewidth\": 2}}}, \"xaxis\": {\"rangeslider\": {\"visible\": false}}},\n",
              "                        {\"responsive\": true}\n",
              "                    ).then(function(){\n",
              "                            \n",
              "var gd = document.getElementById('190a351a-4013-412a-b394-a13b8281411c');\n",
              "var x = new MutationObserver(function (mutations, observer) {{\n",
              "        var display = window.getComputedStyle(gd).display;\n",
              "        if (!display || display === 'none') {{\n",
              "            console.log([gd, 'removed!']);\n",
              "            Plotly.purge(gd);\n",
              "            observer.disconnect();\n",
              "        }}\n",
              "}});\n",
              "\n",
              "// Listen for the removal of the full notebook cells\n",
              "var notebookContainer = gd.closest('#notebook-container');\n",
              "if (notebookContainer) {{\n",
              "    x.observe(notebookContainer, {childList: true});\n",
              "}}\n",
              "\n",
              "// Listen for the clearing of the current output cell\n",
              "var outputEl = gd.closest('.output');\n",
              "if (outputEl) {{\n",
              "    x.observe(outputEl, {childList: true});\n",
              "}}\n",
              "\n",
              "                        })\n",
              "                };\n",
              "                \n",
              "            </script>\n",
              "        </div>\n",
              "</body>\n",
              "</html>"
            ]
          },
          "metadata": {
            "tags": []
          }
        },
        {
          "output_type": "execute_result",
          "data": {
            "text/plain": [
              "54"
            ]
          },
          "metadata": {
            "tags": []
          },
          "execution_count": 135
        }
      ]
    },
    {
      "cell_type": "code",
      "metadata": {
        "id": "8GiyD7ZnQFoV",
        "colab_type": "code",
        "outputId": "0cfc4311-0a66-4315-c41e-7f0cd0fdcfc0",
        "colab": {
          "base_uri": "https://localhost:8080/",
          "height": 261
        }
      },
      "source": [
        "import matplotlib as mpl\n",
        "import matplotlib.pyplot as plt\n",
        "import mplfinance as mpf\n",
        "from mplfinance.original_flavor import candlestick_ohlc\n",
        "def draw_enveloppe(ticker,date_start,date_end,source,pourcentage):\n",
        "  PROJET = sqlite3.connect('PROJET.db')\n",
        "\n",
        "  query = \"SELECT * FROM Candlesticks WHERE ticker='\"+ticker+\"' AND date >= '\"+date_start.strftime(\"%Y/%m/%d\")+\"' AND date <= '\"+date_end.strftime(\"%Y/%m/%d\")+\"'\"\n",
        "  df=pd.read_sql_query(query,PROJET)\n",
        "  if source==\"open\":\n",
        "    moyenne=df['open_price'].mean()\n",
        "  elif source==\"close\":\n",
        "    moyenne=df['close_price'].mean()\n",
        "  up=moyenne+moyenne*pourcentage\n",
        "  down=moyenne-moyenne*pourcentage\n",
        "  \n",
        "  '''df.index=mpl.dates.date2num(pd.to_datetime(df.date).to_pydatetime())\n",
        "\n",
        "  df=df.rename(columns={\"open_price\": \"Open\", \"close_price\": \"Close\",\"high_price\":\"High\",\"low_price\":\"Low\"})\n",
        "  display(df)\n",
        "\n",
        "  fig, ax = plt.subplots()\n",
        "  candlestick_ohlc(ax, quotes=[df['date'],df['Open'],df['High'], df['Low'],df['Close']])'''\n",
        "  \n",
        "  #On doit se decider sur quelle librairie on va utiliser: plotly ou mplfinance.original_flavor\n",
        "  ######\n",
        "  df.date=mpl.dates.date2num(pd.to_datetime(df.date))\n",
        "  df.index=df.date\n",
        "  row_list =[] \n",
        "  for rows in df.itertuples(): \n",
        "    my_list = [rows.date, rows.open_price, rows.high_price,rows.low_price,rows.close_price] \n",
        "    row_list.append(my_list) \n",
        "  fig, ax = plt.subplots()\n",
        "  candlestick_ohlc(ax, quotes=row_list)\n",
        "  #####\n",
        "  ax.autoscale_view()\n",
        "  ax.grid(True)\n",
        "  fig.autofmt_xdate()\n",
        "\n",
        "  plt.show()\n",
        "\n",
        "draw_enveloppe(\"AMZN\", datetime(2020,1,9),datetime(2020,3,29), \"open\", 0.01)\n"
      ],
      "execution_count": 134,
      "outputs": [
        {
          "output_type": "display_data",
          "data": {
            "image/png": "[encoded data removed]",
            "text/plain": [
              "<Figure size 432x288 with 1 Axes>"
            ]
          },
          "metadata": {
            "tags": [],
            "needs_background": "light"
          }
        }
      ]
    },
    {
      "cell_type": "code",
      "metadata": {
        "id": "eyrGbsABRPor",
        "colab_type": "code",
        "colab": {}
      },
      "source": [
        ""
      ],
      "execution_count": 0,
      "outputs": []
    }
  ]
}