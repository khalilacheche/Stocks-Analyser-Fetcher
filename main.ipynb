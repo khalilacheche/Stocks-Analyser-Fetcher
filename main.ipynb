{
  "nbformat": 4,
  "nbformat_minor": 0,
  "metadata": {
    "colab": {
      "name": "main.ipynb",
      "provenance": []
    },
    "kernelspec": {
      "name": "python3",
      "display_name": "Python 3"
    }
  },
  "cells": [
    {
      "cell_type": "markdown",
      "metadata": {
        "id": "B4FUiItwyJOl",
        "colab_type": "text"
      },
      "source": [
        "Chargement de la base de donnée session8.db\n"
      ]
    },
    {
      "cell_type": "code",
      "metadata": {
        "id": "ywLIbB_VWchC",
        "colab_type": "code",
        "colab": {
          "base_uri": "https://localhost:8080/",
          "height": 187
        },
        "outputId": "38399960-9117-4488-cf34-f5d1173b4dc2"
      },
      "source": [
        "import pandas as pd # chargement des bases de donnees\n",
        "import sqlite3  # chargement/ ecriture dans les bases de donnees\n",
        "\n",
        "import requests # chargement des donnees depuis l'API\n",
        "from requests import get#\n",
        "\n",
        "import pprint #\n",
        "\n",
        "import os.path #lire des fichiers\n",
        "if not os.path.isfile(\"session8.db\"):\n",
        "    import urllib.request #telecharger un fichier depuis une url\n",
        "    urllib.request.urlretrieve(\"http://homepages.ulb.ac.be/~choffreu/session8.db\", \"session8.db\")#telechargement du fichier depuis lurl specifie sous le nom de session8.db\n",
        "\n",
        "SESSION8 = sqlite3.connect('session8.db') #creation de la connexion avec la BDD (rouge)\n",
        "cursor_SESSION8 = SESSION8.cursor() \n",
        "\n",
        "query = '''\n",
        "  SELECT name, gsector, ticker\n",
        "  FROM Companies \n",
        "  WHERE ticker IN (\"GOOGL\", \"AMZN\", \"FB\", \"AAPL\", \"IDMO\", \"FFR\", \"TECTP\",\"XTN\", \"FCAN\", \"MSFT\")\n",
        "'''\n",
        "information_from_session8 = pd.read_sql_query(query,SESSION8) \n",
        "\n",
        "print(information_from_session8)\n",
        "\n",
        "##ADD 5 companies\n",
        "\n",
        "\n",
        "\n",
        "\n",
        "\n"
      ],
      "execution_count": 21,
      "outputs": [
        {
          "output_type": "stream",
          "text": [
            "                           name                     gsector ticker\n",
            "0                  ALPHABET INC  Telecommunication Services  GOOGL\n",
            "1                  FACEBOOK INC  Telecommunication Services     FB\n",
            "2        TECTONIC FINANCIAL INC                         N/A  TECTP\n",
            "3                AMAZON.COM INC      Consumer Discretionary   AMZN\n",
            "4   SPDR S&P TRANSPORTATION ETF                         N/A    XTN\n",
            "5  FIRST TR FTSE EPRA/NAREIT DV                         N/A    FFR\n",
            "6  INVESCO S&P INTL DEV MTM ETF                         N/A   IDMO\n",
            "7   FIRST TR CANADA ALPHADEX FD                         N/A   FCAN\n",
            "8                     APPLE INC      Information Technology   AAPL\n"
          ],
          "name": "stdout"
        }
      ]
    },
    {
      "cell_type": "markdown",
      "metadata": {
        "id": "bqaxKeMYv-71",
        "colab_type": "text"
      },
      "source": [
        "Intialisation de la BDD du Projet:\n",
        "\n",
        "-Creation des tableaux\n",
        "\n",
        "-Copie des infos de la BDD session8 dans la BDD du projet\n",
        "\n"
      ]
    },
    {
      "cell_type": "code",
      "metadata": {
        "id": "Ed3tioE6v8Tc",
        "colab_type": "code",
        "colab": {}
      },
      "source": [
        "\n",
        "PROJET = sqlite3.connect('PROJET.db')\n",
        "cursor_PROJET = PROJET.cursor()\n",
        "\n",
        "#########Tableau Companies#########\n",
        "\n",
        "\n",
        "####Ticker est la cle primaire pour permettre que ce soit une cle secondaire dans Candlesticks et alerts\n",
        "cursor_PROJET.execute(\"\"\"\n",
        "CREATE TABLE IF NOT EXISTS Companies(\n",
        "  ticker TEXT PRIMARY KEY UNIQUE,\n",
        "  gsector TEXT,\n",
        "  name TEXT\n",
        ")\n",
        "\"\"\")\n",
        "PROJET.commit()\n",
        "for i in range(0, len(information_from_session8) ):\n",
        "  cursor_PROJET.execute(\n",
        "                        \"\"\"INSERT INTO\n",
        "                              Companies(ticker,gsector,name) \n",
        "                              VALUES   (  ? ,   ?   ,  ?   )\n",
        "                        \"\"\",(\n",
        "                              information_from_session8[\"ticker\"][i],\n",
        "                              information_from_session8[\"gsector\"][i],\n",
        "                              information_from_session8[\"name\"][i] \n",
        "                            )\n",
        "                      )\n",
        "  \n",
        "  PROJET.commit()\n",
        "\n",
        "#########Tableau Directions#########\n",
        "query='''\n",
        "        CREATE TABLE IF NOT EXISTS Directions (\n",
        "          direction TEXT PRIMARY KEY UNIQUE\n",
        "        )\n",
        "'''\n",
        "\n",
        "cursor_PROJET.execute(query)\n",
        "PROJET.commit()\n",
        "\n",
        "directions=[\"max\",\"min\"]\n",
        "for i in directions:\n",
        "  cursor_PROJET.execute(\n",
        "                        \"\"\"INSERT INTO\n",
        "                              Directions(direction) \n",
        "                              VALUES   ( ? )\n",
        "                        \"\"\",(i,))\n",
        "  \n",
        "  PROJET.commit()\n",
        "\n",
        "#########Tableau Sources#########\n",
        "query=\"\"\"\n",
        "        CREATE TABLE IF NOT EXISTS Sources (\n",
        "          source TEXT PRIMARY KEY UNIQUE\n",
        "        )\n",
        "      \"\"\"\n",
        "cursor_PROJET.execute(query)\n",
        "PROJET.commit()\n",
        "sources=[\"open\",\"close\",\"high\",\"low\"]\n",
        "for i in sources:\n",
        "  cursor_PROJET.execute(\n",
        "                        \"\"\"INSERT INTO\n",
        "                              Sources(source) \n",
        "                              VALUES   ( ? )\n",
        "                        \"\"\",( \n",
        "                             i, \n",
        "                            )\n",
        "                      )\n",
        "  \n",
        "  PROJET.commit()\n",
        "\n",
        "#########Tableau Candlesticks#########\n",
        "query=\"\"\"\n",
        "        CREATE TABLE IF NOT EXISTS Candlesticks (\n",
        "          id INTEGER PRIMARY KEY,\n",
        "          open_price FLOAT,\n",
        "          high_price FLOAT,\n",
        "          close_price FLOAT,\n",
        "          low_price FLOAT,\n",
        "          volume INT,\n",
        "          timestamp DATETIME,\n",
        "          ticker TEXT,\n",
        "          FOREIGN KEY (ticker) REFERENCES Companies (ticker)\n",
        "        )\n",
        "      \"\"\"\n",
        "cursor_PROJET.execute(query)\n",
        "PROJET.commit()\n",
        "#########Tableau Alerts#########\n",
        "query=\"\"\"\n",
        "        CREATE TABLE IF NOT EXISTS Alerts (\n",
        "          name TEXT PRIMARY KEY UNIQUE,\n",
        "          time_start DATETIME,\n",
        "          time_end DATETIME,\n",
        "          start_value FLOAT,\n",
        "          end_value FLOAT,\n",
        "          source TEXT,\n",
        "          direction TEXT,\n",
        "          ticker TEXT,\n",
        "          FOREIGN KEY (source) REFERENCES Sources (source)\n",
        "          FOREIGN KEY (direction) REFERENCES Directions (direction)\n",
        "          FOREIGN KEY (ticker) REFERENCES Companies (ticker)\n",
        "        )\n",
        "      \"\"\"\n",
        "cursor_PROJET.execute(query)\n",
        "PROJET.commit()\n",
        "\n",
        "\n",
        "\n"
      ],
      "execution_count": 0,
      "outputs": []
    },
    {
      "cell_type": "markdown",
      "metadata": {
        "id": "u7beVvuz01Ak",
        "colab_type": "text"
      },
      "source": [
        "Chargement des tickers"
      ]
    },
    {
      "cell_type": "code",
      "metadata": {
        "id": "nIxM0Cks0z_P",
        "colab_type": "code",
        "colab": {
          "base_uri": "https://localhost:8080/",
          "height": 187
        },
        "outputId": "a26e6afb-33dd-429a-d270-40fef9b88806"
      },
      "source": [
        "\n",
        "query = '''\n",
        "SELECT *\n",
        "FROM Companies \n",
        "'''\n",
        "resultat_PROJET_COMPANIES = pd.read_sql_query(query,PROJET)\n",
        "print(resultat_PROJET_COMPANIES)"
      ],
      "execution_count": 46,
      "outputs": [
        {
          "output_type": "stream",
          "text": [
            "  ticker                     gsector                          name\n",
            "0  GOOGL  Telecommunication Services                  ALPHABET INC\n",
            "1     FB  Telecommunication Services                  FACEBOOK INC\n",
            "2  TECTP                         N/A        TECTONIC FINANCIAL INC\n",
            "3   AMZN      Consumer Discretionary                AMAZON.COM INC\n",
            "4    XTN                         N/A   SPDR S&P TRANSPORTATION ETF\n",
            "5    FFR                         N/A  FIRST TR FTSE EPRA/NAREIT DV\n",
            "6   IDMO                         N/A  INVESCO S&P INTL DEV MTM ETF\n",
            "7   FCAN                         N/A   FIRST TR CANADA ALPHADEX FD\n",
            "8   AAPL      Information Technology                     APPLE INC\n"
          ],
          "name": "stdout"
        }
      ]
    },
    {
      "cell_type": "markdown",
      "metadata": {
        "id": "FB0uyvt0xMTj",
        "colab_type": "text"
      },
      "source": [
        "Chargement des données depuis l'API"
      ]
    },
    {
      "cell_type": "code",
      "metadata": {
        "id": "e983QswcxMsF",
        "colab_type": "code",
        "colab": {
          "base_uri": "https://localhost:8080/",
          "height": 1000
        },
        "outputId": "768e978d-d4fc-4b26-e520-60fac6e78886"
      },
      "source": [
        "token = \"bpog5jfrh5ra872e4vkg\"\n",
        "liste_des_actions = resultat_PROJET_COMPANIES[\"ticker\"]\n",
        "        \n",
        "from datetime import datetime\n",
        "#start_date = datetime(2019, 1, 1)\n",
        "#start_timestamp = int(datetime.timestamp(start_date)) # <-- ca donne le nombre de secondes écoulées entre le 1/1/1970 à 00:00 et 1/1/2020 \n",
        "#end_timestamp = int(datetime.timestamp(datetime.now())) #Prise des dates jusqua maintenant\n",
        "start_date = datetime(2020, 1, 13) # <-- LUNDI 13 janvier 2020 \n",
        "start_timestamp = int(datetime.timestamp(start_date)) # <-- ca donne le nombre de secondes écoulées entre le 1/1/1970 à 00:00 et 1/1/2020 \n",
        "\n",
        "end_date = datetime(2020, 1, 17)   # <-- Vendredi 17 janvier 2020 NON COMPRIS\n",
        "end_timestamp = int(datetime.timestamp(end_date))\n",
        "\n",
        "\n",
        "companies_candle = {}\n",
        "\n",
        "for i in range(0, len(liste_des_actions)):\n",
        "      API_URL = 'https://finnhub.io/api/v1/stock/candle?symbol=' + liste_des_actions[i] + '&resolution=D&from=' + str(start_timestamp) + '&to=' + str(end_timestamp) + '&token=' + token\n",
        "      \n",
        "      REPONSE_DE_L_API = requests.get(API_URL).json()\n",
        "      companies_candle[liste_des_actions[i]] = REPONSE_DE_L_API\n",
        "pprint.pprint(companies_candle)"
      ],
      "execution_count": 47,
      "outputs": [
        {
          "output_type": "stream",
          "text": [
            "{'AAPL': {'c': [316.96, 312.68, 311.34, 315.24],\n",
            "          'h': [317.07, 317.57, 315.5, 315.7],\n",
            "          'l': [311.15, 312.17, 309.55, 312.09],\n",
            "          'o': [311.64, 316.7, 311.85, 313.59],\n",
            "          's': 'ok',\n",
            "          't': [1578925800, 1579012200, 1579098600, 1579185000],\n",
            "          'v': [30383000, 40488600, 30480900, 27207300]},\n",
            " 'AMZN': {'c': [1891.3, 1869.4399, 1862.02, 1877.9399],\n",
            "          'h': [1898, 1887.11, 1878.86, 1885.59],\n",
            "          'l': [1880.8, 1858.55, 1855.09, 1866.02],\n",
            "          'o': [1891.3101, 1885.88, 1872.25, 1882.99],\n",
            "          's': 'ok',\n",
            "          't': [1578925800, 1579012200, 1579098600, 1579185000],\n",
            "          'v': [2780800, 3440900, 2896600, 2659500]},\n",
            " 'FB': {'c': [221.91, 219.06, 221.15, 221.77],\n",
            "        'h': [221.97, 222.38, 221.68, 222.63],\n",
            "        'l': [219.21, 218.63, 220.14, 220.39],\n",
            "        'o': [219.6, 221.61, 220.61, 222.57],\n",
            "        's': 'ok',\n",
            "        't': [1578925800, 1579012200, 1579098600, 1579185000],\n",
            "        'v': [14463400, 13288900, 10036500, 10015300]},\n",
            " 'FCAN': {'c': [25.26, 25.24, 25.36, 25.49],\n",
            "          'h': [25.26, 25.24, 25.36, 25.49],\n",
            "          'l': [25.16, 25.24, 25.36, 25.49],\n",
            "          'o': [25.16, 25.24, 25.36, 25.49],\n",
            "          's': 'ok',\n",
            "          't': [1578925800, 1579012200, 1579098600, 1579185000],\n",
            "          'v': [100, 100, 200, 100]},\n",
            " 'FFR': {'c': [48.63, 48.56, 48.92, 49.23],\n",
            "         'h': [48.63, 48.61, 48.98, 49.25],\n",
            "         'l': [48.63, 48.5, 48.74, 49.11],\n",
            "         'o': [48.63, 48.54, 48.74, 49.15],\n",
            "         's': 'ok',\n",
            "         't': [1578925800, 1579012200, 1579098600, 1579185000],\n",
            "         'v': [300, 1300, 1700, 2900]},\n",
            " 'GOOGL': {'c': [1440.03, 1430.59, 1439.2, 1450.16],\n",
            "           'h': [1441.48, 1442.63, 1440.78, 1450.7],\n",
            "           'l': [1425.37, 1427.77, 1431.66, 1440],\n",
            "           'o': [1435.25, 1440, 1433.02, 1445.45],\n",
            "           's': 'ok',\n",
            "           't': [1578925800, 1579012200, 1579098600, 1579185000],\n",
            "           'v': [1536500, 1303800, 1077500, 1304000]},\n",
            " 'IDMO': {'c': [28.14, 28.2, 28.36, 28.58],\n",
            "          'h': [28.14, 28.2, 28.36, 28.58],\n",
            "          'l': [28.14, 28.2, 28.36, 28.58],\n",
            "          'o': [28.14, 28.2, 28.36, 28.58],\n",
            "          's': 'ok',\n",
            "          't': [1578925800, 1579012200, 1579098600, 1579185000],\n",
            "          'v': [100, 100, 100, 100]},\n",
            " 'TECTP': {'c': [10.48, 10.48, 10.599, 10.531],\n",
            "           'h': [10.48, 10.48, 10.6, 10.531],\n",
            "           'l': [10.25, 10.48, 10.49, 10.529],\n",
            "           'o': [10.252, 10.48, 10.49, 10.529],\n",
            "           's': 'ok',\n",
            "           't': [1578925800, 1579012200, 1579098600, 1579185000],\n",
            "           'v': [2400, 0, 2000, 600]},\n",
            " 'XTN': {'c': [65.65, 66.43, 66.58, 67.57],\n",
            "         'h': [65.68, 66.81, 67.03, 67.72],\n",
            "         'l': [64.99, 65.76, 66.37, 67.45],\n",
            "         'o': [64.99, 65.76, 66.56, 67.46],\n",
            "         's': 'ok',\n",
            "         't': [1578925800, 1579012200, 1579098600, 1579185000],\n",
            "         'v': [5200, 9700, 10000, 19500]}}\n"
          ],
          "name": "stdout"
        }
      ]
    },
    {
      "cell_type": "markdown",
      "metadata": {
        "id": "28D1L-1ufkqX",
        "colab_type": "text"
      },
      "source": [
        "Remplissage du tableau Candlesticks\n"
      ]
    },
    {
      "cell_type": "code",
      "metadata": {
        "id": "jyg0MO52k7hW",
        "colab_type": "code",
        "colab": {
          "base_uri": "https://localhost:8080/",
          "height": 680
        },
        "outputId": "d944c8f3-2fdc-41d5-f7f8-7e0e931f11e5"
      },
      "source": [
        "for i in companies_candle.keys():\n",
        "  if companies_candle[i][\"s\"] == \"ok\":\n",
        "    for k in range(len(companies_candle[i][\"o\"])):\n",
        "      cursor_PROJET.execute(\n",
        "                          \"\"\"INSERT INTO\n",
        "                                Candlesticks(open_price,high_price,close_price,low_price,volume,timestamp,ticker) \n",
        "                                VALUES   (?,?,?,?,?,?,?)\n",
        "                          \"\"\",(\n",
        "                                companies_candle[i][\"o\"][k],\n",
        "                                companies_candle[i][\"h\"][k],\n",
        "                                companies_candle[i][\"c\"][k],\n",
        "                                companies_candle[i][\"l\"][k],\n",
        "                                companies_candle[i][\"v\"][k],\n",
        "                                companies_candle[i][\"t\"][k],\n",
        "                                i\n",
        "                                \n",
        "                              )\n",
        "                        )\n",
        "    \n",
        "    PROJET.commit()\n",
        "\n",
        "query = '''\n",
        "SELECT *\n",
        "FROM Candlesticks \n",
        "'''\n",
        "resultat_PROJET_CANDLESTICKS = pd.read_sql_query(query,PROJET)\n",
        "print(resultat_PROJET_CANDLESTICKS)"
      ],
      "execution_count": 48,
      "outputs": [
        {
          "output_type": "stream",
          "text": [
            "    id  open_price  high_price  ...    volume   timestamp  ticker\n",
            "0    1   1435.2500    1441.480  ...   1536500  1578925800   GOOGL\n",
            "1    2   1440.0000    1442.630  ...   1303800  1579012200   GOOGL\n",
            "2    3   1433.0200    1440.780  ...   1077500  1579098600   GOOGL\n",
            "3    4   1445.4500    1450.700  ...   1304000  1579185000   GOOGL\n",
            "4    5    219.6000     221.970  ...  14463400  1578925800      FB\n",
            "5    6    221.6100     222.380  ...  13288900  1579012200      FB\n",
            "6    7    220.6100     221.680  ...  10036500  1579098600      FB\n",
            "7    8    222.5700     222.630  ...  10015300  1579185000      FB\n",
            "8    9     10.2520      10.480  ...      2400  1578925800   TECTP\n",
            "9   10     10.4800      10.480  ...         0  1579012200   TECTP\n",
            "10  11     10.4900      10.600  ...      2000  1579098600   TECTP\n",
            "11  12     10.5290      10.531  ...       600  1579185000   TECTP\n",
            "12  13   1891.3101    1898.000  ...   2780800  1578925800    AMZN\n",
            "13  14   1885.8800    1887.110  ...   3440900  1579012200    AMZN\n",
            "14  15   1872.2500    1878.860  ...   2896600  1579098600    AMZN\n",
            "15  16   1882.9900    1885.590  ...   2659500  1579185000    AMZN\n",
            "16  17     64.9900      65.680  ...      5200  1578925800     XTN\n",
            "17  18     65.7600      66.810  ...      9700  1579012200     XTN\n",
            "18  19     66.5600      67.030  ...     10000  1579098600     XTN\n",
            "19  20     67.4600      67.720  ...     19500  1579185000     XTN\n",
            "20  21     48.6300      48.630  ...       300  1578925800     FFR\n",
            "21  22     48.5400      48.610  ...      1300  1579012200     FFR\n",
            "22  23     48.7400      48.980  ...      1700  1579098600     FFR\n",
            "23  24     49.1500      49.250  ...      2900  1579185000     FFR\n",
            "24  25     28.1400      28.140  ...       100  1578925800    IDMO\n",
            "25  26     28.2000      28.200  ...       100  1579012200    IDMO\n",
            "26  27     28.3600      28.360  ...       100  1579098600    IDMO\n",
            "27  28     28.5800      28.580  ...       100  1579185000    IDMO\n",
            "28  29     25.1600      25.260  ...       100  1578925800    FCAN\n",
            "29  30     25.2400      25.240  ...       100  1579012200    FCAN\n",
            "30  31     25.3600      25.360  ...       200  1579098600    FCAN\n",
            "31  32     25.4900      25.490  ...       100  1579185000    FCAN\n",
            "32  33    311.6400     317.070  ...  30383000  1578925800    AAPL\n",
            "33  34    316.7000     317.570  ...  40488600  1579012200    AAPL\n",
            "34  35    311.8500     315.500  ...  30480900  1579098600    AAPL\n",
            "35  36    313.5900     315.700  ...  27207300  1579185000    AAPL\n",
            "\n",
            "[36 rows x 8 columns]\n"
          ],
          "name": "stdout"
        }
      ]
    },
    {
      "cell_type": "markdown",
      "metadata": {
        "id": "4e0drCCDzfvN",
        "colab_type": "text"
      },
      "source": [
        "![Texte alternatif…](https://imgur.com/xgvpxyx.png)"
      ]
    }
  ]
}