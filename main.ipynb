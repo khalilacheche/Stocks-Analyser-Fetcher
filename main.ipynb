{
  "nbformat": 4,
  "nbformat_minor": 0,
  "metadata": {
    "colab": {
      "name": "main.ipynb",
      "provenance": [],
      "collapsed_sections": []
    },
    "kernelspec": {
      "name": "python3",
      "display_name": "Python 3"
    }
  },
  "cells": [
    {
      "cell_type": "markdown",
      "metadata": {
        "id": "B4FUiItwyJOl",
        "colab_type": "text"
      },
      "source": [
        "Chargement de la base de donnée session8.db\n"
      ]
    },
    {
      "cell_type": "code",
      "metadata": {
        "id": "2yYVS3PaTTmQ",
        "colab_type": "code",
        "colab": {}
      },
      "source": [
        "#!pip install mplfinance"
      ],
      "execution_count": 0,
      "outputs": []
    },
    {
      "cell_type": "code",
      "metadata": {
        "id": "ywLIbB_VWchC",
        "colab_type": "code",
        "outputId": "33ed2740-e434-43a2-8c4d-e7fddbaa2a3f",
        "colab": {
          "base_uri": "https://localhost:8080/",
          "height": 187
        }
      },
      "source": [
        "import pandas as pd # chargement des bases de donnees\n",
        "import sqlite3  # chargement/ ecriture dans les bases de donnees\n",
        "\n",
        "import requests # chargement des donnees depuis l'API\n",
        "from requests import get#\n",
        "\n",
        "import pprint #\n",
        "\n",
        "import os.path #lire des fichiers\n",
        "if not os.path.isfile(\"session8.db\"):\n",
        "    import urllib.request #telecharger un fichier depuis une url\n",
        "    urllib.request.urlretrieve(\"http://homepages.ulb.ac.be/~choffreu/session8.db\", \"session8.db\")#telechargement du fichier depuis lurl specifie sous le nom de session8.db\n",
        "\n",
        "SESSION8 = sqlite3.connect('session8.db') #creation de la connexion avec la BDD (rouge)\n",
        "cursor_SESSION8 = SESSION8.cursor() \n",
        "\n",
        "liste_tickers='\"GOOGL\",\"AAPL\",\"FB\",\"AMZN\",\"MSFT\",\"CHIK\",\"BSCP\",\"MHD\",\"LABU\",\"AUSF\"'\n",
        "query = '''\n",
        "  SELECT name, gsector, ticker\n",
        "  FROM Companies \n",
        "  WHERE ticker IN ('''+liste_tickers+')'\n",
        "\n",
        "information_from_session8 = pd.read_sql_query(query,SESSION8) \n",
        "\n",
        "print(information_from_session8)\n",
        "\n",
        "##ADD 5 companies\n",
        "\n",
        "\n",
        "\n",
        "\n",
        "\n"
      ],
      "execution_count": 114,
      "outputs": [
        {
          "output_type": "stream",
          "text": [
            "                           name                     gsector ticker\n",
            "0                  ALPHABET INC  Telecommunication Services  GOOGL\n",
            "1                  FACEBOOK INC  Telecommunication Services     FB\n",
            "2    GLOBAL X MSCI CHINA IT ETF                         N/A   CHIK\n",
            "3                AMAZON.COM INC      Consumer Discretionary   AMZN\n",
            "4  INVESCO BULTSHRS 2025 CP ETF                         N/A   BSCP\n",
            "5   BLACKROCK MUNIHOLDINGS FUND                         N/A    MHD\n",
            "6  GLOBAL X ADAPT US FACTOR ETF                         N/A   AUSF\n",
            "7  DIREXION DLY S&P BIOTEC BU3X                         N/A   LABU\n",
            "8                     APPLE INC      Information Technology   AAPL\n"
          ],
          "name": "stdout"
        }
      ]
    },
    {
      "cell_type": "markdown",
      "metadata": {
        "id": "bqaxKeMYv-71",
        "colab_type": "text"
      },
      "source": [
        "Intialisation de la BDD du Projet:\n",
        "\n",
        "-Creation des tableaux\n",
        "\n",
        "-Copie des infos de la BDD session8 dans la BDD du projet\n",
        "\n"
      ]
    },
    {
      "cell_type": "markdown",
      "metadata": {
        "id": "4e0drCCDzfvN",
        "colab_type": "text"
      },
      "source": [
        "L'architecture de la BDD est representée par ce diagramme:\n",
        "![Texte alternatif…](https://i.imgur.com/GXqsDBv.png)\n"
      ]
    },
    {
      "cell_type": "code",
      "metadata": {
        "id": "Ed3tioE6v8Tc",
        "colab_type": "code",
        "colab": {}
      },
      "source": [
        "PROJET = sqlite3.connect('PROJET.db')\n",
        "cursor_PROJET = PROJET.cursor()\n",
        "\n",
        "#########Tableau Companies#########\n",
        "\n",
        "\n",
        "####Ticker est la cle primaire pour permettre que ce soit une cle secondaire dans Candlesticks et alerts\n",
        "cursor_PROJET.execute(\"\"\"\n",
        "CREATE TABLE IF NOT EXISTS Companies(\n",
        "  ticker TEXT PRIMARY KEY UNIQUE,\n",
        "  gsector TEXT,\n",
        "  name TEXT\n",
        ")\n",
        "\"\"\")\n",
        "PROJET.commit()\n",
        "for i in range(0, len(information_from_session8) ):\n",
        "\n",
        "  cursor_PROJET.execute(\n",
        "                        \"\"\"INSERT INTO\n",
        "                              Companies(ticker,gsector,name) \n",
        "                              VALUES   (  ? ,   ?   ,  ?   )\n",
        "                        \"\"\",(\n",
        "                              information_from_session8[\"ticker\"][i],\n",
        "                              information_from_session8[\"gsector\"][i],\n",
        "                              information_from_session8[\"name\"][i] \n",
        "                            )\n",
        "                      )\n",
        "  \n",
        "  PROJET.commit()\n",
        "\n",
        "cursor_PROJET.execute(\"INSERT INTO Companies(ticker,gsector,name) VALUES ('MSFT', 'IT Services', 'Microsoft')\")\n",
        "PROJET.commit()\n",
        "\n",
        "#########Tableau Directions#########\n",
        "query='''\n",
        "        CREATE TABLE IF NOT EXISTS Directions (\n",
        "          direction TEXT PRIMARY KEY UNIQUE\n",
        "        )\n",
        "'''\n",
        "\n",
        "cursor_PROJET.execute(query)\n",
        "PROJET.commit()\n",
        "\n",
        "directions=[\"max\",\"min\"]\n",
        "for i in directions:\n",
        "  cursor_PROJET.execute(\n",
        "                        \"\"\"INSERT INTO\n",
        "                              Directions(direction) \n",
        "                              VALUES   ( ? )\n",
        "                        \"\"\",(i,))\n",
        "  \n",
        "  PROJET.commit()\n",
        "\n",
        "#########Tableau Sources#########\n",
        "query=\"\"\"\n",
        "        CREATE TABLE IF NOT EXISTS Sources (\n",
        "          source TEXT PRIMARY KEY UNIQUE\n",
        "        )\n",
        "      \"\"\"\n",
        "cursor_PROJET.execute(query)\n",
        "PROJET.commit()\n",
        "sources=[\"open\",\"close\",\"high\",\"low\"]\n",
        "for i in sources:\n",
        "  cursor_PROJET.execute(\n",
        "                        \"\"\"INSERT INTO\n",
        "                              Sources(source) \n",
        "                              VALUES   ( ? )\n",
        "                        \"\"\",( \n",
        "                             i, \n",
        "                            )\n",
        "                      )\n",
        "  \n",
        "  PROJET.commit()\n",
        "\n",
        "#########Tableau Candlesticks#########\n",
        "query=\"\"\"\n",
        "        CREATE TABLE IF NOT EXISTS Candlesticks (\n",
        "          id INTEGER PRIMARY KEY,\n",
        "          open_price FLOAT,\n",
        "          high_price FLOAT,\n",
        "          close_price FLOAT,\n",
        "          low_price FLOAT,\n",
        "          volume INT,\n",
        "          date DATE,\n",
        "          ticker TEXT,\n",
        "          FOREIGN KEY (ticker) REFERENCES Companies (ticker)\n",
        "        )\n",
        "      \"\"\"\n",
        "cursor_PROJET.execute(query)\n",
        "PROJET.commit()\n",
        "#########Tableau Alerts#########\n",
        "query=\"\"\"\n",
        "        CREATE TABLE IF NOT EXISTS Alerts (\n",
        "          name TEXT PRIMARY KEY UNIQUE,\n",
        "          date_start DATE,\n",
        "          date_end DATE,\n",
        "          start_value FLOAT,\n",
        "          end_value FLOAT,\n",
        "          source TEXT,\n",
        "          direction TEXT,\n",
        "          ticker TEXT,\n",
        "          FOREIGN KEY (source) REFERENCES Sources (source)\n",
        "          FOREIGN KEY (direction) REFERENCES Directions (direction)\n",
        "          FOREIGN KEY (ticker) REFERENCES Companies (ticker)\n",
        "        )\n",
        "      \"\"\"\n",
        "cursor_PROJET.execute(query)\n",
        "PROJET.commit()\n",
        "\n",
        "\n",
        "\n"
      ],
      "execution_count": 0,
      "outputs": []
    },
    {
      "cell_type": "markdown",
      "metadata": {
        "id": "u7beVvuz01Ak",
        "colab_type": "text"
      },
      "source": [
        "Chargement des tickers"
      ]
    },
    {
      "cell_type": "code",
      "metadata": {
        "id": "nIxM0Cks0z_P",
        "colab_type": "code",
        "outputId": "f770c60e-6e42-4f66-a29b-00fdabc3a882",
        "colab": {
          "base_uri": "https://localhost:8080/",
          "height": 204
        }
      },
      "source": [
        "\n",
        "query = '''\n",
        "SELECT *\n",
        "FROM Companies \n",
        "'''\n",
        "resultat_PROJET_COMPANIES = pd.read_sql_query(query,PROJET)\n",
        "print(resultat_PROJET_COMPANIES)"
      ],
      "execution_count": 116,
      "outputs": [
        {
          "output_type": "stream",
          "text": [
            "  ticker                     gsector                          name\n",
            "0  GOOGL  Telecommunication Services                  ALPHABET INC\n",
            "1     FB  Telecommunication Services                  FACEBOOK INC\n",
            "2   CHIK                         N/A    GLOBAL X MSCI CHINA IT ETF\n",
            "3   AMZN      Consumer Discretionary                AMAZON.COM INC\n",
            "4   BSCP                         N/A  INVESCO BULTSHRS 2025 CP ETF\n",
            "5    MHD                         N/A   BLACKROCK MUNIHOLDINGS FUND\n",
            "6   AUSF                         N/A  GLOBAL X ADAPT US FACTOR ETF\n",
            "7   LABU                         N/A  DIREXION DLY S&P BIOTEC BU3X\n",
            "8   AAPL      Information Technology                     APPLE INC\n",
            "9   MSFT                 IT Services                     Microsoft\n"
          ],
          "name": "stdout"
        }
      ]
    },
    {
      "cell_type": "markdown",
      "metadata": {
        "id": "FB0uyvt0xMTj",
        "colab_type": "text"
      },
      "source": [
        "Chargement des données depuis l'API"
      ]
    },
    {
      "cell_type": "code",
      "metadata": {
        "id": "e983QswcxMsF",
        "colab_type": "code",
        "colab": {}
      },
      "source": [
        "token = \"bpog5jfrh5ra872e4vkg\"\n",
        "liste_des_actions = resultat_PROJET_COMPANIES[\"ticker\"]\n",
        "        \n",
        "from datetime import datetime\n",
        "start_date = datetime(2019, 1, 1)\n",
        "#start_timestamp = int(datetime.timestamp(start_date)) # <-- ca donne le nombre de secondes écoulées entre le 1/1/1970 à 00:00 et 1/1/2020 \n",
        "end_timestamp = int(datetime.timestamp(datetime.now())) #Prise des dates jusqua maintenant\n",
        "#start_date = datetime(2020, 1, 13) # <-- LUNDI 13 janvier 2020 \n",
        "start_timestamp = int(datetime.timestamp(start_date)) # <-- ca donne le nombre de secondes écoulées entre le 1/1/1970 à 00:00 et 1/1/2020 \n",
        "#end_date = datetime(2020, 1, 17)   # <-- Vendredi 17 janvier 2020 NON COMPRIS\n",
        "#end_timestamp = int(datetime.timestamp(end_date))\n",
        "\n",
        "\n",
        "companies_candle = {}\n",
        "\n",
        "for i in range(0, len(liste_des_actions)):\n",
        "      API_URL = 'https://finnhub.io/api/v1/stock/candle?symbol=' + liste_des_actions[i] + '&resolution=D&from=' + str(start_timestamp) + '&to=' + str(end_timestamp) + '&token=' + token\n",
        "      \n",
        "      REPONSE_DE_L_API = requests.get(API_URL).json()\n",
        "      companies_candle[liste_des_actions[i]] = REPONSE_DE_L_API\n",
        "#pprint.pprint(companies_candle)"
      ],
      "execution_count": 0,
      "outputs": []
    },
    {
      "cell_type": "markdown",
      "metadata": {
        "id": "_WyzfAn0EL2V",
        "colab_type": "text"
      },
      "source": [
        "Remplissage du tableau Candlesticks"
      ]
    },
    {
      "cell_type": "code",
      "metadata": {
        "id": "jyg0MO52k7hW",
        "colab_type": "code",
        "outputId": "01dbb369-284e-4e16-e325-5b75f7fdc8d7",
        "colab": {
          "base_uri": "https://localhost:8080/",
          "height": 255
        }
      },
      "source": [
        "for i in companies_candle.keys():\n",
        "  if companies_candle[i][\"s\"] == \"ok\":\n",
        "    for k in range(len(companies_candle[i][\"o\"])):\n",
        "      date=datetime.fromtimestamp(int(companies_candle[i][\"t\"][k])).strftime(\"%Y/%m/%d\")\n",
        "      cursor_PROJET.execute(\n",
        "                          \"\"\"INSERT INTO\n",
        "                                Candlesticks(open_price,high_price,close_price,low_price,volume,date,ticker) \n",
        "                                VALUES   (?,?,?,?,?,?,?)\n",
        "                          \"\"\",(\n",
        "                                companies_candle[i][\"o\"][k],\n",
        "                                companies_candle[i][\"h\"][k],\n",
        "                                companies_candle[i][\"c\"][k],\n",
        "                                companies_candle[i][\"l\"][k],\n",
        "                                companies_candle[i][\"v\"][k],\n",
        "                                date,\n",
        "                                i\n",
        "                                \n",
        "                              )\n",
        "                        )\n",
        "    \n",
        "    PROJET.commit()\n",
        "\n",
        "query = '''\n",
        "SELECT *\n",
        "FROM Candlesticks\n",
        "'''\n",
        "resultat_PROJET_CANDLESTICKS = pd.read_sql_query(query,PROJET)\n",
        "print(resultat_PROJET_CANDLESTICKS)"
      ],
      "execution_count": 118,
      "outputs": [
        {
          "output_type": "stream",
          "text": [
            "        id  open_price  high_price  ...    volume        date  ticker\n",
            "0        1   1027.2000     1060.79  ...   1593400  2019/01/02   GOOGL\n",
            "1        2   1050.6700     1066.26  ...   2098000  2019/01/03   GOOGL\n",
            "2        3   1042.5601     1080.00  ...   2301100  2019/01/04   GOOGL\n",
            "3        4   1080.9700     1082.70  ...   2372300  2019/01/07   GOOGL\n",
            "4        5   1086.0000     1093.35  ...   1770700  2019/01/08   GOOGL\n",
            "...    ...         ...         ...  ...       ...         ...     ...\n",
            "3208  3209    174.1100      175.06  ...  32790800  2020/04/23    MSFT\n",
            "3209  3210    172.0600      174.56  ...  34305300  2020/04/24    MSFT\n",
            "3210  3211    176.5900      176.90  ...  33194400  2020/04/27    MSFT\n",
            "3211  3212    175.5900      175.67  ...  34392700  2020/04/28    MSFT\n",
            "3212  3213    173.2200      177.68  ...  50872900  2020/04/29    MSFT\n",
            "\n",
            "[3213 rows x 8 columns]\n"
          ],
          "name": "stdout"
        }
      ]
    },
    {
      "cell_type": "markdown",
      "metadata": {
        "id": "1J-GiYSd1WeP",
        "colab_type": "text"
      },
      "source": [
        "QUESTION 1:"
      ]
    },
    {
      "cell_type": "code",
      "metadata": {
        "id": "AIKIS7OnyXSp",
        "colab_type": "code",
        "outputId": "5f49d4b8-fe49-4b0b-bd1d-c17a92969913",
        "colab": {
          "base_uri": "https://localhost:8080/",
          "height": 54
        }
      },
      "source": [
        "query = '''\n",
        "  SELECT ticker\n",
        "  FROM Companies '''\n",
        "PROJET = sqlite3.connect('PROJET.db')\n",
        "cursor_PROJET = PROJET.cursor()\n",
        "liste_tickers = pd.read_sql_query(query,PROJET)\n",
        "max_dict={}\n",
        "for index, row in liste_tickers.iterrows():\n",
        "    query = '''\n",
        "      SELECT open_price,close_price\n",
        "      FROM Candlesticks WHERE ticker IN (\\\"'''+row['ticker']+\"\\\")\"\n",
        "    cd_df=pd.read_sql_query(query,PROJET)\n",
        "    difference_q1=0\n",
        "    for index_cd, row_cd in cd_df.iterrows():\n",
        "        if(index_cd!=0):\n",
        "          if((cd_df.loc[index_cd-1,\"close_price\"]/row_cd[\"open_price\"])>difference_q1):\n",
        "            difference_q1=cd_df.loc[index_cd-1,\"close_price\"]/row_cd[\"open_price\"]\n",
        "\n",
        "    max_dict[row['ticker']]=difference_q1\n",
        "\n",
        "print(max_dict)"
      ],
      "execution_count": 119,
      "outputs": [
        {
          "output_type": "stream",
          "text": [
            "{'AAPL': 1.1488737342426123, 'AMZN': 1.0874134181333042, 'AUSF': 1.1113013698630136, 'BSCP': 1.074016563146998, 'CHIK': 1.1542177108855443, 'FB': 1.1179096638655464, 'GOOGL': 1.114407907416415, 'LABU': 1.3111831442463533, 'MHD': 1.0480976310122039, 'MSFT': 1.1345}\n"
          ],
          "name": "stdout"
        }
      ]
    },
    {
      "cell_type": "markdown",
      "metadata": {
        "id": "Cf3ckl1mDXFB",
        "colab_type": "text"
      },
      "source": [
        "QUESTION 2:"
      ]
    },
    {
      "cell_type": "code",
      "metadata": {
        "id": "1uT7ULcKDcZe",
        "colab_type": "code",
        "outputId": "accd5a10-02e2-4c47-b3a9-31e5966a1242",
        "colab": {
          "base_uri": "https://localhost:8080/",
          "height": 54
        }
      },
      "source": [
        "query = '''\n",
        "  SELECT ticker\n",
        "  FROM Companies '''\n",
        "PROJET = sqlite3.connect('PROJET.db')\n",
        "cursor_PROJET = PROJET.cursor()\n",
        "liste_tickers = pd.read_sql_query(query,PROJET)\n",
        "max_df={}\n",
        "for index, row in liste_tickers.iterrows():\n",
        "    query = '''\n",
        "      SELECT high_price,low_price\n",
        "      FROM Candlesticks WHERE ticker IN (\\\"'''+row['ticker']+\"\\\")\"\n",
        "    cd_df=pd.read_sql_query(query,PROJET)\n",
        "    diff_df=(cd_df.assign(difference=lambda x :x[\"high_price\"]-x[\"low_price\"])).loc[:,\"difference\"]\n",
        "    max_df[row[\"ticker\"]]=diff_df.max()\n",
        "\n",
        "print(max_df)"
      ],
      "execution_count": 120,
      "outputs": [
        {
          "output_type": "stream",
          "text": [
            "{'AAPL': 26.970000000000027, 'AMZN': 168.53999999999996, 'AUSF': 4.32, 'BSCP': 1.259999999999998, 'CHIK': 2.3240000000000016, 'FB': 16.03, 'GOOGL': 102.11000000000013, 'LABU': 9.939999999999998, 'MHD': 2.49, 'MSFT': 21.180000000000007}\n"
          ],
          "name": "stdout"
        }
      ]
    },
    {
      "cell_type": "markdown",
      "metadata": {
        "id": "6G7ZspG0IkLs",
        "colab_type": "text"
      },
      "source": [
        "QUESTION 3:"
      ]
    },
    {
      "cell_type": "code",
      "metadata": {
        "id": "-CzblhVAInOb",
        "colab_type": "code",
        "outputId": "43a04854-e64d-45b6-a5ab-1cc58228e8e4",
        "colab": {
          "base_uri": "https://localhost:8080/",
          "height": 34
        }
      },
      "source": [
        "def evolution (ticker,date_debut,date_fin):\n",
        "  query = '''\n",
        "      SELECT close_price,date\n",
        "      FROM Candlesticks WHERE (ticker IN (\\\"'''+ticker+\"\\\")\"+'''\n",
        "      AND (date=\\''''+date_debut.strftime(\"%Y/%m/%d\")+\"\\' OR date=\\'\"+date_fin.strftime(\"%Y/%m/%d\")+\"\\'))\"\n",
        "  \n",
        "  PROJET = sqlite3.connect('PROJET.db')\n",
        "  cursor_PROJET = PROJET.cursor()\n",
        "  df=pd.read_sql_query(query,PROJET)\n",
        "  return (df.loc[1,\"close_price\"]-df.loc[0,\"close_price\"])/df.loc[0,\"close_price\"]\n",
        "\n",
        "evolution(\"AAPL\",datetime(2020, 1, 13),datetime(2020, 1, 15))"
      ],
      "execution_count": 121,
      "outputs": [
        {
          "output_type": "execute_result",
          "data": {
            "text/plain": [
              "-0.0177309439676931"
            ]
          },
          "metadata": {
            "tags": []
          },
          "execution_count": 121
        }
      ]
    },
    {
      "cell_type": "markdown",
      "metadata": {
        "id": "LLctgQJTXdW0",
        "colab_type": "text"
      },
      "source": [
        "QUESTION 4:"
      ]
    },
    {
      "cell_type": "code",
      "metadata": {
        "id": "0u0jFhuEXkFf",
        "colab_type": "code",
        "outputId": "01602bfa-e8df-4b34-f173-e61b985b5cee",
        "colab": {
          "base_uri": "https://localhost:8080/",
          "height": 34
        }
      },
      "source": [
        "def nbVar (ticker,date_debut,date_fin,valeur_limite):\n",
        "  query = '''\n",
        "      SELECT open_price,close_price\n",
        "      FROM Candlesticks WHERE (ticker IN (\\\"'''+ticker+\"\\\")\"+'''\n",
        "      AND (date>=\\''''+date_debut.strftime(\"%Y/%m/%d\")+\"\\' AND date<=\\'\"+date_fin.strftime(\"%Y/%m/%d\")+\"\\'))\"\n",
        "  PROJET = sqlite3.connect('PROJET.db')\n",
        "  cursor_PROJET = PROJET.cursor()\n",
        "  df=pd.read_sql_query(query,PROJET)\n",
        "  diff_df=(df.assign(difference=lambda x :abs(x[\"open_price\"]-x[\"close_price\"]))).loc[:,\"difference\"]\n",
        "  return diff_df[diff_df > valeur_limite].count()\n",
        "\n",
        "print(nbVar(\"AAPL\",datetime(2020, 1, 13),datetime(2020, 1, 15),1))"
      ],
      "execution_count": 122,
      "outputs": [
        {
          "output_type": "stream",
          "text": [
            "2\n"
          ],
          "name": "stdout"
        }
      ]
    },
    {
      "cell_type": "markdown",
      "metadata": {
        "id": "wE_lPOahbn5c",
        "colab_type": "text"
      },
      "source": [
        "QUESTION 5:"
      ]
    },
    {
      "cell_type": "code",
      "metadata": {
        "id": "WlIVwkb5vZrY",
        "colab_type": "code",
        "colab": {
          "base_uri": "https://localhost:8080/",
          "height": 271
        },
        "outputId": "f1b1a4f9-279d-461a-a93d-35c9309094f9"
      },
      "source": [
        "import matplotlib as mpl\n",
        "import matplotlib.pyplot as plt\n",
        "import mplfinance as mpf\n",
        "from mplfinance.original_flavor import candlestick_ohlc\n",
        "def draw_graph (ticker, date_debut,date_fin):\n",
        "    query = '''\n",
        "      SELECT open_price,close_price,high_price,low_price,date\n",
        "      FROM Candlesticks WHERE (ticker IN (\\\"'''+ticker+\"\\\")\"+'''\n",
        "      AND (date>=\\''''+date_debut.strftime(\"%Y/%m/%d\")+\"\\' AND date<=\\'\"+date_fin.strftime(\"%Y/%m/%d\")+\"\\'))\"\n",
        "    PROJET = sqlite3.connect('PROJET.db')\n",
        "    cursor_PROJET = PROJET.cursor()\n",
        "    df=pd.read_sql_query(query,PROJET) \n",
        "    \n",
        "    max_value=df[[\"open_price\",\"close_price\"]].max().max()\n",
        "    min_value=df[[\"open_price\",\"close_price\"]].min().min()\n",
        "    #####Affichage\n",
        "    date_format = mpl.dates.DateFormatter('%d/%m/%Y')\n",
        "    df.date=mpl.dates.date2num(pd.to_datetime(df.date))\n",
        "    df.index=df.date\n",
        "    fig, ax_candles = plt.subplots()\n",
        "    quot=df[['date','open_price','high_price','low_price','close_price']].values.tolist()\n",
        "    candlestick_ohlc(ax_candles, quotes=quot)\n",
        "    ax_candles.plot([df['date'].iloc[0],df['date'].iloc[-1]],[max_value,max_value])\n",
        "    ax_candles.plot([df['date'].iloc[0],df['date'].iloc[-1]],[min_value,min_value])\n",
        "    ax_candles.autoscale_view()\n",
        "    ax_candles.grid(True)\n",
        "    ax_candles.xaxis.set_major_formatter(date_format)\n",
        "    fig.autofmt_xdate()\n",
        "    plt.show()\n",
        "    \n",
        "draw_graph(\"AAPL\",datetime(2020, 1, 1),datetime.now())    "
      ],
      "execution_count": 123,
      "outputs": [
        {
          "output_type": "display_data",
          "data": {
            "image/png": "[encoded data removed]",
            "text/plain": [
              "<Figure size 432x288 with 1 Axes>"
            ]
          },
          "metadata": {
            "tags": [],
            "needs_background": "light"
          }
        }
      ]
    },
    {
      "cell_type": "markdown",
      "metadata": {
        "id": "eEVN-3Rs0dDo",
        "colab_type": "text"
      },
      "source": [
        "QUESTION 6:"
      ]
    },
    {
      "cell_type": "code",
      "metadata": {
        "id": "MJBt8F2G0cVa",
        "colab_type": "code",
        "outputId": "688e0b7b-fed4-4357-99db-689e0993c07b",
        "colab": {
          "base_uri": "https://localhost:8080/",
          "height": 85
        }
      },
      "source": [
        "def add_alert (name, ticker, date_start,date_end,start_value,end_value,source,direction):\n",
        "    PROJET = sqlite3.connect('PROJET.db')\n",
        "    cursor_PROJET = PROJET.cursor()    \n",
        "    dir_df=pd.read_sql_query(\"SELECT * FROM Directions\",PROJET)\n",
        "    source_df=pd.read_sql_query(\"SELECT * FROM Sources\",PROJET)\n",
        "    if (not(direction in list(dir_df[\"direction\"])) or not(source in list(source_df[\"source\"]))):\n",
        "      return#Si les elements source et direction ne correspondent pas a des elemnts de source ou direction de leurs tableaux,on najoute pas lelement\n",
        "    \n",
        "    cursor_PROJET.execute(\n",
        "                          \"\"\"INSERT INTO\n",
        "                                Alerts(name,date_start,date_end,start_value,end_value,source,direction,ticker) \n",
        "                                VALUES   (?,?,?,?,?,?,?,?)\n",
        "                          \"\"\",(\n",
        "                                name,\n",
        "                                date_start.strftime(\"%Y/%m/%d\"),\n",
        "                                date_end.strftime(\"%Y/%m/%d\"),\n",
        "                                str(start_value),\n",
        "                                str(end_value),\n",
        "                                source,\n",
        "                                direction,\n",
        "                                ticker\n",
        "                              )\n",
        "    )\n",
        "    PROJET.commit()\n",
        "\n",
        "\n",
        "PROJET = sqlite3.connect('PROJET.db')\n",
        "cursor_PROJET = PROJET.cursor()\n",
        "query=\"SELECT * FROM Alerts\"\n",
        "add_alert(\"test4\",\"AAPL\",datetime(2019,7,9),datetime(2019,12,21),200,260,\"open\",\"max\")\n",
        "df=pd.read_sql_query(query,PROJET)\n",
        "print(df)"
      ],
      "execution_count": 124,
      "outputs": [
        {
          "output_type": "stream",
          "text": [
            "    name  date_start    date_end  ...  source  direction ticker\n",
            "0  test4  2019/07/09  2019/12/21  ...    open        max   AAPL\n",
            "\n",
            "[1 rows x 8 columns]\n"
          ],
          "name": "stdout"
        }
      ]
    },
    {
      "cell_type": "markdown",
      "metadata": {
        "id": "7I-8rN3oAeQs",
        "colab_type": "text"
      },
      "source": [
        "QUESTION 7:"
      ]
    },
    {
      "cell_type": "code",
      "metadata": {
        "id": "ohMR2YI5At1D",
        "colab_type": "code",
        "outputId": "4c6d787f-e7fb-477e-ab0b-8349fba50cc4",
        "colab": {
          "base_uri": "https://localhost:8080/",
          "height": 288
        }
      },
      "source": [
        "def nb_alert(name):\n",
        "  PROJET = sqlite3.connect('PROJET.db')\n",
        "  cursor_PROJET = PROJET.cursor()\n",
        "  \n",
        "  query=\"SELECT * FROM Alerts WHERE name=\\'\"+name+\"\\'\"#importation de alert by name\n",
        "  alert_df=pd.read_sql_query(query,PROJET)\n",
        "\n",
        "  query='''SELECT open_price,high_price,low_price,close_price,date FROM Candlesticks\n",
        "          WHERE (ticker =\\\"'''+alert_df.ticker[0]+\"\\\" AND (date >=\\'\"+alert_df.date_start[0]+\"\\' AND date <=\\'\"+alert_df.date_end[0]+\"\\'))\"\n",
        "  df_tick=pd.read_sql_query(query,PROJET)\n",
        "  slope = (float(alert_df.end_value[0])-float(alert_df.start_value[0]))/df_tick.shape[0]\n",
        "  equation = lambda t : slope*t+float(alert_df.start_value[0])\n",
        "  count=0\n",
        "  for index, row in df_tick.iterrows():\n",
        "    delta_days = int(index)\n",
        "    delta_value=equation(delta_days)\n",
        "    indice=alert_df.source[0]+\"_price\"\n",
        "    if(float(row[indice])<delta_value):\n",
        "      count+=1\n",
        "  #####PARTIE AFFICHAGE#######\n",
        "  date_format = mpl.dates.DateFormatter('%d/%m/%Y')\n",
        "  df_tick.date=mpl.dates.date2num(pd.to_datetime(df_tick.date))\n",
        "  df_tick.index=df_tick.date\n",
        "  fig, ax_candles = plt.subplots()\n",
        "  quot=df_tick[['date','open_price','high_price','low_price','close_price']].values.tolist()\n",
        "  candlestick_ohlc(ax_candles, quotes=quot)\n",
        "  ax_candles.plot([df_tick['date'].iloc[0],df_tick['date'].iloc[-1]],[alert_df.start_value[0],alert_df.end_value[0]])\n",
        "  ax_candles.autoscale_view()\n",
        "  ax_candles.grid(True)\n",
        "  ax_candles.xaxis.set_major_formatter(date_format)\n",
        "  fig.autofmt_xdate()\n",
        "  plt.show()\n",
        "  #######\n",
        "  return count\n",
        "nb_alert(\"test4\")"
      ],
      "execution_count": 125,
      "outputs": [
        {
          "output_type": "display_data",
          "data": {
            "image/png": "[encoded data removed]",
            "text/plain": [
              "<Figure size 432x288 with 1 Axes>"
            ]
          },
          "metadata": {
            "tags": [],
            "needs_background": "light"
          }
        },
        {
          "output_type": "execute_result",
          "data": {
            "text/plain": [
              "54"
            ]
          },
          "metadata": {
            "tags": []
          },
          "execution_count": 125
        }
      ]
    },
    {
      "cell_type": "markdown",
      "metadata": {
        "id": "m6jM-LldBbOa",
        "colab_type": "text"
      },
      "source": [
        "QUESTION 8:"
      ]
    },
    {
      "cell_type": "code",
      "metadata": {
        "id": "8GiyD7ZnQFoV",
        "colab_type": "code",
        "outputId": "1cb1eb3b-2a0b-4fc2-c8f5-355e2283f4fa",
        "colab": {
          "base_uri": "https://localhost:8080/",
          "height": 361
        }
      },
      "source": [
        "import matplotlib as mpl\n",
        "import matplotlib.pyplot as plt\n",
        "import mplfinance as mpf\n",
        "from mplfinance.original_flavor import candlestick_ohlc\n",
        "def draw_enveloppe(ticker,date_start,date_end,source,pourcentage):\n",
        "  PROJET = sqlite3.connect('PROJET.db')\n",
        "\n",
        "  query = \"SELECT * FROM Candlesticks WHERE ticker='\"+ticker+\"' AND date >= '\"+date_start.strftime(\"%Y/%m/%d\")+\"' AND date <= '\"+date_end.strftime(\"%Y/%m/%d\")+\"'\"\n",
        "  df=pd.read_sql_query(query,PROJET)\n",
        "  if source==\"open\":\n",
        "    moyenne=df['open_price'].mean()\n",
        "  elif source==\"close\":\n",
        "    moyenne=df['close_price'].mean()\n",
        "  up=moyenne+moyenne*pourcentage\n",
        "  down=moyenne-moyenne*pourcentage\n",
        "  \n",
        "  df.index=mpl.dates.date2num(pd.to_datetime(df.date).to_pydatetime())\n",
        "\n",
        "  df=df.rename(columns={\"open_price\": \"Open\", \"close_price\": \"Close\",\"high_price\":\"High\",\"low_price\":\"Low\"})\n",
        "  display(df)\n",
        "\n",
        "  fig, ax = plt.subplots()\n",
        "  candlestick_ohlc(ax, quotes=[df['date'],df['Open'],df['High'], df['Low'],df['Close']])\n",
        "  ax.autoscale_view()\n",
        "  ax.grid(True)\n",
        "  fig.autofmt_xdate()\n",
        "\n",
        "  plt.show()\n",
        "\n",
        "draw_enveloppe(\"AMZN\", datetime(2020,1,9),datetime(2020,3,29), \"open\", 0.01)\n"
      ],
      "execution_count": 126,
      "outputs": [
        {
          "output_type": "error",
          "ename": "AttributeError",
          "evalue": "ignored",
          "traceback": [
            "\u001b[0;31m---------------------------------------------------------------------------\u001b[0m",
            "\u001b[0;31mAttributeError\u001b[0m                            Traceback (most recent call last)",
            "\u001b[0;32m<ipython-input-126-9f8aba2ec47e>\u001b[0m in \u001b[0;36m<module>\u001b[0;34m()\u001b[0m\n\u001b[1;32m     28\u001b[0m   \u001b[0mplt\u001b[0m\u001b[0;34m.\u001b[0m\u001b[0mshow\u001b[0m\u001b[0;34m(\u001b[0m\u001b[0;34m)\u001b[0m\u001b[0;34m\u001b[0m\u001b[0;34m\u001b[0m\u001b[0m\n\u001b[1;32m     29\u001b[0m \u001b[0;34m\u001b[0m\u001b[0m\n\u001b[0;32m---> 30\u001b[0;31m \u001b[0mdraw_enveloppe\u001b[0m\u001b[0;34m(\u001b[0m\u001b[0;34m\"AMZN\"\u001b[0m\u001b[0;34m,\u001b[0m \u001b[0mdatetime\u001b[0m\u001b[0;34m(\u001b[0m\u001b[0;36m2020\u001b[0m\u001b[0;34m,\u001b[0m\u001b[0;36m1\u001b[0m\u001b[0;34m,\u001b[0m\u001b[0;36m9\u001b[0m\u001b[0;34m)\u001b[0m\u001b[0;34m,\u001b[0m\u001b[0mdatetime\u001b[0m\u001b[0;34m(\u001b[0m\u001b[0;36m2020\u001b[0m\u001b[0;34m,\u001b[0m\u001b[0;36m3\u001b[0m\u001b[0;34m,\u001b[0m\u001b[0;36m29\u001b[0m\u001b[0;34m)\u001b[0m\u001b[0;34m,\u001b[0m \u001b[0;34m\"open\"\u001b[0m\u001b[0;34m,\u001b[0m \u001b[0;36m0.01\u001b[0m\u001b[0;34m)\u001b[0m\u001b[0;34m\u001b[0m\u001b[0;34m\u001b[0m\u001b[0m\n\u001b[0m",
            "\u001b[0;32m<ipython-input-126-9f8aba2ec47e>\u001b[0m in \u001b[0;36mdraw_enveloppe\u001b[0;34m(ticker, date_start, date_end, source, pourcentage)\u001b[0m\n\u001b[1;32m     15\u001b[0m   \u001b[0mdown\u001b[0m\u001b[0;34m=\u001b[0m\u001b[0mmoyenne\u001b[0m\u001b[0;34m-\u001b[0m\u001b[0mmoyenne\u001b[0m\u001b[0;34m*\u001b[0m\u001b[0mpourcentage\u001b[0m\u001b[0;34m\u001b[0m\u001b[0;34m\u001b[0m\u001b[0m\n\u001b[1;32m     16\u001b[0m \u001b[0;34m\u001b[0m\u001b[0m\n\u001b[0;32m---> 17\u001b[0;31m   \u001b[0mdf\u001b[0m\u001b[0;34m.\u001b[0m\u001b[0mindex\u001b[0m\u001b[0;34m=\u001b[0m\u001b[0mmpl\u001b[0m\u001b[0;34m.\u001b[0m\u001b[0mdates\u001b[0m\u001b[0;34m.\u001b[0m\u001b[0mdate2num\u001b[0m\u001b[0;34m(\u001b[0m\u001b[0mpd\u001b[0m\u001b[0;34m.\u001b[0m\u001b[0mto_datetime\u001b[0m\u001b[0;34m(\u001b[0m\u001b[0mdf\u001b[0m\u001b[0;34m.\u001b[0m\u001b[0mdate\u001b[0m\u001b[0;34m)\u001b[0m\u001b[0;34m.\u001b[0m\u001b[0mto_pydatetime\u001b[0m\u001b[0;34m(\u001b[0m\u001b[0;34m)\u001b[0m\u001b[0;34m)\u001b[0m\u001b[0;34m\u001b[0m\u001b[0;34m\u001b[0m\u001b[0m\n\u001b[0m\u001b[1;32m     18\u001b[0m \u001b[0;34m\u001b[0m\u001b[0m\n\u001b[1;32m     19\u001b[0m   \u001b[0mdf\u001b[0m\u001b[0;34m=\u001b[0m\u001b[0mdf\u001b[0m\u001b[0;34m.\u001b[0m\u001b[0mrename\u001b[0m\u001b[0;34m(\u001b[0m\u001b[0mcolumns\u001b[0m\u001b[0;34m=\u001b[0m\u001b[0;34m{\u001b[0m\u001b[0;34m\"open_price\"\u001b[0m\u001b[0;34m:\u001b[0m \u001b[0;34m\"Open\"\u001b[0m\u001b[0;34m,\u001b[0m \u001b[0;34m\"close_price\"\u001b[0m\u001b[0;34m:\u001b[0m \u001b[0;34m\"Close\"\u001b[0m\u001b[0;34m,\u001b[0m\u001b[0;34m\"high_price\"\u001b[0m\u001b[0;34m:\u001b[0m\u001b[0;34m\"High\"\u001b[0m\u001b[0;34m,\u001b[0m\u001b[0;34m\"low_price\"\u001b[0m\u001b[0;34m:\u001b[0m\u001b[0;34m\"Low\"\u001b[0m\u001b[0;34m}\u001b[0m\u001b[0;34m)\u001b[0m\u001b[0;34m\u001b[0m\u001b[0;34m\u001b[0m\u001b[0m\n",
            "\u001b[0;32m/usr/local/lib/python3.6/dist-packages/pandas/core/generic.py\u001b[0m in \u001b[0;36m__getattr__\u001b[0;34m(self, name)\u001b[0m\n\u001b[1;32m   5272\u001b[0m             \u001b[0;32mif\u001b[0m \u001b[0mself\u001b[0m\u001b[0;34m.\u001b[0m\u001b[0m_info_axis\u001b[0m\u001b[0;34m.\u001b[0m\u001b[0m_can_hold_identifiers_and_holds_name\u001b[0m\u001b[0;34m(\u001b[0m\u001b[0mname\u001b[0m\u001b[0;34m)\u001b[0m\u001b[0;34m:\u001b[0m\u001b[0;34m\u001b[0m\u001b[0;34m\u001b[0m\u001b[0m\n\u001b[1;32m   5273\u001b[0m                 \u001b[0;32mreturn\u001b[0m \u001b[0mself\u001b[0m\u001b[0;34m[\u001b[0m\u001b[0mname\u001b[0m\u001b[0;34m]\u001b[0m\u001b[0;34m\u001b[0m\u001b[0;34m\u001b[0m\u001b[0m\n\u001b[0;32m-> 5274\u001b[0;31m             \u001b[0;32mreturn\u001b[0m \u001b[0mobject\u001b[0m\u001b[0;34m.\u001b[0m\u001b[0m__getattribute__\u001b[0m\u001b[0;34m(\u001b[0m\u001b[0mself\u001b[0m\u001b[0;34m,\u001b[0m \u001b[0mname\u001b[0m\u001b[0;34m)\u001b[0m\u001b[0;34m\u001b[0m\u001b[0;34m\u001b[0m\u001b[0m\n\u001b[0m\u001b[1;32m   5275\u001b[0m \u001b[0;34m\u001b[0m\u001b[0m\n\u001b[1;32m   5276\u001b[0m     \u001b[0;32mdef\u001b[0m \u001b[0m__setattr__\u001b[0m\u001b[0;34m(\u001b[0m\u001b[0mself\u001b[0m\u001b[0;34m,\u001b[0m \u001b[0mname\u001b[0m\u001b[0;34m:\u001b[0m \u001b[0mstr\u001b[0m\u001b[0;34m,\u001b[0m \u001b[0mvalue\u001b[0m\u001b[0;34m)\u001b[0m \u001b[0;34m->\u001b[0m \u001b[0;32mNone\u001b[0m\u001b[0;34m:\u001b[0m\u001b[0;34m\u001b[0m\u001b[0;34m\u001b[0m\u001b[0m\n",
            "\u001b[0;31mAttributeError\u001b[0m: 'Series' object has no attribute 'to_pydatetime'"
          ]
        }
      ]
    },
    {
      "cell_type": "markdown",
      "metadata": {
        "id": "LF-RkZpMBfyI",
        "colab_type": "text"
      },
      "source": [
        "QUESTION 10:"
      ]
    },
    {
      "cell_type": "code",
      "metadata": {
        "id": "eyrGbsABRPor",
        "colab_type": "code",
        "colab": {
          "base_uri": "https://localhost:8080/",
          "height": 272
        },
        "outputId": "37cae710-c4dc-4989-e632-04a2c1e41c37"
      },
      "source": [
        "def draw_graph_volume (ticker, date_debut,date_fin):\n",
        "    query = '''\n",
        "      SELECT open_price,close_price,high_price,low_price,date,volume\n",
        "      FROM Candlesticks WHERE (ticker IN (\\\"'''+ticker+\"\\\")\"+'''\n",
        "      AND (date>=\\''''+date_debut.strftime(\"%Y/%m/%d\")+\"\\' AND date<=\\'\"+date_fin.strftime(\"%Y/%m/%d\")+\"\\'))\"\n",
        "    PROJET = sqlite3.connect('PROJET.db')\n",
        "    cursor_PROJET = PROJET.cursor()\n",
        "    df=pd.read_sql_query(query,PROJET)\n",
        "    df.date=mpl.dates.date2num(pd.to_datetime(df.date))\n",
        "    df.index=df.date \n",
        "    fig, ax = plt.subplots()\n",
        "    quot=df[['date','open_price','high_price','low_price','close_price']].values.tolist()\n",
        "    candlestick_ohlc(ax, quotes=quot)\n",
        "    ax1 = ax.twinx()\n",
        "    color_list=[]\n",
        "    green_color=(0,1,0,0.2)\n",
        "    red_color=(1,0,0,0.2)\n",
        "    for index,row in df.iterrows():\n",
        "      if row.open_price> row.close_price:\n",
        "        color_list.append(red_color)\n",
        "      else:\n",
        "        color_list.append(green_color)\n",
        "    ax1.bar(df.date,df.volume,color=color_list)\n",
        "    ax.autoscale_view()\n",
        "    ax.grid(True)\n",
        "    fig.autofmt_xdate()\n",
        "    \n",
        "    plt.show()\n",
        "draw_graph_volume(\"AAPL\",datetime(2019,9,7),datetime(2019,12,21))"
      ],
      "execution_count": 127,
      "outputs": [
        {
          "output_type": "display_data",
          "data": {
            "image/png": "[encoded data removed]",
            "text/plain": [
              "<Figure size 432x288 with 2 Axes>"
            ]
          },
          "metadata": {
            "tags": [],
            "needs_background": "light"
          }
        }
      ]
    },
    {
      "cell_type": "markdown",
      "metadata": {
        "id": "Fte1AdGFBjWs",
        "colab_type": "text"
      },
      "source": [
        "QUESTION 11:"
      ]
    },
    {
      "cell_type": "code",
      "metadata": {
        "id": "uE3qhXv4w6uv",
        "colab_type": "code",
        "colab": {
          "base_uri": "https://localhost:8080/",
          "height": 530
        },
        "outputId": "eb34d63b-c6e3-47f6-e6f1-d63e592dd4a2"
      },
      "source": [
        "def draw_graph_vwap (ticker):\n",
        "  query = '''\n",
        "      SELECT high_price,low_price,close_price,open_price,volume,date\n",
        "      FROM Candlesticks WHERE ticker IN (\\\"'''+ticker+\"\\\")\"\n",
        "  PROJET = sqlite3.connect('PROJET.db')\n",
        "  cursor_PROJET = PROJET.cursor()\n",
        "  df=pd.read_sql_query(query,PROJET)\n",
        "  #####Calcul\n",
        "  sum_vol_mean=0\n",
        "  sum_vol=0\n",
        "  vwap_list=[]\n",
        "\n",
        "  for index,row in df.iterrows():\n",
        "    typical_price=(row.high_price+row.low_price+row.close_price)/3\n",
        "    sum_vol_mean+=typical_price*row.volume\n",
        "    sum_vol+=row.volume\n",
        "    vwap_list.append(sum_vol_mean/sum_vol)\n",
        "  df[\"vwap\"]=vwap_list\n",
        "  #####Affichage\n",
        "  date_format = mpl.dates.DateFormatter('%d/%m/%Y')\n",
        "  df.date=mpl.dates.date2num(pd.to_datetime(df.date))\n",
        "  df.index=df.date\n",
        "    ###Afiichage Candlesticks\n",
        "  fig, ax_vwap = plt.subplots()\n",
        "  quot=df[['date','open_price','high_price','low_price','close_price']].values.tolist()\n",
        "  candlestick_ohlc(ax_vwap, quotes=quot)\n",
        "    ###Affichage VWAP\n",
        "  ax_vwap.plot(df.date,df.vwap)\n",
        "  ax_vwap.autoscale_view()\n",
        "  ax_vwap.grid(True)\n",
        "  ax_vwap.xaxis.set_major_formatter(date_format)\n",
        "  \n",
        "    ###Affichage volumes\n",
        "  fig, ax_vol = plt.subplots()\n",
        "  color_list=[]\n",
        "  green_color=(0,1,0,1)\n",
        "  red_color=(1,0,0,1)\n",
        "  for index,row in df.iterrows():\n",
        "    if row.open_price> row.close_price:\n",
        "      color_list.append(red_color)\n",
        "    else:\n",
        "      color_list.append(green_color)\n",
        "  ax_vol.bar(df.date,df.volume,color=color_list)\n",
        "  ax_vol.xaxis.set_major_formatter(date_format)\n",
        "    ###Affichage du tout\n",
        "  fig.autofmt_xdate()\n",
        "  plt.show()\n",
        "\n",
        "draw_graph_vwap(\"MSFT\")\n",
        "    "
      ],
      "execution_count": 129,
      "outputs": [
        {
          "output_type": "display_data",
          "data": {
            "image/png": "[encoded data removed]",
            "text/plain": [
              "<Figure size 432x288 with 1 Axes>"
            ]
          },
          "metadata": {
            "tags": [],
            "needs_background": "light"
          }
        },
        {
          "output_type": "display_data",
          "data": {
            "image/png": "[encoded data removed]",
            "text/plain": [
              "<Figure size 432x288 with 1 Axes>"
            ]
          },
          "metadata": {
            "tags": [],
            "needs_background": "light"
          }
        }
      ]
    }
  ]
}