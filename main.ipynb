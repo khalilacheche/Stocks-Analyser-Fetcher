{
  "nbformat": 4,
  "nbformat_minor": 0,
  "metadata": {
    "colab": {
      "name": "main.ipynb",
      "provenance": [],
      "collapsed_sections": []
    },
    "kernelspec": {
      "name": "python3",
      "display_name": "Python 3"
    }
  },
  "cells": [
    {
      "cell_type": "markdown",
      "metadata": {
        "id": "B4FUiItwyJOl",
        "colab_type": "text"
      },
      "source": [
        "Chargement de la base de donnée session8.db\n"
      ]
    },
    {
      "cell_type": "code",
      "metadata": {
        "id": "ywLIbB_VWchC",
        "colab_type": "code",
        "outputId": "216761e4-630e-442c-f38a-1a2af9bffebe",
        "colab": {
          "base_uri": "https://localhost:8080/",
          "height": 187
        }
      },
      "source": [
        "import pandas as pd # chargement des bases de donnees\n",
        "import sqlite3  # chargement/ ecriture dans les bases de donnees\n",
        "\n",
        "import requests # chargement des donnees depuis l'API\n",
        "from requests import get#\n",
        "\n",
        "import pprint #\n",
        "\n",
        "import os.path #lire des fichiers\n",
        "if not os.path.isfile(\"session8.db\"):\n",
        "    import urllib.request #telecharger un fichier depuis une url\n",
        "    urllib.request.urlretrieve(\"http://homepages.ulb.ac.be/~choffreu/session8.db\", \"session8.db\")#telechargement du fichier depuis lurl specifie sous le nom de session8.db\n",
        "\n",
        "SESSION8 = sqlite3.connect('session8.db') #creation de la connexion avec la BDD (rouge)\n",
        "cursor_SESSION8 = SESSION8.cursor() \n",
        "\n",
        "query = '''\n",
        "  SELECT name, gsector, ticker\n",
        "  FROM Companies \n",
        "  WHERE ticker IN (\"GOOGL\", \"AMZN\", \"FB\", \"AAPL\", \"IDMO\", \"FFR\", \"TECTP\",\"XTN\", \"FCAN\", \"MSFT\")\n",
        "'''\n",
        "information_from_session8 = pd.read_sql_query(query,SESSION8) \n",
        "\n",
        "print(information_from_session8)\n",
        "\n",
        "##ADD 5 companies\n",
        "\n",
        "\n",
        "\n",
        "\n",
        "\n"
      ],
      "execution_count": 200,
      "outputs": [
        {
          "output_type": "stream",
          "text": [
            "                           name                     gsector ticker\n",
            "0                  ALPHABET INC  Telecommunication Services  GOOGL\n",
            "1                  FACEBOOK INC  Telecommunication Services     FB\n",
            "2        TECTONIC FINANCIAL INC                         N/A  TECTP\n",
            "3                AMAZON.COM INC      Consumer Discretionary   AMZN\n",
            "4   SPDR S&P TRANSPORTATION ETF                         N/A    XTN\n",
            "5  FIRST TR FTSE EPRA/NAREIT DV                         N/A    FFR\n",
            "6  INVESCO S&P INTL DEV MTM ETF                         N/A   IDMO\n",
            "7   FIRST TR CANADA ALPHADEX FD                         N/A   FCAN\n",
            "8                     APPLE INC      Information Technology   AAPL\n"
          ],
          "name": "stdout"
        }
      ]
    },
    {
      "cell_type": "markdown",
      "metadata": {
        "id": "bqaxKeMYv-71",
        "colab_type": "text"
      },
      "source": [
        "Intialisation de la BDD du Projet:\n",
        "\n",
        "-Creation des tableaux\n",
        "\n",
        "-Copie des infos de la BDD session8 dans la BDD du projet\n",
        "\n"
      ]
    },
    {
      "cell_type": "code",
      "metadata": {
        "id": "Ed3tioE6v8Tc",
        "colab_type": "code",
        "colab": {}
      },
      "source": [
        "\n",
        "PROJET = sqlite3.connect('PROJET.db')\n",
        "cursor_PROJET = PROJET.cursor()\n",
        "\n",
        "#########Tableau Companies#########\n",
        "\n",
        "\n",
        "####Ticker est la cle primaire pour permettre que ce soit une cle secondaire dans Candlesticks et alerts\n",
        "cursor_PROJET.execute(\"\"\"\n",
        "CREATE TABLE IF NOT EXISTS Companies(\n",
        "  ticker TEXT PRIMARY KEY UNIQUE,\n",
        "  gsector TEXT,\n",
        "  name TEXT\n",
        ")\n",
        "\"\"\")\n",
        "PROJET.commit()\n",
        "for i in range(0, len(information_from_session8) ):\n",
        "  cursor_PROJET.execute(\n",
        "                        \"\"\"INSERT INTO\n",
        "                              Companies(ticker,gsector,name) \n",
        "                              VALUES   (  ? ,   ?   ,  ?   )\n",
        "                        \"\"\",(\n",
        "                              information_from_session8[\"ticker\"][i],\n",
        "                              information_from_session8[\"gsector\"][i],\n",
        "                              information_from_session8[\"name\"][i] \n",
        "                            )\n",
        "                      )\n",
        "  \n",
        "  PROJET.commit()\n",
        "\n",
        "#########Tableau Directions#########\n",
        "query='''\n",
        "        CREATE TABLE IF NOT EXISTS Directions (\n",
        "          direction TEXT PRIMARY KEY UNIQUE\n",
        "        )\n",
        "'''\n",
        "\n",
        "cursor_PROJET.execute(query)\n",
        "PROJET.commit()\n",
        "\n",
        "directions=[\"max\",\"min\"]\n",
        "for i in directions:\n",
        "  cursor_PROJET.execute(\n",
        "                        \"\"\"INSERT INTO\n",
        "                              Directions(direction) \n",
        "                              VALUES   ( ? )\n",
        "                        \"\"\",(i,))\n",
        "  \n",
        "  PROJET.commit()\n",
        "\n",
        "#########Tableau Sources#########\n",
        "query=\"\"\"\n",
        "        CREATE TABLE IF NOT EXISTS Sources (\n",
        "          source TEXT PRIMARY KEY UNIQUE\n",
        "        )\n",
        "      \"\"\"\n",
        "cursor_PROJET.execute(query)\n",
        "PROJET.commit()\n",
        "sources=[\"open\",\"close\",\"high\",\"low\"]\n",
        "for i in sources:\n",
        "  cursor_PROJET.execute(\n",
        "                        \"\"\"INSERT INTO\n",
        "                              Sources(source) \n",
        "                              VALUES   ( ? )\n",
        "                        \"\"\",( \n",
        "                             i, \n",
        "                            )\n",
        "                      )\n",
        "  \n",
        "  PROJET.commit()\n",
        "\n",
        "#########Tableau Candlesticks#########\n",
        "query=\"\"\"\n",
        "        CREATE TABLE IF NOT EXISTS Candlesticks (\n",
        "          id INTEGER PRIMARY KEY,\n",
        "          open_price FLOAT,\n",
        "          high_price FLOAT,\n",
        "          close_price FLOAT,\n",
        "          low_price FLOAT,\n",
        "          volume INT,\n",
        "          date DATE,\n",
        "          ticker TEXT,\n",
        "          FOREIGN KEY (ticker) REFERENCES Companies (ticker)\n",
        "        )\n",
        "      \"\"\"\n",
        "cursor_PROJET.execute(query)\n",
        "PROJET.commit()\n",
        "#########Tableau Alerts#########\n",
        "query=\"\"\"\n",
        "        CREATE TABLE IF NOT EXISTS Alerts (\n",
        "          name TEXT PRIMARY KEY UNIQUE,\n",
        "          date_start DATE,\n",
        "          date_end DATE,\n",
        "          start_value FLOAT,\n",
        "          end_value FLOAT,\n",
        "          source TEXT,\n",
        "          direction TEXT,\n",
        "          ticker TEXT,\n",
        "          FOREIGN KEY (source) REFERENCES Sources (source)\n",
        "          FOREIGN KEY (direction) REFERENCES Directions (direction)\n",
        "          FOREIGN KEY (ticker) REFERENCES Companies (ticker)\n",
        "        )\n",
        "      \"\"\"\n",
        "cursor_PROJET.execute(query)\n",
        "PROJET.commit()\n",
        "\n",
        "\n",
        "\n"
      ],
      "execution_count": 0,
      "outputs": []
    },
    {
      "cell_type": "markdown",
      "metadata": {
        "id": "u7beVvuz01Ak",
        "colab_type": "text"
      },
      "source": [
        "Chargement des tickers"
      ]
    },
    {
      "cell_type": "code",
      "metadata": {
        "id": "nIxM0Cks0z_P",
        "colab_type": "code",
        "outputId": "86211ce8-abe8-4c32-e622-b8e7671ba0aa",
        "colab": {
          "base_uri": "https://localhost:8080/",
          "height": 187
        }
      },
      "source": [
        "\n",
        "query = '''\n",
        "SELECT *\n",
        "FROM Companies \n",
        "'''\n",
        "resultat_PROJET_COMPANIES = pd.read_sql_query(query,PROJET)\n",
        "print(resultat_PROJET_COMPANIES)"
      ],
      "execution_count": 202,
      "outputs": [
        {
          "output_type": "stream",
          "text": [
            "  ticker                     gsector                          name\n",
            "0  GOOGL  Telecommunication Services                  ALPHABET INC\n",
            "1     FB  Telecommunication Services                  FACEBOOK INC\n",
            "2  TECTP                         N/A        TECTONIC FINANCIAL INC\n",
            "3   AMZN      Consumer Discretionary                AMAZON.COM INC\n",
            "4    XTN                         N/A   SPDR S&P TRANSPORTATION ETF\n",
            "5    FFR                         N/A  FIRST TR FTSE EPRA/NAREIT DV\n",
            "6   IDMO                         N/A  INVESCO S&P INTL DEV MTM ETF\n",
            "7   FCAN                         N/A   FIRST TR CANADA ALPHADEX FD\n",
            "8   AAPL      Information Technology                     APPLE INC\n"
          ],
          "name": "stdout"
        }
      ]
    },
    {
      "cell_type": "markdown",
      "metadata": {
        "id": "FB0uyvt0xMTj",
        "colab_type": "text"
      },
      "source": [
        "Chargement des données depuis l'API"
      ]
    },
    {
      "cell_type": "code",
      "metadata": {
        "id": "e983QswcxMsF",
        "colab_type": "code",
        "colab": {}
      },
      "source": [
        "token = \"bpog5jfrh5ra872e4vkg\"\n",
        "liste_des_actions = resultat_PROJET_COMPANIES[\"ticker\"]\n",
        "        \n",
        "from datetime import datetime\n",
        "start_date = datetime(2019, 1, 1)\n",
        "#start_timestamp = int(datetime.timestamp(start_date)) # <-- ca donne le nombre de secondes écoulées entre le 1/1/1970 à 00:00 et 1/1/2020 \n",
        "end_timestamp = int(datetime.timestamp(datetime.now())) #Prise des dates jusqua maintenant\n",
        "#start_date = datetime(2020, 1, 13) # <-- LUNDI 13 janvier 2020 \n",
        "start_timestamp = int(datetime.timestamp(start_date)) # <-- ca donne le nombre de secondes écoulées entre le 1/1/1970 à 00:00 et 1/1/2020 \n",
        "#end_date = datetime(2020, 1, 17)   # <-- Vendredi 17 janvier 2020 NON COMPRIS\n",
        "#end_timestamp = int(datetime.timestamp(end_date))\n",
        "\n",
        "\n",
        "companies_candle = {}\n",
        "\n",
        "for i in range(0, len(liste_des_actions)):\n",
        "      API_URL = 'https://finnhub.io/api/v1/stock/candle?symbol=' + liste_des_actions[i] + '&resolution=D&from=' + str(start_timestamp) + '&to=' + str(end_timestamp) + '&token=' + token\n",
        "      \n",
        "      REPONSE_DE_L_API = requests.get(API_URL).json()\n",
        "      companies_candle[liste_des_actions[i]] = REPONSE_DE_L_API\n",
        "#pprint.pprint(companies_candle)"
      ],
      "execution_count": 0,
      "outputs": []
    },
    {
      "cell_type": "markdown",
      "metadata": {
        "id": "28D1L-1ufkqX",
        "colab_type": "text"
      },
      "source": [
        "Remplissage du tableau Candlesticks\n"
      ]
    },
    {
      "cell_type": "code",
      "metadata": {
        "id": "jyg0MO52k7hW",
        "colab_type": "code",
        "outputId": "cbfd2768-fac7-417d-c388-d835c248feb6",
        "colab": {
          "base_uri": "https://localhost:8080/",
          "height": 255
        }
      },
      "source": [
        "for i in companies_candle.keys():\n",
        "  if companies_candle[i][\"s\"] == \"ok\":\n",
        "    for k in range(len(companies_candle[i][\"o\"])):\n",
        "      date=datetime.fromtimestamp(int(companies_candle[i][\"t\"][k])).strftime(\"%Y/%m/%d\")\n",
        "      cursor_PROJET.execute(\n",
        "                          \"\"\"INSERT INTO\n",
        "                                Candlesticks(open_price,high_price,close_price,low_price,volume,date,ticker) \n",
        "                                VALUES   (?,?,?,?,?,?,?)\n",
        "                          \"\"\",(\n",
        "                                companies_candle[i][\"o\"][k],\n",
        "                                companies_candle[i][\"h\"][k],\n",
        "                                companies_candle[i][\"c\"][k],\n",
        "                                companies_candle[i][\"l\"][k],\n",
        "                                companies_candle[i][\"v\"][k],\n",
        "                                date,\n",
        "                                i\n",
        "                                \n",
        "                              )\n",
        "                        )\n",
        "    \n",
        "    PROJET.commit()\n",
        "\n",
        "query = '''\n",
        "SELECT *\n",
        "FROM Candlesticks \n",
        "'''\n",
        "resultat_PROJET_CANDLESTICKS = pd.read_sql_query(query,PROJET)\n",
        "print(resultat_PROJET_CANDLESTICKS)"
      ],
      "execution_count": 204,
      "outputs": [
        {
          "output_type": "stream",
          "text": [
            "        id  open_price  high_price  ...    volume        date  ticker\n",
            "0        1   1027.2000     1060.79  ...   1593400  2019/01/02   GOOGL\n",
            "1        2   1050.6700     1066.26  ...   2098000  2019/01/03   GOOGL\n",
            "2        3   1042.5601     1080.00  ...   2301100  2019/01/04   GOOGL\n",
            "3        4   1080.9700     1082.70  ...   2372300  2019/01/07   GOOGL\n",
            "4        5   1086.0000     1093.35  ...   1770700  2019/01/08   GOOGL\n",
            "...    ...         ...         ...  ...       ...         ...     ...\n",
            "2872  2873    277.9500      281.68  ...  32503800  2020/04/20    AAPL\n",
            "2873  2874    276.2800      277.25  ...  45247900  2020/04/21    AAPL\n",
            "2874  2875    273.6100      277.90  ...  29264300  2020/04/22    AAPL\n",
            "2875  2876    275.8700      281.75  ...  31203600  2020/04/23    AAPL\n",
            "2876  2877    277.2000      283.01  ...  31540300  2020/04/24    AAPL\n",
            "\n",
            "[2877 rows x 8 columns]\n"
          ],
          "name": "stdout"
        }
      ]
    },
    {
      "cell_type": "markdown",
      "metadata": {
        "id": "4e0drCCDzfvN",
        "colab_type": "text"
      },
      "source": [
        "![Texte alternatif…](https://imgur.com/xgvpxyx.png)"
      ]
    },
    {
      "cell_type": "markdown",
      "metadata": {
        "id": "1J-GiYSd1WeP",
        "colab_type": "text"
      },
      "source": [
        "QUESTION 1:"
      ]
    },
    {
      "cell_type": "code",
      "metadata": {
        "id": "AIKIS7OnyXSp",
        "colab_type": "code",
        "outputId": "7319a1f4-6803-477b-8569-75c305e64005",
        "colab": {
          "base_uri": "https://localhost:8080/",
          "height": 54
        }
      },
      "source": [
        "query = '''\n",
        "  SELECT ticker\n",
        "  FROM Companies '''\n",
        "PROJET = sqlite3.connect('PROJET.db')\n",
        "cursor_PROJET = PROJET.cursor()\n",
        "liste_tickers = pd.read_sql_query(query,PROJET)\n",
        "max_df={}\n",
        "for index, row in liste_tickers.iterrows():\n",
        "    query = '''\n",
        "      SELECT open_price,close_price\n",
        "      FROM Candlesticks WHERE ticker IN (\\\"'''+row['ticker']+\"\\\")\"\n",
        "    cd_df=pd.read_sql_query(query,PROJET)\n",
        "    difference_q1=0\n",
        "    for index_cd, row_cd in cd_df.iterrows():\n",
        "        if(index_cd!=0):\n",
        "          if((cd_df.loc[index_cd-1,\"close_price\"]/row_cd[\"open_price\"])>difference_q1):\n",
        "            difference_q1=cd_df.loc[index_cd-1,\"close_price\"]/row_cd[\"open_price\"]\n",
        "\n",
        "    max_dict[row['ticker']]=difference_q1\n",
        "\n",
        "print(max_dict)\n",
        "          \n",
        "          \n",
        "      \n"
      ],
      "execution_count": 205,
      "outputs": [
        {
          "output_type": "stream",
          "text": [
            "{'AAPL': 1.1488737342426123, 'AMZN': 1.0874134181333042, 'FB': 1.1179096638655464, 'FCAN': 1.160220994475138, 'FFR': 1.2027194066749074, 'GOOGL': 1.114407907416415, 'IDMO': 1.1164069660861595, 'TECTP': 1.149821640903686, 'XTN': 1.0713309024612578}\n"
          ],
          "name": "stdout"
        }
      ]
    },
    {
      "cell_type": "markdown",
      "metadata": {
        "id": "Cf3ckl1mDXFB",
        "colab_type": "text"
      },
      "source": [
        "QUESTION 2:"
      ]
    },
    {
      "cell_type": "code",
      "metadata": {
        "id": "1uT7ULcKDcZe",
        "colab_type": "code",
        "outputId": "745d9a01-001a-43ec-de0a-45758df67387",
        "colab": {
          "base_uri": "https://localhost:8080/",
          "height": 54
        }
      },
      "source": [
        "query = '''\n",
        "  SELECT ticker\n",
        "  FROM Companies '''\n",
        "PROJET = sqlite3.connect('PROJET.db')\n",
        "cursor_PROJET = PROJET.cursor()\n",
        "liste_tickers = pd.read_sql_query(query,PROJET)\n",
        "max_df={}\n",
        "for index, row in liste_tickers.iterrows():\n",
        "    query = '''\n",
        "      SELECT high_price,low_price\n",
        "      FROM Candlesticks WHERE ticker IN (\\\"'''+row['ticker']+\"\\\")\"\n",
        "    cd_df=pd.read_sql_query(query,PROJET)\n",
        "    diff_df=(cd_df.assign(difference=lambda x :x[\"high_price\"]-x[\"low_price\"])).loc[:,\"difference\"]\n",
        "    max_df[row[\"ticker\"]]=diff_df.max()\n",
        "\n",
        "print(max_df)"
      ],
      "execution_count": 206,
      "outputs": [
        {
          "output_type": "stream",
          "text": [
            "{'AAPL': 26.970000000000027, 'AMZN': 168.53999999999996, 'FB': 16.03, 'FCAN': 1.459999999999999, 'FFR': 3.770000000000003, 'GOOGL': 102.11000000000013, 'IDMO': 0.9700000000000024, 'TECTP': 0.9599999999999991, 'XTN': 4.519999999999996}\n"
          ],
          "name": "stdout"
        }
      ]
    },
    {
      "cell_type": "markdown",
      "metadata": {
        "id": "6G7ZspG0IkLs",
        "colab_type": "text"
      },
      "source": [
        "QUESTION 3:"
      ]
    },
    {
      "cell_type": "code",
      "metadata": {
        "id": "-CzblhVAInOb",
        "colab_type": "code",
        "outputId": "f3ca5d95-da3e-45af-c2fa-adcd56acce66",
        "colab": {
          "base_uri": "https://localhost:8080/",
          "height": 34
        }
      },
      "source": [
        "def evolution (ticker,date_debut,date_fin):\n",
        "  query = '''\n",
        "      SELECT close_price,date\n",
        "      FROM Candlesticks WHERE (ticker IN (\\\"'''+ticker+\"\\\")\"+'''\n",
        "      AND (date=\\''''+date_debut.strftime(\"%Y/%m/%d\")+\"\\' OR date=\\'\"+date_fin.strftime(\"%Y/%m/%d\")+\"\\'))\"\n",
        "  \n",
        "  PROJET = sqlite3.connect('PROJET.db')\n",
        "  cursor_PROJET = PROJET.cursor()\n",
        "  df=pd.read_sql_query(query,PROJET)\n",
        "  return (df.loc[1,\"close_price\"]-df.loc[0,\"close_price\"])/df.loc[0,\"close_price\"]\n",
        "\n",
        "evolution(\"AAPL\",datetime(2020, 1, 13),datetime(2020, 1, 15))"
      ],
      "execution_count": 207,
      "outputs": [
        {
          "output_type": "execute_result",
          "data": {
            "text/plain": [
              "-0.0177309439676931"
            ]
          },
          "metadata": {
            "tags": []
          },
          "execution_count": 207
        }
      ]
    },
    {
      "cell_type": "markdown",
      "metadata": {
        "id": "LLctgQJTXdW0",
        "colab_type": "text"
      },
      "source": [
        "QUESTION 4:"
      ]
    },
    {
      "cell_type": "code",
      "metadata": {
        "id": "0u0jFhuEXkFf",
        "colab_type": "code",
        "outputId": "80212cc7-64e2-4e3a-882d-df4917da4d7b",
        "colab": {
          "base_uri": "https://localhost:8080/",
          "height": 34
        }
      },
      "source": [
        "def nbVar (ticker,date_debut,date_fin,valeur_limite):\n",
        "  query = '''\n",
        "      SELECT open_price,close_price\n",
        "      FROM Candlesticks WHERE (ticker IN (\\\"'''+ticker+\"\\\")\"+'''\n",
        "      AND (date>=\\''''+date_debut.strftime(\"%Y/%m/%d\")+\"\\' AND date<=\\'\"+date_fin.strftime(\"%Y/%m/%d\")+\"\\'))\"\n",
        "  PROJET = sqlite3.connect('PROJET.db')\n",
        "  cursor_PROJET = PROJET.cursor()\n",
        "  df=pd.read_sql_query(query,PROJET)\n",
        "  diff_df=(df.assign(difference=lambda x :abs(x[\"open_price\"]-x[\"close_price\"]))).loc[:,\"difference\"]\n",
        "  return diff_df[diff_df > valeur_limite].count()\n",
        "\n",
        "print(nbVar(\"AAPL\",datetime(2020, 1, 13),datetime(2020, 1, 15),1))"
      ],
      "execution_count": 208,
      "outputs": [
        {
          "output_type": "stream",
          "text": [
            "2\n"
          ],
          "name": "stdout"
        }
      ]
    },
    {
      "cell_type": "markdown",
      "metadata": {
        "id": "wE_lPOahbn5c",
        "colab_type": "text"
      },
      "source": [
        "QUESTION 5:"
      ]
    },
    {
      "cell_type": "code",
      "metadata": {
        "id": "pvf7tdPmbpv9",
        "colab_type": "code",
        "colab": {
          "base_uri": "https://localhost:8080/",
          "height": 359
        },
        "outputId": "f688299d-e7f1-48e4-cc23-f1af12a66de1"
      },
      "source": [
        "#!pip install mplfinance\n",
        "import matplotlib.pyplot as plt\n",
        "import mplfinance as mpf\n",
        "def draw_graph (ticker, date_debut,date_fin):\n",
        "    query = '''\n",
        "      SELECT open_price,close_price,high_price,low_price,date\n",
        "      FROM Candlesticks WHERE (ticker IN (\\\"'''+ticker+\"\\\")\"+'''\n",
        "      AND (date>=\\''''+date_debut.strftime(\"%Y/%m/%d\")+\"\\' AND date<=\\'\"+date_fin.strftime(\"%Y/%m/%d\")+\"\\'))\"\n",
        "    PROJET = sqlite3.connect('PROJET.db')\n",
        "    cursor_PROJET = PROJET.cursor()\n",
        "    df=pd.read_sql_query(query,PROJET) \n",
        "    df.date=pd.to_datetime(df.date)\n",
        "    df.index=df.date\n",
        "    df=df.rename(columns={\"open_price\": \"Open\", \"close_price\": \"Close\",\"high_price\":\"High\",\"low_price\":\"Low\"})\n",
        "    mpf.plot(df,type='candle')\n",
        "draw_graph(\"AAPL\",datetime(2020, 1, 1),datetime.now())    "
      ],
      "execution_count": 209,
      "outputs": [
        {
          "output_type": "display_data",
          "data": {
            "image/png": "[encoded data removed]",
            "text/plain": [
              "<Figure size 576x414 with 2 Axes>"
            ]
          },
          "metadata": {
            "tags": []
          }
        }
      ]
    },
    {
      "cell_type": "markdown",
      "metadata": {
        "id": "eEVN-3Rs0dDo",
        "colab_type": "text"
      },
      "source": [
        "QUESTION 6:"
      ]
    },
    {
      "cell_type": "code",
      "metadata": {
        "id": "MJBt8F2G0cVa",
        "colab_type": "code",
        "colab": {
          "base_uri": "https://localhost:8080/",
          "height": 153
        },
        "outputId": "2d9bccac-a412-4077-b19d-cdf213c8a633"
      },
      "source": [
        "def add_alert (name, ticker, date_start,date_end,start_value,end_value,source,direction):\n",
        "    PROJET = sqlite3.connect('PROJET.db')\n",
        "    cursor_PROJET = PROJET.cursor()    \n",
        "    dir_df=pd.read_sql_query(\"SELECT * FROM Directions\",PROJET)\n",
        "    source_df=pd.read_sql_query(\"SELECT * FROM Sources\",PROJET)\n",
        "    if (not(direction in list(dir_df[\"direction\"])) or not(source in list(source_df[\"source\"]))):\n",
        "      return#Si les elements source et direction ne correspondent pas a des elemnts de source ou direction de leurs tableaux,on najoute pas lelement\n",
        "    \n",
        "    cursor_PROJET.execute(\n",
        "                          \"\"\"INSERT INTO\n",
        "                                Alerts(name,date_start,date_end,start_value,end_value,source,direction,ticker) \n",
        "                                VALUES   (?,?,?,?,?,?,?,?)\n",
        "                          \"\"\",(\n",
        "                                name,\n",
        "                                date_start.strftime(\"%Y/%m/%d\"),\n",
        "                                date_end.strftime(\"%Y/%m/%d\"),\n",
        "                                str(start_value),\n",
        "                                str(end_value),\n",
        "                                source,\n",
        "                                direction,\n",
        "                                ticker\n",
        "                              )\n",
        "    )\n",
        "    PROJET.commit()\n",
        "\n",
        "\n",
        "PROJET = sqlite3.connect('PROJET.db')\n",
        "cursor_PROJET = PROJET.cursor()\n",
        "query=\"SELECT * FROM Alerts\"\n",
        "add_alert(\"test3\",\"AAPL\",datetime(2019,7,9),datetime(2019,12,21),-1,1000000,\"open\",\"max\")\n",
        "df=pd.read_sql_query(query,PROJET)\n",
        "print(df)"
      ],
      "execution_count": 248,
      "outputs": [
        {
          "output_type": "stream",
          "text": [
            "    name  date_start    date_end  ...  source  direction ticker\n",
            "0      1  2020/04/25  2020/12/01  ...    open        max   AAPL\n",
            "1   test  2019/07/09  2019/12/21  ...    open        max   AAPL\n",
            "2  test1  2019/07/09  2019/12/21  ...    open        max   AAPL\n",
            "3  test2  2019/07/09  2019/12/21  ...    open        max   AAPL\n",
            "4  test3  2019/07/09  2019/12/21  ...    open        max   AAPL\n",
            "\n",
            "[5 rows x 8 columns]\n"
          ],
          "name": "stdout"
        }
      ]
    },
    {
      "cell_type": "markdown",
      "metadata": {
        "id": "7I-8rN3oAeQs",
        "colab_type": "text"
      },
      "source": [
        "QUESTION 7:"
      ]
    },
    {
      "cell_type": "code",
      "metadata": {
        "id": "ohMR2YI5At1D",
        "colab_type": "code",
        "colab": {
          "base_uri": "https://localhost:8080/",
          "height": 34
        },
        "outputId": "69f0a5c9-7a2c-466b-b994-de529d4d6756"
      },
      "source": [
        "def nb_alert(name):\n",
        "  PROJET = sqlite3.connect('PROJET.db')\n",
        "  cursor_PROJET = PROJET.cursor()\n",
        "  \n",
        "  query=\"SELECT * FROM Alerts WHERE name=\\'\"+name+\"\\'\"#importation de alert by name\n",
        "  alert_df=pd.read_sql_query(query,PROJET)\n",
        "\n",
        "  query='''SELECT open_price,high_price,low_price,close_price,date FROM Candlesticks\n",
        "          WHERE (ticker =\\\"'''+alert_df.ticker[0]+\"\\\" AND (date >=\\'\"+alert_df.date_start[0]+\"\\' AND date <=\\'\"+alert_df.date_end[0]+\"\\'))\"\n",
        "  df_tick=pd.read_sql_query(query,PROJET)\n",
        "  delta=datetime.strptime(alert_df.date_end[0],\"%Y/%m/%d\")-datetime.strptime(alert_df.date_start[0],\"%Y/%m/%d\")\n",
        "  slope = (float(alert_df.end_value[0])-float(alert_df.start_value[0]))/df_tick.shape[0]\n",
        "  equation = lambda t : slope*t+float(alert_df.start_value[0])\n",
        "  count=0\n",
        "  for index, row in df_tick.iterrows():\n",
        "    delta_days = int(index)\n",
        "    delta_value=equation(delta_days)\n",
        "    indice=alert_df.source[0]+\"_price\"\n",
        "    if(float(row[indice])<delta_value):\n",
        "      count+=1\n",
        "  return count\n",
        "nb_alert(\"test3\")"
      ],
      "execution_count": 253,
      "outputs": [
        {
          "output_type": "execute_result",
          "data": {
            "text/plain": [
              "116"
            ]
          },
          "metadata": {
            "tags": []
          },
          "execution_count": 253
        }
      ]
    }
  ]
}