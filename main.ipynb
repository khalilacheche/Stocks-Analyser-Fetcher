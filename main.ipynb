{
  "nbformat": 4,
  "nbformat_minor": 0,
  "metadata": {
    "colab": {
      "name": "main.ipynb",
      "provenance": [],
      "collapsed_sections": []
    },
    "kernelspec": {
      "name": "python3",
      "display_name": "Python 3"
    }
  },
  "cells": [
    {
      "cell_type": "markdown",
      "metadata": {
        "id": "B4FUiItwyJOl",
        "colab_type": "text"
      },
      "source": [
        "Chargement de la base de donnée session8.db\n"
      ]
    },
    {
      "cell_type": "code",
      "metadata": {
        "id": "2yYVS3PaTTmQ",
        "colab_type": "code",
        "outputId": "78d221fc-69a2-4c88-b963-7b6329ad9df3",
        "colab": {
          "base_uri": "https://localhost:8080/",
          "height": 275
        }
      },
      "source": [
        "!pip install mplfinance"
      ],
      "execution_count": 3,
      "outputs": [
        {
          "output_type": "stream",
          "text": [
            "Collecting mplfinance\n",
            "\u001b[?25l  Downloading https://files.pythonhosted.org/packages/3b/a7/d74985c7e3143d285c6df9d611b93d1da3d6889320a8af135b0170fd90d8/mplfinance-0.12.4a0-py3-none-any.whl (42kB)\n",
            "\r\u001b[K     |███████▋                        | 10kB 17.4MB/s eta 0:00:01\r\u001b[K     |███████████████▎                | 20kB 1.7MB/s eta 0:00:01\r\u001b[K     |███████████████████████         | 30kB 2.2MB/s eta 0:00:01\r\u001b[K     |██████████████████████████████▌ | 40kB 2.5MB/s eta 0:00:01\r\u001b[K     |████████████████████████████████| 51kB 1.7MB/s \n",
            "\u001b[?25hRequirement already satisfied: matplotlib in /usr/local/lib/python3.6/dist-packages (from mplfinance) (3.2.1)\n",
            "Requirement already satisfied: pandas in /usr/local/lib/python3.6/dist-packages (from mplfinance) (1.0.3)\n",
            "Requirement already satisfied: pyparsing!=2.0.4,!=2.1.2,!=2.1.6,>=2.0.1 in /usr/local/lib/python3.6/dist-packages (from matplotlib->mplfinance) (2.4.7)\n",
            "Requirement already satisfied: python-dateutil>=2.1 in /usr/local/lib/python3.6/dist-packages (from matplotlib->mplfinance) (2.8.1)\n",
            "Requirement already satisfied: cycler>=0.10 in /usr/local/lib/python3.6/dist-packages (from matplotlib->mplfinance) (0.10.0)\n",
            "Requirement already satisfied: kiwisolver>=1.0.1 in /usr/local/lib/python3.6/dist-packages (from matplotlib->mplfinance) (1.2.0)\n",
            "Requirement already satisfied: numpy>=1.11 in /usr/local/lib/python3.6/dist-packages (from matplotlib->mplfinance) (1.18.3)\n",
            "Requirement already satisfied: pytz>=2017.2 in /usr/local/lib/python3.6/dist-packages (from pandas->mplfinance) (2018.9)\n",
            "Requirement already satisfied: six>=1.5 in /usr/local/lib/python3.6/dist-packages (from python-dateutil>=2.1->matplotlib->mplfinance) (1.12.0)\n",
            "Installing collected packages: mplfinance\n",
            "Successfully installed mplfinance-0.12.4a0\n"
          ],
          "name": "stdout"
        }
      ]
    },
    {
      "cell_type": "code",
      "metadata": {
        "id": "ywLIbB_VWchC",
        "colab_type": "code",
        "outputId": "0bcde06d-ebe2-4f7a-eca4-bbbf52a5511c",
        "colab": {
          "base_uri": "https://localhost:8080/",
          "height": 187
        }
      },
      "source": [
        "import pandas as pd # chargement des bases de donnees\n",
        "import sqlite3  # chargement/ ecriture dans les bases de donnees\n",
        "\n",
        "import requests # chargement des donnees depuis l'API\n",
        "from requests import get #\n",
        "\n",
        "import pprint #\n",
        "\n",
        "import os.path #lire des fichiers\n",
        "if not os.path.isfile(\"session8.db\"):      \n",
        "    import urllib.request #telecharger un fichier depuis une url\n",
        "    urllib.request.urlretrieve(\"http://homepages.ulb.ac.be/~choffreu/session8.db\", \"session8.db\")#telechargement du fichier depuis lurl specifie sous le nom de session8.db\n",
        "\n",
        "SESSION8 = sqlite3.connect('session8.db') #creation de la connexion avec la BDD (rouge)\n",
        "cursor_SESSION8 = SESSION8.cursor() \n",
        "\n",
        "liste_tickers='\"GOOGL\",\"AAPL\",\"FB\",\"AMZN\",\"MSFT\",\"CHIK\",\"BSCP\",\"MHD\",\"LABU\",\"AUSF\"'     #création de la liste contenant les tickers\n",
        "query = '''\n",
        "  SELECT name, gsector, ticker\n",
        "  FROM Companies \n",
        "  WHERE ticker IN ('''+liste_tickers+')'             #selectionner les données \"name\" \"gsector\" et nom du \"ticker\" depuis \n",
        " \n",
        "information_from_session8 = pd.read_sql_query(query,SESSION8) \n",
        "\n",
        "print(information_from_session8)\n",
        "\n",
        "\n",
        "\n",
        "\n",
        "\n"
      ],
      "execution_count": 4,
      "outputs": [
        {
          "output_type": "stream",
          "text": [
            "                           name                     gsector ticker\n",
            "0                  ALPHABET INC  Telecommunication Services  GOOGL\n",
            "1                  FACEBOOK INC  Telecommunication Services     FB\n",
            "2    GLOBAL X MSCI CHINA IT ETF                         N/A   CHIK\n",
            "3                AMAZON.COM INC      Consumer Discretionary   AMZN\n",
            "4  INVESCO BULTSHRS 2025 CP ETF                         N/A   BSCP\n",
            "5   BLACKROCK MUNIHOLDINGS FUND                         N/A    MHD\n",
            "6  GLOBAL X ADAPT US FACTOR ETF                         N/A   AUSF\n",
            "7  DIREXION DLY S&P BIOTEC BU3X                         N/A   LABU\n",
            "8                     APPLE INC      Information Technology   AAPL\n"
          ],
          "name": "stdout"
        }
      ]
    },
    {
      "cell_type": "markdown",
      "metadata": {
        "id": "bqaxKeMYv-71",
        "colab_type": "text"
      },
      "source": [
        "Intialisation de la BDD du Projet:\n",
        "\n",
        "-Creation des tableaux\n",
        "\n",
        "-Copie des infos de la BDD session8 dans la BDD du projet\n",
        "\n"
      ]
    },
    {
      "cell_type": "markdown",
      "metadata": {
        "id": "4e0drCCDzfvN",
        "colab_type": "text"
      },
      "source": [
        "L'architecture de la BDD est representée par ce diagramme:\n",
        "![Texte alternatif…](https://i.imgur.com/GXqsDBv.png)\n"
      ]
    },
    {
      "cell_type": "code",
      "metadata": {
        "id": "Ed3tioE6v8Tc",
        "colab_type": "code",
        "colab": {}
      },
      "source": [
        "PROJET = sqlite3.connect('PROJET.db')\n",
        "cursor_PROJET = PROJET.cursor()\n",
        "\n",
        "#########Tableau Companies#########\n",
        "##création d'un tableau vide avec des colonnes tiker/gsector/name \n",
        "####Ticker est la cle primaire pour permettre que ce soit une cle secondaire dans Candlesticks et alerts\n",
        "cursor_PROJET.execute(\"\"\"\n",
        "CREATE TABLE IF NOT EXISTS Companies(\n",
        "  ticker TEXT PRIMARY KEY UNIQUE,                              \n",
        "  gsector TEXT,\n",
        "  name TEXT\n",
        ")\n",
        "\"\"\")\n",
        "PROJET.commit()\n",
        "for i in range(0, len(information_from_session8) ):\n",
        "\n",
        "  cursor_PROJET.execute(\n",
        "                        \"\"\"INSERT INTO\n",
        "                              Companies(ticker,gsector,name) \n",
        "                              VALUES   (  ? ,   ?   ,  ?   )                                          \n",
        "                        \"\"\",(\n",
        "                              information_from_session8[\"ticker\"][i],                                             \n",
        "                              information_from_session8[\"gsector\"][i],\n",
        "                              information_from_session8[\"name\"][i] \n",
        "                            )\n",
        "                      )\n",
        "  \n",
        "  PROJET.commit()\n",
        "\n",
        "cursor_PROJET.execute(\"INSERT INTO Companies(ticker,gsector,name) VALUES ('MSFT', 'IT Services', 'Microsoft')\")\n",
        "PROJET.commit() \n",
        "#########Tableau Directions#########\n",
        "#### creation d'un tableau vide pour les directions avec deux colonnes correspondant aux valeurs de la liste directions [max,min]\n",
        "query='''\n",
        "        CREATE TABLE IF NOT EXISTS Directions (\n",
        "          direction TEXT PRIMARY KEY UNIQUE\n",
        "        )\n",
        "'''\n",
        "\n",
        "cursor_PROJET.execute(query)\n",
        "PROJET.commit()\n",
        "\n",
        "directions=[\"max\",\"min\"]\n",
        "#####on nomme les colonnes du tableau avec les valeurs correspondant dans la liste directions [max,min]\n",
        "for i in directions:\n",
        "  cursor_PROJET.execute(\n",
        "                        \"\"\"INSERT INTO\n",
        "                              Directions(direction) \n",
        "                              VALUES   ( ? )\n",
        "                        \"\"\",(i,))\n",
        "  \n",
        "  PROJET.commit()\n",
        "\n",
        "#########Tableau Sources#########\n",
        "##création du tabelau vide sources \n",
        "query=\"\"\"\n",
        "        CREATE TABLE IF NOT EXISTS Sources (\n",
        "          source TEXT PRIMARY KEY UNIQUE\n",
        "        )\n",
        "      \"\"\"\n",
        "cursor_PROJET.execute(query)\n",
        "PROJET.commit()\n",
        "sources=[\"open\",\"close\",\"high\",\"low\"]\n",
        "### on nomme les colonnes du tableau avec les valeurs correspondant à la liste sources[open,close,high,low]\n",
        "for i in sources:\n",
        "  cursor_PROJET.execute(\n",
        "                        \"\"\"INSERT INTO\n",
        "                              Sources(source) \n",
        "                              VALUES   ( ? )\n",
        "                        \"\"\",( \n",
        "                             i, \n",
        "                            )\n",
        "                      )\n",
        "  \n",
        "  PROJET.commit()\n",
        "\n",
        "#########Tableau Candlesticks#########\n",
        "##### création du tableau vide des candlestick \n",
        "query=\"\"\"\n",
        "        CREATE TABLE IF NOT EXISTS Candlesticks (\n",
        "          id INTEGER PRIMARY KEY,\n",
        "          open_price FLOAT,\n",
        "          high_price FLOAT,\n",
        "          close_price FLOAT,\n",
        "          low_price FLOAT,\n",
        "          volume INT,\n",
        "          date DATE,\n",
        "          ticker TEXT,\n",
        "          FOREIGN KEY (ticker) REFERENCES Companies (ticker)\n",
        "        )\n",
        "      \"\"\"\n",
        "cursor_PROJET.execute(query)\n",
        "PROJET.commit()\n",
        "#########Tableau Alerts#########\n",
        "####création du tableau vide alertes\n",
        "query=\"\"\"\n",
        "        CREATE TABLE IF NOT EXISTS Alerts (\n",
        "          name TEXT PRIMARY KEY UNIQUE,\n",
        "          date_start DATE,\n",
        "          date_end DATE,\n",
        "          start_value FLOAT,\n",
        "          end_value FLOAT,\n",
        "          source TEXT,\n",
        "          direction TEXT,\n",
        "          ticker TEXT,\n",
        "          FOREIGN KEY (source) REFERENCES Sources (source)\n",
        "          FOREIGN KEY (direction) REFERENCES Directions (direction)\n",
        "          FOREIGN KEY (ticker) REFERENCES Companies (ticker)\n",
        "        )\n",
        "      \"\"\"\n",
        "cursor_PROJET.execute(query)\n",
        "PROJET.commit()\n",
        "\n",
        "\n",
        "\n"
      ],
      "execution_count": 0,
      "outputs": []
    },
    {
      "cell_type": "markdown",
      "metadata": {
        "id": "u7beVvuz01Ak",
        "colab_type": "text"
      },
      "source": [
        "Chargement des tickers"
      ]
    },
    {
      "cell_type": "code",
      "metadata": {
        "id": "nIxM0Cks0z_P",
        "colab_type": "code",
        "outputId": "3067c43f-06c7-4057-c6c5-fcbd9ddc3395",
        "colab": {
          "base_uri": "https://localhost:8080/",
          "height": 204
        }
      },
      "source": [
        "\n",
        "query = '''\n",
        "SELECT *\n",
        "FROM Companies \n",
        "'''\n",
        "resultat_PROJET_COMPANIES = pd.read_sql_query(query,PROJET)   ####conversion du tableau en version pd\n",
        "print(resultat_PROJET_COMPANIES)  ####affichage du tableau des compagnies contenant leur nom/gsector/ticker"
      ],
      "execution_count": 8,
      "outputs": [
        {
          "output_type": "stream",
          "text": [
            "  ticker                     gsector                          name\n",
            "0  GOOGL  Telecommunication Services                  ALPHABET INC\n",
            "1     FB  Telecommunication Services                  FACEBOOK INC\n",
            "2   CHIK                         N/A    GLOBAL X MSCI CHINA IT ETF\n",
            "3   AMZN      Consumer Discretionary                AMAZON.COM INC\n",
            "4   BSCP                         N/A  INVESCO BULTSHRS 2025 CP ETF\n",
            "5    MHD                         N/A   BLACKROCK MUNIHOLDINGS FUND\n",
            "6   AUSF                         N/A  GLOBAL X ADAPT US FACTOR ETF\n",
            "7   LABU                         N/A  DIREXION DLY S&P BIOTEC BU3X\n",
            "8   AAPL      Information Technology                     APPLE INC\n",
            "9   MSFT                 IT Services                     Microsoft\n"
          ],
          "name": "stdout"
        }
      ]
    },
    {
      "cell_type": "markdown",
      "metadata": {
        "id": "FB0uyvt0xMTj",
        "colab_type": "text"
      },
      "source": [
        "Chargement des données depuis l'API"
      ]
    },
    {
      "cell_type": "code",
      "metadata": {
        "id": "e983QswcxMsF",
        "colab_type": "code",
        "colab": {}
      },
      "source": [
        "token = \"bpog5jfrh5ra872e4vkg\"    #### assimilition du token correspondant à mon compte dans finnhub\n",
        "liste_des_actions = resultat_PROJET_COMPANIES[\"ticker\"]  ####assimiliation à la variable liste_des_actions les valeurs de la colonne \"ticker\" existant dans les tableau resultat_projet_compagnies\n",
        "        \n",
        "from datetime import datetime \n",
        "start_date = datetime(2019, 1, 1)                #la variable contenant le premier jour à partir de laquelle on commence à afficher les données\n",
        "#start_timestamp = int(datetime.timestamp(start_date)) # <-- ca donne le nombre de secondes écoulées entre le 1/1/1970 à 00:00 et 1/1/2020 \n",
        "end_timestamp = int(datetime.timestamp(datetime.now())) #Prise des dates jusqua maintenant\n",
        "#start_date = datetime(2020, 1, 13) # <-- LUNDI 13 janvier 2020 \n",
        "start_timestamp = int(datetime.timestamp(start_date)) # <-- ca donne le nombre de secondes écoulées entre le 1/1/1970 à 00:00 et 1/1/2020 \n",
        "#end_date = datetime(2020, 1, 17)   # <-- Vendredi 17 janvier 2020 NON COMPRIS\n",
        "#end_timestamp = int(datetime.timestamp(end_date))\n",
        "\n",
        "\n",
        "companies_candle = {}       ###création d'un dictionnaire des candlesticks vide\n",
        "\n",
        "for i in range(0, len(liste_des_actions)):\n",
        "      API_URL = 'https://finnhub.io/api/v1/stock/candle?symbol=' + liste_des_actions[i] + '&resolution=D&from=' + str(start_timestamp) + '&to=' + str(end_timestamp) + '&token=' + token\n",
        "      \n",
        "      REPONSE_DE_L_API = requests.get(API_URL).json()                    \n",
        "      companies_candle[liste_des_actions[i]] = REPONSE_DE_L_API   ###remplissage du dictionnaire par les données depuis l'API\n",
        "#pprint.pprint(companies_candle)"
      ],
      "execution_count": 0,
      "outputs": []
    },
    {
      "cell_type": "markdown",
      "metadata": {
        "id": "_WyzfAn0EL2V",
        "colab_type": "text"
      },
      "source": [
        "Remplissage du tableau Candlesticks"
      ]
    },
    {
      "cell_type": "code",
      "metadata": {
        "id": "jyg0MO52k7hW",
        "colab_type": "code",
        "outputId": "896daf60-f29a-4e08-91af-66cf7eea3e6d",
        "colab": {
          "base_uri": "https://localhost:8080/",
          "height": 255
        }
      },
      "source": [
        "for i in companies_candle.keys():          \n",
        "  if companies_candle[i][\"s\"] == \"ok\":      \n",
        "    for k in range(len(companies_candle[i][\"o\"])):\n",
        "      date=datetime.fromtimestamp(int(companies_candle[i][\"t\"][k])).strftime(\"%Y/%m/%d\")    ####conversion de timestamps de secondes à date\n",
        "      cursor_PROJET.execute(\n",
        "                          \"\"\"INSERT INTO\n",
        "                                Candlesticks(open_price,high_price,close_price,low_price,volume,date,ticker) \n",
        "                                VALUES   (?,?,?,?,?,?,?)\n",
        "                          \"\"\",(\n",
        "                                companies_candle[i][\"o\"][k],             #remplissage de la colonne open_price\n",
        "                                companies_candle[i][\"h\"][k],             #remplissage de la colonne high_price\n",
        "                                companies_candle[i][\"c\"][k],             #remplissage de la la colonne close_price\n",
        "                                companies_candle[i][\"l\"][k],             #remplissage de la colonne low_price\n",
        "                                companies_candle[i][\"v\"][k],             #remplissage de la colonne volume\n",
        "                                date,                                    #remplissage de la colonne date\n",
        "                                i                                        #remlpissage de la colonne ticker\n",
        "                                \n",
        "                              )\n",
        "                        )\n",
        "    \n",
        "    PROJET.commit()\n",
        "\n",
        "query = '''\n",
        "SELECT *\n",
        "FROM Candlesticks\n",
        "'''\n",
        "\n",
        "resultat_PROJET_CANDLESTICKS = pd.read_sql_query(query,PROJET)\n",
        "print(resultat_PROJET_CANDLESTICKS) "
      ],
      "execution_count": 10,
      "outputs": [
        {
          "output_type": "stream",
          "text": [
            "        id  open_price  high_price  ...    volume        date  ticker\n",
            "0        1   1027.2000     1060.79  ...   1593400  2019/01/02   GOOGL\n",
            "1        2   1050.6700     1066.26  ...   2098000  2019/01/03   GOOGL\n",
            "2        3   1042.5601     1080.00  ...   2301100  2019/01/04   GOOGL\n",
            "3        4   1080.9700     1082.70  ...   2372300  2019/01/07   GOOGL\n",
            "4        5   1086.0000     1093.35  ...   1770700  2019/01/08   GOOGL\n",
            "...    ...         ...         ...  ...       ...         ...     ...\n",
            "3248  3249    173.2200      177.68  ...  51286600  2020/04/29    MSFT\n",
            "3249  3250    180.0000      180.40  ...  53875900  2020/04/30    MSFT\n",
            "3250  3251    175.8000      178.64  ...  39370500  2020/05/01    MSFT\n",
            "3251  3252    174.4900      179.00  ...  30336200  2020/05/04    MSFT\n",
            "3252  3253    180.6200      183.65  ...  35979115  2020/05/05    MSFT\n",
            "\n",
            "[3253 rows x 8 columns]\n"
          ],
          "name": "stdout"
        }
      ]
    },
    {
      "cell_type": "markdown",
      "metadata": {
        "id": "1J-GiYSd1WeP",
        "colab_type": "text"
      },
      "source": [
        "QUESTION 1:"
      ]
    },
    {
      "cell_type": "code",
      "metadata": {
        "id": "AIKIS7OnyXSp",
        "colab_type": "code",
        "outputId": "8bfb04ac-fecd-4c43-b778-da0374e8c834",
        "colab": {
          "base_uri": "https://localhost:8080/",
          "height": 54
        }
      },
      "source": [
        "query = '''\n",
        "  SELECT ticker                                                        \n",
        "  FROM Companies '''\n",
        "PROJET = sqlite3.connect('PROJET.db')\n",
        "cursor_PROJET = PROJET.cursor()\n",
        "liste_tickers = pd.read_sql_query(query,PROJET) \n",
        "#sélection des données tickers du tableau compagnies\n",
        "\n",
        "max_dict={}   #création d'un dictionnaire vide      \n",
        "#  on parcourt les colonnes du tableau liste_tickers  pour selectionnes les valeurs open_price close_price de chaque ticker                         \n",
        "for index, row in liste_tickers.iterrows():\n",
        "    query = '''\n",
        "      SELECT open_price,close_price\n",
        "      FROM Candlesticks WHERE ticker IN (\\\"'''+row['ticker']+\"\\\")\"\n",
        "    cd_df=pd.read_sql_query(query,PROJET)              \n",
        "    difference_q1=0                                       #création d'un compteur à valeur initiale nulle\n",
        "    for index_cd, row_cd in cd_df.iterrows():         ####on parcourt avec deux \"routeurs\" le tableu des candlesticks index_cd pour la coolonne close_price , row_cd pour la colonne open_price               \n",
        "        if(index_cd!=0): \n",
        "          if((cd_df.loc[index_cd-1,\"close_price\"]/row_cd[\"open_price\"])>difference_q1): ###on vérifie si le rapport des prix est supérieur au compteur\n",
        "            difference_q1=cd_df.loc[index_cd-1,\"close_price\"]/row_cd[\"open_price\"] #le compteur prend la nouvelle valeur du rapport des prix si la condition est satisfaite\n",
        "\n",
        "    max_dict[row['ticker']]=difference_q1     ###on assimile à chaque ticker la valeur la plus haute que le compteur a reçu\n",
        "\n",
        "print(max_dict)"
      ],
      "execution_count": 11,
      "outputs": [
        {
          "output_type": "stream",
          "text": [
            "{'AAPL': 1.1488737342426123, 'AMZN': 1.0874134181333042, 'AUSF': 1.1113013698630136, 'BSCP': 1.074016563146998, 'CHIK': 1.1542177108855443, 'FB': 1.1179096638655464, 'GOOGL': 1.114407907416415, 'LABU': 1.3111831442463533, 'MHD': 1.0480976310122039, 'MSFT': 1.1345}\n"
          ],
          "name": "stdout"
        }
      ]
    },
    {
      "cell_type": "markdown",
      "metadata": {
        "id": "Cf3ckl1mDXFB",
        "colab_type": "text"
      },
      "source": [
        "QUESTION 2:"
      ]
    },
    {
      "cell_type": "code",
      "metadata": {
        "id": "1uT7ULcKDcZe",
        "colab_type": "code",
        "outputId": "24b40a01-6811-482b-a270-187270e329fa",
        "colab": {
          "base_uri": "https://localhost:8080/",
          "height": 54
        }
      },
      "source": [
        "####même chose que la question précédente\n",
        "query = '''\n",
        "  SELECT ticker\n",
        "  FROM Companies '''\n",
        "PROJET = sqlite3.connect('PROJET.db')\n",
        "cursor_PROJET = PROJET.cursor()\n",
        "liste_tickers = pd.read_sql_query(query,PROJET)\n",
        "max_df={}\n",
        "\n",
        "#### on sélectionne du  tableau candlesticks les valeurs des colonnes high_price, low_price\n",
        "for index, row in liste_tickers.iterrows():\n",
        "    query = '''\n",
        "      SELECT high_price,low_price                        \n",
        "      FROM Candlesticks WHERE ticker IN (\\\"'''+row['ticker']+\"\\\")\"\n",
        "    cd_df=pd.read_sql_query(query,PROJET)\n",
        "    diff_df=(cd_df.assign(difference=lambda x :x[\"high_price\"]-x[\"low_price\"])).loc[:,\"difference\"]        ####pour chaque ticker on fait la difference du high_price low_price  depuis le 1/1/2019\n",
        "    max_df[row[\"ticker\"]]=diff_df.max()  ### on ajoute pour chaque ticker dans le dictionnaire la difference maximale entre le high price low price\n",
        "\n",
        "print(max_df) #affichage du dictionnaire"
      ],
      "execution_count": 12,
      "outputs": [
        {
          "output_type": "stream",
          "text": [
            "{'AAPL': 26.970000000000027, 'AMZN': 168.53999999999996, 'AUSF': 4.32, 'BSCP': 1.259999999999998, 'CHIK': 2.3240000000000016, 'FB': 16.03, 'GOOGL': 102.11000000000013, 'LABU': 9.939999999999998, 'MHD': 2.49, 'MSFT': 21.180000000000007}\n"
          ],
          "name": "stdout"
        }
      ]
    },
    {
      "cell_type": "markdown",
      "metadata": {
        "id": "6G7ZspG0IkLs",
        "colab_type": "text"
      },
      "source": [
        "QUESTION 3:"
      ]
    },
    {
      "cell_type": "code",
      "metadata": {
        "id": "-CzblhVAInOb",
        "colab_type": "code",
        "outputId": "7a6e0226-43f2-4f4c-c06a-b08785d682c7",
        "colab": {
          "base_uri": "https://localhost:8080/",
          "height": 34
        }
      },
      "source": [
        "def evolution (ticker,date_debut,date_fin):          #### on crée une fonction prenant les arguments ticker/date_debut/date_fin  \n",
        " #### on séléctionne depuis le tableau candlesticks les tickers, close_price\n",
        "  query = '''\n",
        "      SELECT close_price,date\n",
        "      FROM Candlesticks WHERE (ticker IN (\\\"'''+ticker+\"\\\")\"+'''\n",
        "      AND (date=\\''''+date_debut.strftime(\"%Y/%m/%d\")+\"\\' OR date=\\'\"+date_fin.strftime(\"%Y/%m/%d\")+\"\\'))\"\n",
        "  PROJET = sqlite3.connect('PROJET.db')\n",
        "  cursor_PROJET = PROJET.cursor()\n",
        "  df=pd.read_sql_query(query,PROJET)\n",
        "\n",
        "  return (df.loc[1,\"close_price\"]-df.loc[0,\"close_price\"])/df.loc[0,\"close_price\"]          #### la valeur de retour de la fonction  sera la variation des close_price entre les deux dates.\n",
        "\n",
        "evolution(\"AAPL\",datetime(2020, 1, 13),datetime(2020, 1, 15))"
      ],
      "execution_count": 13,
      "outputs": [
        {
          "output_type": "execute_result",
          "data": {
            "text/plain": [
              "-0.0177309439676931"
            ]
          },
          "metadata": {
            "tags": []
          },
          "execution_count": 13
        }
      ]
    },
    {
      "cell_type": "markdown",
      "metadata": {
        "id": "LLctgQJTXdW0",
        "colab_type": "text"
      },
      "source": [
        "QUESTION 4:"
      ]
    },
    {
      "cell_type": "code",
      "metadata": {
        "id": "0u0jFhuEXkFf",
        "colab_type": "code",
        "outputId": "62787e6a-9474-4384-9368-6521d71b4b7f",
        "colab": {
          "base_uri": "https://localhost:8080/",
          "height": 34
        }
      },
      "source": [
        "def nbVar (ticker,date_debut,date_fin,valeur_limite):   ####création d'une fonction comprenant comme argument ticker,date_debut,date_fin,valeur_limite\n",
        " ### on sélectionne du tableau candlestiks les valeurs des colonnes open-price, close_price , \n",
        "  query = '''\n",
        "      SELECT open_price,close_price\n",
        "      FROM Candlesticks WHERE (ticker IN (\\\"'''+ticker+\"\\\")\"+'''\n",
        "      AND (date>=\\''''+date_debut.strftime(\"%Y/%m/%d\")+\"\\' AND date<=\\'\"+date_fin.strftime(\"%Y/%m/%d\")+\"\\'))\"\n",
        "  PROJET = sqlite3.connect('PROJET.db')\n",
        "  cursor_PROJET = PROJET.cursor()\n",
        "  df=pd.read_sql_query(query,PROJET)\n",
        "  diff_df=(df.assign(difference=lambda x :abs(x[\"open_price\"]-x[\"close_price\"]))).loc[:,\"difference\"]       ###diff_df est une variable qui callcule la difference absolue entre le open_price et le close price journalière dans une période donnée\n",
        "  return diff_df[diff_df > valeur_limite].count()            #### la valeur de retour de la fonction sera le nombre de fois ou la difference de prix entre open_price close price aura dépassé la valeur limte dans une période donnée\n",
        "\n",
        "print(nbVar(\"AAPL\",datetime(2020, 1, 13),datetime(2020, 1, 15),1))"
      ],
      "execution_count": 14,
      "outputs": [
        {
          "output_type": "stream",
          "text": [
            "2\n"
          ],
          "name": "stdout"
        }
      ]
    },
    {
      "cell_type": "markdown",
      "metadata": {
        "id": "wE_lPOahbn5c",
        "colab_type": "text"
      },
      "source": [
        "QUESTION 5:"
      ]
    },
    {
      "cell_type": "code",
      "metadata": {
        "id": "WlIVwkb5vZrY",
        "colab_type": "code",
        "outputId": "5fc00ce9-69b5-4f92-e4f3-5f5068ed3a5e",
        "colab": {
          "base_uri": "https://localhost:8080/",
          "height": 271
        }
      },
      "source": [
        "import matplotlib as mpl          #importation de la librairie matplotlib\n",
        "import matplotlib.pyplot as plt   #importation de la librairie matplotlib.pyplot\n",
        "import mplfinance as mpf          #importation de la librairie mplfinance\n",
        "from mplfinance.original_flavor import candlestick_ohlc  #importation de la librairie mplfinance la commande candlestick_ohlc\n",
        "def draw_graph (ticker, date_debut,date_fin): #création d'une fonction comprenant comme argument (ticker, date_debut,date_fin) puis on séléctionne du tableau candlesticks open_price,close_price,high_price,low_price,date       \n",
        "    query = '''\n",
        "      SELECT open_price,close_price,high_price,low_price,date       \n",
        "      FROM Candlesticks WHERE (ticker IN (\\\"'''+ticker+\"\\\")\"+'''\n",
        "      AND (date>=\\''''+date_debut.strftime(\"%Y/%m/%d\")+\"\\' AND date<=\\'\"+date_fin.strftime(\"%Y/%m/%d\")+\"\\'))\"\n",
        "    PROJET = sqlite3.connect('PROJET.db')\n",
        "    cursor_PROJET = PROJET.cursor()\n",
        "    df=pd.read_sql_query(query,PROJET) \n",
        "    \n",
        "    max_value=df[[\"open_price\",\"close_price\"]].max().max()                     #### on assimile à la variable max_value la valeur maximale atteinte durant la période pour chaque ticker       \n",
        "    min_value=df[[\"open_price\",\"close_price\"]].min().min()                     #### on assimile à la variable min_value la valeur minimale atteinte durant la période pour chaque ticker  \n",
        "    #####Affichage\n",
        "    date_format = mpl.dates.DateFormatter('%d/%m/%Y')                          #### on fait en sorte que les dates soient en format jj/MM/AAAA et non en secondes\n",
        "    df.date=mpl.dates.date2num(pd.to_datetime(df.date))\n",
        "    df.index=df.date                                                          \n",
        "    fig, ax_candles = plt.subplots()     #on choisit la forme du graphique qu'on veut avoir                                      \n",
        "    quot=df[['date','open_price','high_price','low_price','close_price']].values.tolist()                    \n",
        "    candlestick_ohlc(ax_candles, quotes=quot)        \n",
        "    ax_candles.plot([df['date'].iloc[0],df['date'].iloc[-1]],[max_value,max_value])     #### commande pour l'afffichage de la courbe contenant la valeur de prix maximale atteinte pour l'action\n",
        "    ax_candles.plot([df['date'].iloc[0],df['date'].iloc[-1]],[min_value,min_value])     #### commande pour l'afffichage de la courbe contenant la valeur de prix minimale atteinte pour l'action\n",
        "    ax_candles.autoscale_view()    ##### taille des graphiques    \n",
        "    ax_candles.grid(True)          ##### \n",
        "    ax_candles.xaxis.set_major_formatter(date_format)  \n",
        "    fig.autofmt_xdate()       \n",
        "    plt.show() ##### valeur de retour pour la fonction draw_graph\n",
        "    \n",
        "draw_graph(\"AAPL\",datetime(2019, 1, 1),datetime.now())    "
      ],
      "execution_count": 15,
      "outputs": [
        {
          "output_type": "display_data",
          "data": {
            "image/png": "[encoded data removed]",
            "text/plain": [
              "<Figure size 432x288 with 1 Axes>"
            ]
          },
          "metadata": {
            "tags": [],
            "needs_background": "light"
          }
        }
      ]
    },
    {
      "cell_type": "markdown",
      "metadata": {
        "id": "eEVN-3Rs0dDo",
        "colab_type": "text"
      },
      "source": [
        "QUESTION 6:"
      ]
    },
    {
      "cell_type": "code",
      "metadata": {
        "id": "MJBt8F2G0cVa",
        "colab_type": "code",
        "outputId": "71991532-047d-42a9-9da4-e2f6fe9e22f4",
        "colab": {
          "base_uri": "https://localhost:8080/",
          "height": 85
        }
      },
      "source": [
        "def add_alert (name, ticker, date_start,date_end,start_value,end_value,source,direction): #création de la fonction avec les arguments\n",
        "    PROJET = sqlite3.connect('PROJET.db')     #connection avec SQLite3 grâce à la variable projet\n",
        "    cursor_PROJET = PROJET.cursor()    #création d'une variable contenant le curseur pour la variable projet \n",
        "    dir_df=pd.read_sql_query(\"SELECT * FROM Directions\",PROJET)   \n",
        "    source_df=pd.read_sql_query(\"SELECT * FROM Sources\",PROJET)\n",
        "    if (not(direction in list(dir_df[\"direction\"])) or not(source in list(source_df[\"source\"]))):\n",
        "      return #Si les elements source et direction ne correspondent pas a des elements de source ou direction de leurs tableaux,on najoute pas lelement\n",
        "    \n",
        "    cursor_PROJET.execute(\n",
        "                          \"\"\"INSERT INTO\n",
        "                                Alerts(name,date_start,date_end,start_value,end_value,source,direction,ticker) \n",
        "                                VALUES   (?,?,?,?,?,?,?,?)\n",
        "                          \"\"\",(\n",
        "                                name,\n",
        "                                date_start.strftime(\"%Y/%m/%d\"),\n",
        "                                date_end.strftime(\"%Y/%m/%d\"),\n",
        "                                str(start_value),\n",
        "                                str(end_value),\n",
        "                                source,\n",
        "                                direction,\n",
        "                                ticker\n",
        "                              )\n",
        "    )\n",
        "    PROJET.commit()\n",
        "\n",
        "\n",
        "PROJET = sqlite3.connect('PROJET.db')\n",
        "cursor_PROJET = PROJET.cursor()\n",
        "query=\"SELECT * FROM Alerts\"\n",
        "add_alert(\"test4\",\"AAPL\",datetime(2019,7,9),datetime(2019,12,21),200,260,\"open\",\"max\")\n",
        "df=pd.read_sql_query(query,PROJET)\n",
        "print(df)"
      ],
      "execution_count": 16,
      "outputs": [
        {
          "output_type": "stream",
          "text": [
            "    name  date_start    date_end  ...  source  direction ticker\n",
            "0  test4  2019/07/09  2019/12/21  ...    open        max   AAPL\n",
            "\n",
            "[1 rows x 8 columns]\n"
          ],
          "name": "stdout"
        }
      ]
    },
    {
      "cell_type": "markdown",
      "metadata": {
        "id": "7I-8rN3oAeQs",
        "colab_type": "text"
      },
      "source": [
        "QUESTION 7:"
      ]
    },
    {
      "cell_type": "code",
      "metadata": {
        "id": "ohMR2YI5At1D",
        "colab_type": "code",
        "outputId": "6421fca3-f126-4689-9a22-9673078c7f35",
        "colab": {
          "base_uri": "https://localhost:8080/",
          "height": 288
        }
      },
      "source": [
        "def nb_alert(name):\n",
        "  PROJET = sqlite3.connect('PROJET.db')\n",
        "  cursor_PROJET = PROJET.cursor()\n",
        "  \n",
        "  query=\"SELECT * FROM Alerts WHERE name=\\'\"+name+\"\\'\"#importation de alert by name\n",
        "  alert_df=pd.read_sql_query(query,PROJET)\n",
        "\n",
        "  query='''SELECT open_price,high_price,low_price,close_price,date FROM Candlesticks\n",
        "          WHERE (ticker =\\\"'''+alert_df.ticker[0]+\"\\\" AND (date >=\\'\"+alert_df.date_start[0]+\"\\' AND date <=\\'\"+alert_df.date_end[0]+\"\\'))\"\n",
        "  df_tick=pd.read_sql_query(query,PROJET)\n",
        "  slope = (float(alert_df.end_value[0])-float(alert_df.start_value[0]))/df_tick.shape[0]\n",
        "  equation = lambda t : slope*t+float(alert_df.start_value[0])\n",
        "  count=0\n",
        "  for index, row in df_tick.iterrows():\n",
        "    delta_days = int(index)\n",
        "    delta_value=equation(delta_days)\n",
        "    indice=alert_df.source[0]+\"_price\"\n",
        "    if(float(row[indice])<delta_value):\n",
        "      count+=1\n",
        "  #####PARTIE AFFICHAGE#######\n",
        "  date_format = mpl.dates.DateFormatter('%d/%m/%Y')\n",
        "  df_tick.date=mpl.dates.date2num(pd.to_datetime(df_tick.date))\n",
        "  df_tick.index=df_tick.date\n",
        "  fig, ax_candles = plt.subplots()\n",
        "  quot=df_tick[['date','open_price','high_price','low_price','close_price']].values.tolist()\n",
        "  candlestick_ohlc(ax_candles, quotes=quot) \n",
        "  ax_candles.plot([df_tick['date'].iloc[0],df_tick['date'].iloc[-1]],[alert_df.start_value[0],alert_df.end_value[0]])\n",
        "  ax_candles.autoscale_view()\n",
        "  ax_candles.grid(True)\n",
        "  ax_candles.xaxis.set_major_formatter(date_format)\n",
        "  fig.autofmt_xdate()\n",
        "  plt.show()\n",
        "  #######\n",
        "  return count\n",
        "nb_alert(\"test4\")"
      ],
      "execution_count": 17,
      "outputs": [
        {
          "output_type": "display_data",
          "data": {
            "image/png": "[encoded data removed]",
            "text/plain": [
              "<Figure size 432x288 with 1 Axes>"
            ]
          },
          "metadata": {
            "tags": [],
            "needs_background": "light"
          }
        },
        {
          "output_type": "execute_result",
          "data": {
            "text/plain": [
              "54"
            ]
          },
          "metadata": {
            "tags": []
          },
          "execution_count": 17
        }
      ]
    },
    {
      "cell_type": "markdown",
      "metadata": {
        "id": "m6jM-LldBbOa",
        "colab_type": "text"
      },
      "source": [
        "QUESTION 8:"
      ]
    },
    {
      "cell_type": "code",
      "metadata": {
        "id": "8GiyD7ZnQFoV",
        "colab_type": "code",
        "outputId": "2ca94440-a59f-4087-a55e-699b051856f6",
        "colab": {
          "base_uri": "https://localhost:8080/",
          "height": 271
        }
      },
      "source": [
        "import matplotlib as mpl\n",
        "import matplotlib.pyplot as plt\n",
        "import mplfinance as mpf\n",
        "import matplotlib.patches as patches\n",
        "from mplfinance.original_flavor import candlestick_ohlc\n",
        "def draw_enveloppe(ticker,date_start,date_end,source,pourcentage):\n",
        "  PROJET = sqlite3.connect('PROJET.db')\n",
        "\n",
        "  query = \"SELECT * FROM Candlesticks WHERE ticker='\"+ticker+\"' AND date >= '\"+date_start.strftime(\"%Y/%m/%d\")+\"' AND date <= '\"+date_end.strftime(\"%Y/%m/%d\")+\"'\"\n",
        "  df=pd.read_sql_query(query,PROJET)\n",
        "  if source==\"open\":\n",
        "    moyenne=df['open_price'].mean()\n",
        "  elif source==\"close\":\n",
        "    moyenne=df['close_price'].mean()\n",
        "  date_format = mpl.dates.DateFormatter('%d/%m/%Y')               #### on affiche les dates en format JJ/MM/AAAA\n",
        "  df.date=mpl.dates.date2num(pd.to_datetime(df.date))\n",
        "  df.index=df.date\n",
        "    ###Afiichage Candlesticks\n",
        "  fig, ax = plt.subplots()       \n",
        "  quot=df[['date','open_price','high_price','low_price','close_price']].values.tolist()\n",
        "  candlestick_ohlc(ax, quotes=quot)\n",
        "  \n",
        "\n",
        "  start = df.date.iloc[0]\n",
        "  end = df.date.iloc[-1]\n",
        "  width = end - start\n",
        "  green_color=(0,1,0,0.2)\n",
        "  red_color=(1,0,0,0.2)\n",
        "  rect_up = patches.Rectangle((df.date.iloc[0],moyenne ), width,moyenne*pourcentage , color=green_color)\n",
        "  rect_down=patches.Rectangle((df.date.iloc[0],moyenne-moyenne*pourcentage ), width,moyenne*pourcentage ,color=red_color)\n",
        "  ax.add_patch(rect_up)\n",
        "  ax.add_patch(rect_down)\n",
        "\n",
        "  ax.xaxis.set_major_formatter(date_format)\n",
        "  ax.autoscale_view()\n",
        "  ax.grid(True)\n",
        "  fig.autofmt_xdate()\n",
        "  plt.show()\n",
        "\n",
        "draw_enveloppe(\"AAPL\", datetime(2020,1,9),datetime(2020,3,29), \"open\", 0.05)\n"
      ],
      "execution_count": 39,
      "outputs": [
        {
          "output_type": "display_data",
          "data": {
            "image/png": "[encoded data removed]",
            "text/plain": [
              "<Figure size 432x288 with 1 Axes>"
            ]
          },
          "metadata": {
            "tags": [],
            "needs_background": "light"
          }
        }
      ]
    },
    {
      "cell_type": "markdown",
      "metadata": {
        "id": "e2ZJwIjuv2OJ",
        "colab_type": "text"
      },
      "source": [
        "QUESTION 9:"
      ]
    },
    {
      "cell_type": "code",
      "metadata": {
        "id": "xsQc92vKv38N",
        "colab_type": "code",
        "colab": {
          "base_uri": "https://localhost:8080/",
          "height": 322
        },
        "outputId": "09a091eb-fa50-4e06-a412-2faf0423f626"
      },
      "source": [
        "import matplotlib as mpl\n",
        "import matplotlib.pyplot as plt\n",
        "import mplfinance as mpf\n",
        "import matplotlib.patches as patches\n",
        "from mplfinance.original_flavor import candlestick_ohlc\n",
        "def draw_enveloppe_mobile(ticker,date_start,date_end,source,pourcentage):\n",
        "  PROJET = sqlite3.connect('PROJET.db')\n",
        "\n",
        "  query = \"SELECT * FROM Candlesticks WHERE ticker='\"+ticker+\"' AND date >= '\"+date_start.strftime(\"%Y/%m/%d\")+\"' AND date <= '\"+date_end.strftime(\"%Y/%m/%d\")+\"'\"\n",
        "  df=pd.read_sql_query(query,PROJET)\n",
        "\n",
        "  date_format = mpl.dates.DateFormatter('%d/%m/%Y')               #### on affiche les dates en format JJ/MM/AAAA\n",
        "  df.date=mpl.dates.date2num(pd.to_datetime(df.date))\n",
        "  df.index=df.date\n",
        "    ###Afiichage Candlesticks\n",
        "  fig, ax = plt.subplots()       \n",
        "  quot=df[['date','open_price','high_price','low_price','close_price']].values.tolist()\n",
        "  candlestick_ohlc(ax, quotes=quot)\n",
        "  y1=[]\n",
        "  y2=[]\n",
        "  indice=source+\"_price\"\n",
        "  nb_days_out=0\n",
        "  nb_days_in=0\n",
        "  df[\"moy_mob\"]=df.loc[:,indice].rolling(window=4).mean()\n",
        "  for index,row in df.iterrows():\n",
        "    y1.append(row[\"moy_mob\"]+pourcentage*row[\"moy_mob\"])\n",
        "    y2.append(row[\"moy_mob\"]-pourcentage*row[\"moy_mob\"])\n",
        "    if(row[indice]>row[\"moy_mob\"]+pourcentage*row[\"moy_mob\"]or row[indice]<row[\"moy_mob\"]-pourcentage*row[\"moy_mob\"]):\n",
        "      nb_days_out+=1\n",
        "    else:\n",
        "      nb_days_in+=1\n",
        "  blue_color=(0,0,1,0.2)\n",
        "  plt.fill_between(df.date,y1,y2,color=blue_color)\n",
        "\n",
        "  ax.xaxis.set_major_formatter(date_format)\n",
        "  ax.autoscale_view()\n",
        "  ax.grid(True)\n",
        "  fig.autofmt_xdate()\n",
        "  plt.show()\n",
        "  print(\"number of days: \"+str(df.shape[0]))\n",
        "  print(\"number of days outside the envelope: \"+str(nb_days_out))\n",
        "  print(\"number of days inside the envelope: \"+str(nb_days_in))\n",
        "\n",
        "draw_enveloppe_mobile(\"AAPL\", datetime(2020,1,9),datetime(2020,3,29), \"open\", 0.1)"
      ],
      "execution_count": 62,
      "outputs": [
        {
          "output_type": "display_data",
          "data": {
            "image/png": "[encoded data removed]",
            "text/plain": [
              "<Figure size 432x288 with 1 Axes>"
            ]
          },
          "metadata": {
            "tags": [],
            "needs_background": "light"
          }
        },
        {
          "output_type": "stream",
          "text": [
            "number of days: 55\n",
            "number of days outside the envelope: 0\n",
            "number of days inside the envelope: 55\n"
          ],
          "name": "stdout"
        }
      ]
    },
    {
      "cell_type": "markdown",
      "metadata": {
        "id": "LF-RkZpMBfyI",
        "colab_type": "text"
      },
      "source": [
        "QUESTION 10:"
      ]
    },
    {
      "cell_type": "code",
      "metadata": {
        "id": "eyrGbsABRPor",
        "colab_type": "code",
        "outputId": "201a716a-90c7-4278-dc66-212f91b534ef",
        "colab": {
          "base_uri": "https://localhost:8080/",
          "height": 282
        }
      },
      "source": [
        "def draw_graph_volume (ticker, date_debut,date_fin):\n",
        "    query = '''\n",
        "      SELECT open_price,close_price,high_price,low_price,date,volume\n",
        "      FROM Candlesticks WHERE (ticker IN (\\\"'''+ticker+\"\\\")\"+'''\n",
        "      AND (date>=\\''''+date_debut.strftime(\"%Y/%m/%d\")+\"\\' AND date<=\\'\"+date_fin.strftime(\"%Y/%m/%d\")+\"\\'))\"\n",
        "    PROJET = sqlite3.connect('PROJET.db')\n",
        "    cursor_PROJET = PROJET.cursor()\n",
        "    df=pd.read_sql_query(query,PROJET)\n",
        "    df.date=mpl.dates.date2num(pd.to_datetime(df.date))\n",
        "    date_format = mpl.dates.DateFormatter('%d/%m/%Y')\n",
        "    df.index=df.date \n",
        "    fig, ax = plt.subplots()\n",
        "    quot=df[['date','open_price','high_price','low_price','close_price']].values.tolist()\n",
        "    candlestick_ohlc(ax, quotes=quot)\n",
        "    ax.xaxis.set_major_formatter(date_format)\n",
        "    ax1 = ax.twinx()\n",
        "    color_list=[]\n",
        "    green_color=(0,1,0,0.2)\n",
        "    red_color=(1,0,0,0.2)\n",
        "    for index,row in df.iterrows():\n",
        "      if row.open_price> row.close_price:\n",
        "        color_list.append(red_color)\n",
        "      else:\n",
        "        color_list.append(green_color)\n",
        "    ax1.bar(df.date,df.volume,color=color_list)\n",
        "    ax.autoscale_view()\n",
        "    ax.grid(True)\n",
        "    fig.autofmt_xdate()\n",
        "    \n",
        "    plt.show()\n",
        "draw_graph_volume(\"AAPL\",datetime(2019,9,7),datetime(2019,12,21))"
      ],
      "execution_count": 40,
      "outputs": [
        {
          "output_type": "display_data",
          "data": {
            "image/png": "[encoded data removed]",
            "text/plain": [
              "<Figure size 432x288 with 2 Axes>"
            ]
          },
          "metadata": {
            "tags": [],
            "needs_background": "light"
          }
        }
      ]
    },
    {
      "cell_type": "markdown",
      "metadata": {
        "id": "Fte1AdGFBjWs",
        "colab_type": "text"
      },
      "source": [
        "QUESTION 11:"
      ]
    },
    {
      "cell_type": "code",
      "metadata": {
        "id": "uE3qhXv4w6uv",
        "colab_type": "code",
        "outputId": "f5ac1eef-ae59-44d7-cee8-94811838be5f",
        "colab": {
          "base_uri": "https://localhost:8080/",
          "height": 530
        }
      },
      "source": [
        "def draw_graph_vwap (ticker):  ###création d'une fonction comprenant comme argument le ticker\n",
        " #on sélectionne du tableau candlestick les high_price,low_price,close_price,open_price,volume,date\n",
        "  query = '''\n",
        "      SELECT high_price,low_price,close_price,open_price,volume,date\n",
        "      FROM Candlesticks WHERE ticker IN (\\\"'''+ticker+\"\\\")\"\n",
        "  PROJET = sqlite3.connect('PROJET.db')\n",
        "  cursor_PROJET = PROJET.cursor()\n",
        "  df=pd.read_sql_query(query,PROJET)\n",
        "  #####Calcul\n",
        "  sum_vol_mean=0 ####création compteur pour la moyenne du volume initialement nulle\n",
        "  sum_vol=0      ####création compteur pour le volume initialement nulle\n",
        "  vwap_list=[]   #### création d'une liste initialement vide\n",
        "\n",
        "  for index,row in df.iterrows():\n",
        "    typical_price=(row.high_price+row.low_price+row.close_price)/3            #### on calcule la valeur du typical price pour chaque jour pour chaque ticker\n",
        "    sum_vol_mean+=typical_price*row.volume                                    #### on cumule à la variable sum_vol_mean la valeur typical*volume pour chaque ticker pour chaque jour\n",
        "    sum_vol+=row.volume                                                       #### on cumule à la variable sum_vol la somme des volumes pour chaque jour pour chaque ticker\n",
        "    vwap_list.append(sum_vol_mean/sum_vol)                                    \n",
        "  df[\"vwap\"]=vwap_list                                                       #### on rajoute au tableau la colonne VWAP contenant les valeurs obtenues dans la liste vwap_list\n",
        "  #####Affichage\n",
        "  date_format = mpl.dates.DateFormatter('%d/%m/%Y')               #### on affiche les dates en format JJ/MM/AAAA\n",
        "  df.date=mpl.dates.date2num(pd.to_datetime(df.date))\n",
        "  df.index=df.date\n",
        "    ###Afiichage Candlesticks\n",
        "  fig, ax_vwap = plt.subplots()       \n",
        "  quot=df[['date','open_price','high_price','low_price','close_price']].values.tolist()\n",
        "  candlestick_ohlc(ax_vwap, quotes=quot)\n",
        "    ###Affichage VWAP\n",
        "  ax_vwap.plot(df.date,df.vwap)\n",
        "  ax_vwap.autoscale_view()\n",
        "  ax_vwap.grid(True)\n",
        "  ax_vwap.xaxis.set_major_formatter(date_format)\n",
        "  \n",
        "    ###Affichage volumes\n",
        "  fig, ax_vol = plt.subplots()\n",
        "  color_list=[]\n",
        "  green_color=(0,1,0,1)\n",
        "  red_color=(1,0,0,1)\n",
        "  for index,row in df.iterrows():\n",
        "    if row.open_price> row.close_price:\n",
        "      color_list.append(red_color)\n",
        "    else:\n",
        "      color_list.append(green_color)\n",
        "  ax_vol.bar(df.date,df.volume,color=color_list)\n",
        "  ax_vol.xaxis.set_major_formatter(date_format)\n",
        "    ###Affichage du tout\n",
        "  fig.autofmt_xdate()\n",
        "  plt.show()\n",
        "\n",
        "draw_graph_vwap(\"MSFT\")\n",
        "    "
      ],
      "execution_count": 41,
      "outputs": [
        {
          "output_type": "display_data",
          "data": {
            "image/png": "[encoded data removed]",
            "text/plain": [
              "<Figure size 432x288 with 1 Axes>"
            ]
          },
          "metadata": {
            "tags": [],
            "needs_background": "light"
          }
        },
        {
          "output_type": "display_data",
          "data": {
            "image/png": "[encoded data removed]",
            "text/plain": [
              "<Figure size 432x288 with 1 Axes>"
            ]
          },
          "metadata": {
            "tags": [],
            "needs_background": "light"
          }
        }
      ]
    }
  ]
}